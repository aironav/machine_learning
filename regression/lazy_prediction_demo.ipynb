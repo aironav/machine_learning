{
 "metadata": {
  "language_info": {
   "codemirror_mode": {
    "name": "ipython",
    "version": 3
   },
   "file_extension": ".py",
   "mimetype": "text/x-python",
   "name": "python",
   "nbconvert_exporter": "python",
   "pygments_lexer": "ipython3",
   "version": "3.8.6"
  },
  "orig_nbformat": 2,
  "kernelspec": {
   "name": "python386jvsc74a57bd09ad268fd485861c22c359044ed3ddbe8fb481338325f6875a93294b1083849ba",
   "display_name": "Python 3.8.6 64-bit"
  }
 },
 "nbformat": 4,
 "nbformat_minor": 2,
 "cells": [
  {
   "cell_type": "code",
   "execution_count": 1,
   "metadata": {},
   "outputs": [
    {
     "output_type": "stream",
     "name": "stderr",
     "text": [
      "C:\\Users\\xaidi\\AppData\\Local\\Programs\\Python\\Python38\\lib\\site-packages\\sklearn\\utils\\deprecation.py:143: FutureWarning: The sklearn.utils.testing module is  deprecated in version 0.22 and will be removed in version 0.24. The corresponding classes / functions should instead be imported from sklearn.utils. Anything that cannot be imported from sklearn.utils is now part of the private API.\n  warnings.warn(message, FutureWarning)\n"
     ]
    }
   ],
   "source": [
    "from lazypredict.Supervised import LazyRegressor\n",
    "from sklearn import datasets\n",
    "from sklearn.utils import shuffle\n",
    "import numpy as np"
   ]
  },
  {
   "cell_type": "code",
   "execution_count": 2,
   "metadata": {},
   "outputs": [],
   "source": [
    "boston = datasets.load_boston()\n",
    "X, y = shuffle(boston.data, boston.target, random_state=13)\n",
    "X = X.astype(np.float32)"
   ]
  },
  {
   "cell_type": "code",
   "execution_count": 3,
   "metadata": {},
   "outputs": [
    {
     "output_type": "stream",
     "name": "stderr",
     "text": [
      "100%|██████████| 42/42 [00:04<00:00,  8.84it/s]\n"
     ]
    }
   ],
   "source": [
    "offset = int(X.shape[0] * 0.9)\n",
    "\n",
    "X_train, y_train = X[:offset], y[:offset]\n",
    "X_test, y_test = X[offset:], y[offset:]\n",
    "\n",
    "reg = LazyRegressor(verbose=0, ignore_warnings=False, custom_metric=None)\n",
    "models, predictions = reg.fit(X_train, X_test, y_train, y_test)"
   ]
  },
  {
   "cell_type": "code",
   "execution_count": 4,
   "metadata": {},
   "outputs": [
    {
     "output_type": "stream",
     "name": "stdout",
     "text": [
      "                               Adjusted R-Squared  R-Squared  RMSE  Time Taken\nModel                                                                         \nSVR                                          0.83       0.88  2.62        0.04\nBaggingRegressor                             0.83       0.88  2.63        0.07\nNuSVR                                        0.82       0.86  2.76        0.03\nRandomForestRegressor                        0.81       0.86  2.78        0.50\nXGBRegressor                                 0.81       0.86  2.79        0.16\nGradientBoostingRegressor                    0.81       0.86  2.84        0.20\nExtraTreesRegressor                          0.79       0.84  2.98        0.33\nAdaBoostRegressor                            0.78       0.83  3.04        0.17\nHistGradientBoostingRegressor                0.77       0.83  3.06        1.21\nPoissonRegressor                             0.77       0.83  3.11        0.02\nLGBMRegressor                                0.77       0.83  3.11        0.14\nKNeighborsRegressor                          0.77       0.83  3.12        0.03\nDecisionTreeRegressor                        0.65       0.74  3.79        0.02\nMLPRegressor                                 0.65       0.74  3.80        0.92\nHuberRegressor                               0.64       0.74  3.84        0.04\nGammaRegressor                               0.64       0.73  3.88        0.02\nLinearSVR                                    0.62       0.72  3.96        0.02\nRidgeCV                                      0.62       0.72  3.97        0.01\nBayesianRidge                                0.62       0.72  3.97        0.02\nRidge                                        0.62       0.72  3.97        0.01\nTransformedTargetRegressor                   0.62       0.72  3.97        0.01\nLinearRegression                             0.62       0.72  3.97        0.02\nElasticNetCV                                 0.62       0.72  3.98        0.11\nLassoCV                                      0.62       0.72  3.98        0.12\nLassoLarsIC                                  0.62       0.72  3.98        0.02\nLassoLarsCV                                  0.62       0.72  3.98        0.05\nLars                                         0.61       0.72  3.99        0.03\nLarsCV                                       0.61       0.71  4.02        0.05\nSGDRegressor                                 0.60       0.70  4.07        0.02\nTweedieRegressor                             0.59       0.70  4.12        0.02\nGeneralizedLinearRegressor                   0.59       0.70  4.12        0.02\nElasticNet                                   0.58       0.69  4.16        0.02\nLasso                                        0.54       0.66  4.35        0.02\nRANSACRegressor                              0.53       0.65  4.41        0.09\nOrthogonalMatchingPursuitCV                  0.45       0.59  4.78        0.02\nPassiveAggressiveRegressor                   0.37       0.54  5.09        0.01\nGaussianProcessRegressor                     0.23       0.43  5.65        0.06\nOrthogonalMatchingPursuit                    0.16       0.38  5.89        0.02\nExtraTreeRegressor                           0.08       0.32  6.17        0.02\nDummyRegressor                              -0.38      -0.02  7.56        0.01\nLassoLars                                   -0.38      -0.02  7.56        0.02\nKernelRidge                                -11.50      -8.25 22.74        0.04\n"
     ]
    }
   ],
   "source": [
    "print(models)"
   ]
  },
  {
   "cell_type": "code",
   "execution_count": null,
   "metadata": {},
   "outputs": [],
   "source": []
  }
 ]
}