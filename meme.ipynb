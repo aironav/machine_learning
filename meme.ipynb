{
 "metadata": {
  "language_info": {
   "codemirror_mode": {
    "name": "ipython",
    "version": 3
   },
   "file_extension": ".py",
   "mimetype": "text/x-python",
   "name": "python",
   "nbconvert_exporter": "python",
   "pygments_lexer": "ipython3",
   "version": "3.8.8"
  },
  "orig_nbformat": 2,
  "kernelspec": {
   "name": "python388jvsc74a57bd01baa965d5efe3ac65b79dfc60c0d706280b1da80fedb7760faf2759126c4f253",
   "display_name": "Python 3.8.8 64-bit"
  },
  "metadata": {
   "interpreter": {
    "hash": "1baa965d5efe3ac65b79dfc60c0d706280b1da80fedb7760faf2759126c4f253"
   }
  }
 },
 "nbformat": 4,
 "nbformat_minor": 2,
 "cells": [
  {
   "cell_type": "code",
   "execution_count": 1,
   "metadata": {},
   "outputs": [],
   "source": [
    "from PIL import Image\n",
    "from PIL import ImageFont\n",
    "from PIL import ImageDraw"
   ]
  },
  {
   "cell_type": "code",
   "execution_count": 2,
   "metadata": {},
   "outputs": [],
   "source": [
    "im = Image.open(\"C:\\\\Users\\\\xaidi\\\\Desktop\\\\crap2\\\\download.jpg\")\n",
    "draw = ImageDraw.Draw(im)"
   ]
  },
  {
   "cell_type": "code",
   "execution_count": 3,
   "metadata": {},
   "outputs": [],
   "source": [
    "def drawText(msg, pos, fontSize = 56):\n",
    "    \n",
    "    lines = []\n",
    "\n",
    "    font = ImageFont.truetype(\"impact.ttf\", fontSize)\n",
    "    w, h = draw.textsize(msg, font)\n",
    "\n",
    "    imgWidthWithPadding = im.width * 0.99\n",
    "\n",
    "    # 1. how many lines for the msg to fit ?\n",
    "    lineCount = 1\n",
    "    if(w > imgWidthWithPadding):\n",
    "        lineCount = int(round((w / imgWidthWithPadding) + 1))\n",
    "\n",
    "    if lineCount > 2:\n",
    "        while 1:\n",
    "            fontSize -= 2\n",
    "            font = ImageFont.truetype(\"impact.ttf\", fontSize)\n",
    "            w, h = draw.textsize(msg, font)\n",
    "            lineCount = int(round((w / imgWidthWithPadding) + 1))\n",
    "            print(\"try again with fontSize={} => {}\".format(fontSize, lineCount))\n",
    "            if lineCount < 3 or fontSize < 10:\n",
    "                break\n",
    "\n",
    "\n",
    "    print(\"img.width: {}, text width: {}\".format(im.width, w))\n",
    "    print(\"Text length: {}\".format(len(msg)))\n",
    "    print(\"Lines: {}\".format(lineCount))\n",
    "\n",
    "\n",
    "    # 2. divide text in X lines\n",
    "    lastCut = 0\n",
    "    isLast = False\n",
    "    for i in range(0,lineCount):\n",
    "        if lastCut == 0:\n",
    "            cut = (len(msg) // lineCount) * i\n",
    "        else:\n",
    "            cut = lastCut\n",
    "\n",
    "        if i < lineCount-1:\n",
    "            nextCut = (len(msg) // lineCount) * (i+1)\n",
    "        else:\n",
    "            nextCut = len(msg)\n",
    "            isLast = True\n",
    "        print(\"cut: {} -> {}\".format(cut, nextCut))\n",
    "\n",
    "        # make sure we don't cut words in half\n",
    "        if nextCut == len(msg) or msg[nextCut] == \" \":\n",
    "            print(\"may cut\")\n",
    "        else:\n",
    "            print(\"may not cut\")\n",
    "            while msg[nextCut] != \" \":\n",
    "                nextCut += 1\n",
    "            print(\"new cut: {}\".format(nextCut))\n",
    "\n",
    "        print(type(nextCut),nextCut,type(cut),cut,msg)\n",
    "        line = msg[int(cut):nextCut].strip()\n",
    "\n",
    "        # is line still fitting ?\n",
    "        w, h = draw.textsize(line, font)\n",
    "        if not isLast and w > imgWidthWithPadding:\n",
    "            print(\"overshot\")\n",
    "            nextCut -= 1\n",
    "            while msg[nextCut] != \" \":\n",
    "                nextCut -= 1\n",
    "            print(\"new cut: {}\".format(nextCut))\n",
    "\n",
    "        lastCut = nextCut\n",
    "        lines.append(msg[cut:nextCut].strip())\n",
    "\n",
    "    print(lines)\n",
    "\n",
    "    # 3. print each line centered\n",
    "    lastY = -h\n",
    "    if pos == \"bottom\":\n",
    "        lastY = im.height - h * (lineCount+1) - 10\n",
    "\n",
    "    for i in range(0,lineCount):\n",
    "        w, h = draw.textsize(lines[i], font)\n",
    "        textX = im.width/2 - w/2\n",
    "        #if pos == \"top\":\n",
    "        #    textY = h * i\n",
    "        #else:\n",
    "        #    textY = im.height - h * i\n",
    "        textY = lastY + h\n",
    "        draw.text((textX-2, textY-2),lines[i],(0,0,0),font=font)\n",
    "        draw.text((textX+2, textY-2),lines[i],(0,0,0),font=font)\n",
    "        draw.text((textX+2, textY+2),lines[i],(0,0,0),font=font)\n",
    "        draw.text((textX-2, textY+2),lines[i],(0,0,0),font=font)\n",
    "        draw.text((textX, textY),lines[i],(255,255,255),font=font)\n",
    "        lastY = textY\n",
    "\n",
    "\n",
    "    return"
   ]
  },
  {
   "cell_type": "code",
   "execution_count": 4,
   "metadata": {},
   "outputs": [
    {
     "output_type": "stream",
     "name": "stdout",
     "text": [
      "img.width: 235, text width: 214\nText length: 15\nLines: 1\ncut: 0 -> 15\nmay cut\n<class 'int'> 15 <class 'int'> 0 When u are dumb\n['When u are dumb']\nimg.width: 235, text width: 169\nText length: 14\nLines: 1\ncut: 0 -> 14\nmay cut\n<class 'int'> 14 <class 'int'> 0 and beautiful \n['and beautiful']\n"
     ]
    }
   ],
   "source": [
    "drawText(\"When u are dumb\", \"top\",30)\n",
    "drawText(\"and beautiful \", \"bottom\",30)\n",
    "im.save('meme.jpg')"
   ]
  },
  {
   "cell_type": "code",
   "execution_count": null,
   "metadata": {},
   "outputs": [],
   "source": []
  },
  {
   "cell_type": "code",
   "execution_count": null,
   "metadata": {},
   "outputs": [],
   "source": []
  }
 ]
}