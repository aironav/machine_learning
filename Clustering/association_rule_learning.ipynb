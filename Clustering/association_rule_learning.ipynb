{
 "metadata": {
  "language_info": {
   "codemirror_mode": {
    "name": "ipython",
    "version": 3
   },
   "file_extension": ".py",
   "mimetype": "text/x-python",
   "name": "python",
   "nbconvert_exporter": "python",
   "pygments_lexer": "ipython3",
   "version": "3.8.8"
  },
  "orig_nbformat": 2,
  "kernelspec": {
   "name": "python388jvsc74a57bd01baa965d5efe3ac65b79dfc60c0d706280b1da80fedb7760faf2759126c4f253",
   "display_name": "Python 3.8.8 64-bit"
  },
  "metadata": {
   "interpreter": {
    "hash": "1baa965d5efe3ac65b79dfc60c0d706280b1da80fedb7760faf2759126c4f253"
   }
  }
 },
 "nbformat": 4,
 "nbformat_minor": 2,
 "cells": [
  {
   "cell_type": "code",
   "execution_count": 1,
   "metadata": {},
   "outputs": [],
   "source": [
    "import numpy as np\n",
    "import pandas as pd\n",
    "import seaborn as sns\n",
    "from mlxtend.frequent_patterns import apriori, association_rules"
   ]
  },
  {
   "cell_type": "code",
   "execution_count": 2,
   "metadata": {},
   "outputs": [],
   "source": [
    "df = pd.read_csv('../datasets/Online_Retail.csv',index_col='Unnamed: 0')"
   ]
  },
  {
   "cell_type": "code",
   "execution_count": 3,
   "metadata": {},
   "outputs": [
    {
     "output_type": "stream",
     "name": "stdout",
     "text": [
      "<class 'pandas.core.frame.DataFrame'>\nInt64Index: 541909 entries, 0 to 541908\nData columns (total 8 columns):\n #   Column         Non-Null Count   Dtype  \n---  ------         --------------   -----  \n 0   Country        541909 non-null  object \n 1   CustomerID     406829 non-null  float64\n 2   Description    540455 non-null  object \n 3   InvoiceNo      541909 non-null  object \n 4   Quantity       541909 non-null  float64\n 5   StockCode      541909 non-null  object \n 6   UnitPrice      541909 non-null  float64\n 7   InvoiceDate_1  541909 non-null  object \ndtypes: float64(3), object(5)\nmemory usage: 37.2+ MB\n"
     ]
    }
   ],
   "source": [
    "df.info()"
   ]
  },
  {
   "cell_type": "code",
   "execution_count": 4,
   "metadata": {},
   "outputs": [
    {
     "output_type": "execute_result",
     "data": {
      "text/plain": [
       "               Country     CustomerID                         Description  \\\n",
       "count           541909  406829.000000                              540455   \n",
       "unique              38            NaN                                4223   \n",
       "top     United Kingdom            NaN  WHITE HANGING HEART T-LIGHT HOLDER   \n",
       "freq            495478            NaN                                2369   \n",
       "mean               NaN   15287.690570                                 NaN   \n",
       "std                NaN    1713.600303                                 NaN   \n",
       "min                NaN   12346.000000                                 NaN   \n",
       "25%                NaN   13953.000000                                 NaN   \n",
       "50%                NaN   15152.000000                                 NaN   \n",
       "75%                NaN   16791.000000                                 NaN   \n",
       "max                NaN   18287.000000                                 NaN   \n",
       "\n",
       "       InvoiceNo       Quantity StockCode      UnitPrice        InvoiceDate_1  \n",
       "count     541909  541909.000000    541909  541909.000000               541909  \n",
       "unique     25900            NaN      4070            NaN                23260  \n",
       "top     573585.0            NaN    85123A            NaN  2011-10-31 14:41:00  \n",
       "freq        1114            NaN      2313            NaN                 1114  \n",
       "mean         NaN       9.552250       NaN       4.611114                  NaN  \n",
       "std          NaN     218.081158       NaN      96.759853                  NaN  \n",
       "min          NaN  -80995.000000       NaN  -11062.060000                  NaN  \n",
       "25%          NaN       1.000000       NaN       1.250000                  NaN  \n",
       "50%          NaN       3.000000       NaN       2.080000                  NaN  \n",
       "75%          NaN      10.000000       NaN       4.130000                  NaN  \n",
       "max          NaN   80995.000000       NaN   38970.000000                  NaN  "
      ],
      "text/html": "<div>\n<style scoped>\n    .dataframe tbody tr th:only-of-type {\n        vertical-align: middle;\n    }\n\n    .dataframe tbody tr th {\n        vertical-align: top;\n    }\n\n    .dataframe thead th {\n        text-align: right;\n    }\n</style>\n<table border=\"1\" class=\"dataframe\">\n  <thead>\n    <tr style=\"text-align: right;\">\n      <th></th>\n      <th>Country</th>\n      <th>CustomerID</th>\n      <th>Description</th>\n      <th>InvoiceNo</th>\n      <th>Quantity</th>\n      <th>StockCode</th>\n      <th>UnitPrice</th>\n      <th>InvoiceDate_1</th>\n    </tr>\n  </thead>\n  <tbody>\n    <tr>\n      <th>count</th>\n      <td>541909</td>\n      <td>406829.000000</td>\n      <td>540455</td>\n      <td>541909</td>\n      <td>541909.000000</td>\n      <td>541909</td>\n      <td>541909.000000</td>\n      <td>541909</td>\n    </tr>\n    <tr>\n      <th>unique</th>\n      <td>38</td>\n      <td>NaN</td>\n      <td>4223</td>\n      <td>25900</td>\n      <td>NaN</td>\n      <td>4070</td>\n      <td>NaN</td>\n      <td>23260</td>\n    </tr>\n    <tr>\n      <th>top</th>\n      <td>United Kingdom</td>\n      <td>NaN</td>\n      <td>WHITE HANGING HEART T-LIGHT HOLDER</td>\n      <td>573585.0</td>\n      <td>NaN</td>\n      <td>85123A</td>\n      <td>NaN</td>\n      <td>2011-10-31 14:41:00</td>\n    </tr>\n    <tr>\n      <th>freq</th>\n      <td>495478</td>\n      <td>NaN</td>\n      <td>2369</td>\n      <td>1114</td>\n      <td>NaN</td>\n      <td>2313</td>\n      <td>NaN</td>\n      <td>1114</td>\n    </tr>\n    <tr>\n      <th>mean</th>\n      <td>NaN</td>\n      <td>15287.690570</td>\n      <td>NaN</td>\n      <td>NaN</td>\n      <td>9.552250</td>\n      <td>NaN</td>\n      <td>4.611114</td>\n      <td>NaN</td>\n    </tr>\n    <tr>\n      <th>std</th>\n      <td>NaN</td>\n      <td>1713.600303</td>\n      <td>NaN</td>\n      <td>NaN</td>\n      <td>218.081158</td>\n      <td>NaN</td>\n      <td>96.759853</td>\n      <td>NaN</td>\n    </tr>\n    <tr>\n      <th>min</th>\n      <td>NaN</td>\n      <td>12346.000000</td>\n      <td>NaN</td>\n      <td>NaN</td>\n      <td>-80995.000000</td>\n      <td>NaN</td>\n      <td>-11062.060000</td>\n      <td>NaN</td>\n    </tr>\n    <tr>\n      <th>25%</th>\n      <td>NaN</td>\n      <td>13953.000000</td>\n      <td>NaN</td>\n      <td>NaN</td>\n      <td>1.000000</td>\n      <td>NaN</td>\n      <td>1.250000</td>\n      <td>NaN</td>\n    </tr>\n    <tr>\n      <th>50%</th>\n      <td>NaN</td>\n      <td>15152.000000</td>\n      <td>NaN</td>\n      <td>NaN</td>\n      <td>3.000000</td>\n      <td>NaN</td>\n      <td>2.080000</td>\n      <td>NaN</td>\n    </tr>\n    <tr>\n      <th>75%</th>\n      <td>NaN</td>\n      <td>16791.000000</td>\n      <td>NaN</td>\n      <td>NaN</td>\n      <td>10.000000</td>\n      <td>NaN</td>\n      <td>4.130000</td>\n      <td>NaN</td>\n    </tr>\n    <tr>\n      <th>max</th>\n      <td>NaN</td>\n      <td>18287.000000</td>\n      <td>NaN</td>\n      <td>NaN</td>\n      <td>80995.000000</td>\n      <td>NaN</td>\n      <td>38970.000000</td>\n      <td>NaN</td>\n    </tr>\n  </tbody>\n</table>\n</div>"
     },
     "metadata": {},
     "execution_count": 4
    }
   ],
   "source": [
    "df.describe(include='all')"
   ]
  },
  {
   "cell_type": "code",
   "execution_count": 5,
   "metadata": {},
   "outputs": [
    {
     "output_type": "execute_result",
     "data": {
      "text/plain": [
       "          Country  CustomerID                          Description InvoiceNo  \\\n",
       "0  United Kingdom     17850.0   WHITE HANGING HEART T-LIGHT HOLDER  536365.0   \n",
       "1  United Kingdom     17850.0                  WHITE METAL LANTERN  536365.0   \n",
       "2  United Kingdom     17850.0       CREAM CUPID HEARTS COAT HANGER  536365.0   \n",
       "3  United Kingdom     17850.0  KNITTED UNION FLAG HOT WATER BOTTLE  536365.0   \n",
       "4  United Kingdom     17850.0       RED WOOLLY HOTTIE WHITE HEART.  536365.0   \n",
       "\n",
       "   Quantity StockCode  UnitPrice        InvoiceDate_1  \n",
       "0       6.0    85123A       2.55  2010-12-01 08:26:00  \n",
       "1       6.0   71053.0       3.39  2010-12-01 08:26:00  \n",
       "2       8.0    84406B       2.75  2010-12-01 08:26:00  \n",
       "3       6.0    84029G       3.39  2010-12-01 08:26:00  \n",
       "4       6.0    84029E       3.39  2010-12-01 08:26:00  "
      ],
      "text/html": "<div>\n<style scoped>\n    .dataframe tbody tr th:only-of-type {\n        vertical-align: middle;\n    }\n\n    .dataframe tbody tr th {\n        vertical-align: top;\n    }\n\n    .dataframe thead th {\n        text-align: right;\n    }\n</style>\n<table border=\"1\" class=\"dataframe\">\n  <thead>\n    <tr style=\"text-align: right;\">\n      <th></th>\n      <th>Country</th>\n      <th>CustomerID</th>\n      <th>Description</th>\n      <th>InvoiceNo</th>\n      <th>Quantity</th>\n      <th>StockCode</th>\n      <th>UnitPrice</th>\n      <th>InvoiceDate_1</th>\n    </tr>\n  </thead>\n  <tbody>\n    <tr>\n      <th>0</th>\n      <td>United Kingdom</td>\n      <td>17850.0</td>\n      <td>WHITE HANGING HEART T-LIGHT HOLDER</td>\n      <td>536365.0</td>\n      <td>6.0</td>\n      <td>85123A</td>\n      <td>2.55</td>\n      <td>2010-12-01 08:26:00</td>\n    </tr>\n    <tr>\n      <th>1</th>\n      <td>United Kingdom</td>\n      <td>17850.0</td>\n      <td>WHITE METAL LANTERN</td>\n      <td>536365.0</td>\n      <td>6.0</td>\n      <td>71053.0</td>\n      <td>3.39</td>\n      <td>2010-12-01 08:26:00</td>\n    </tr>\n    <tr>\n      <th>2</th>\n      <td>United Kingdom</td>\n      <td>17850.0</td>\n      <td>CREAM CUPID HEARTS COAT HANGER</td>\n      <td>536365.0</td>\n      <td>8.0</td>\n      <td>84406B</td>\n      <td>2.75</td>\n      <td>2010-12-01 08:26:00</td>\n    </tr>\n    <tr>\n      <th>3</th>\n      <td>United Kingdom</td>\n      <td>17850.0</td>\n      <td>KNITTED UNION FLAG HOT WATER BOTTLE</td>\n      <td>536365.0</td>\n      <td>6.0</td>\n      <td>84029G</td>\n      <td>3.39</td>\n      <td>2010-12-01 08:26:00</td>\n    </tr>\n    <tr>\n      <th>4</th>\n      <td>United Kingdom</td>\n      <td>17850.0</td>\n      <td>RED WOOLLY HOTTIE WHITE HEART.</td>\n      <td>536365.0</td>\n      <td>6.0</td>\n      <td>84029E</td>\n      <td>3.39</td>\n      <td>2010-12-01 08:26:00</td>\n    </tr>\n  </tbody>\n</table>\n</div>"
     },
     "metadata": {},
     "execution_count": 5
    }
   ],
   "source": [
    "df.head()"
   ]
  },
  {
   "cell_type": "code",
   "execution_count": 6,
   "metadata": {},
   "outputs": [
    {
     "output_type": "execute_result",
     "data": {
      "text/plain": [
       "0          white hanging heart t-light holder\n",
       "1                         white metal lantern\n",
       "2              cream cupid hearts coat hanger\n",
       "3         knitted union flag hot water bottle\n",
       "4              red woolly hottie white heart.\n",
       "                         ...                 \n",
       "541904            pack of 20 spaceboy napkins\n",
       "541905            children's apron dolly girl\n",
       "541906           childrens cutlery dolly girl\n",
       "541907        childrens cutlery circus parade\n",
       "541908           baking set 9 piece retrospot\n",
       "Name: Description, Length: 541909, dtype: object"
      ]
     },
     "metadata": {},
     "execution_count": 6
    }
   ],
   "source": [
    "df['Description']=df['Description'].str.strip()\n",
    "df['Description']=df['Description'].str.lower()\n",
    "df['Description']"
   ]
  },
  {
   "cell_type": "code",
   "execution_count": 7,
   "metadata": {},
   "outputs": [
    {
     "output_type": "execute_result",
     "data": {
      "text/plain": [
       "4194"
      ]
     },
     "metadata": {},
     "execution_count": 7
    }
   ],
   "source": [
    "df['Description'].nunique()"
   ]
  },
  {
   "cell_type": "code",
   "execution_count": 8,
   "metadata": {},
   "outputs": [
    {
     "output_type": "execute_result",
     "data": {
      "text/plain": [
       "array(['white hanging heart t-light holder', 'white metal lantern',\n",
       "       'cream cupid hearts coat hanger', ..., 'lost',\n",
       "       'cream hanging heart t-light holder',\n",
       "       'paper craft , little birdie'], dtype=object)"
      ]
     },
     "metadata": {},
     "execution_count": 8
    }
   ],
   "source": [
    "df['Description'].unique()"
   ]
  },
  {
   "cell_type": "code",
   "execution_count": 9,
   "metadata": {},
   "outputs": [
    {
     "output_type": "execute_result",
     "data": {
      "text/plain": [
       "0         536365.0\n",
       "1         536365.0\n",
       "2         536365.0\n",
       "3         536365.0\n",
       "4         536365.0\n",
       "            ...   \n",
       "540449     C581490\n",
       "541541     C581499\n",
       "541715     C581568\n",
       "541716     C581569\n",
       "541717     C581569\n",
       "Name: InvoiceNo, Length: 541909, dtype: object"
      ]
     },
     "metadata": {},
     "execution_count": 9
    }
   ],
   "source": [
    "df['InvoiceNo'].sort_values()"
   ]
  },
  {
   "cell_type": "code",
   "execution_count": 10,
   "metadata": {},
   "outputs": [],
   "source": [
    "def clean_invoice(invoice):\n",
    "    invoice = invoice.replace('.','')\n",
    "    if invoice.isalnum():\n",
    "        return int(invoice[1:])\n",
    "    return int(invoice)"
   ]
  },
  {
   "cell_type": "code",
   "execution_count": 11,
   "metadata": {},
   "outputs": [
    {
     "output_type": "execute_result",
     "data": {
      "text/plain": [
       "0         363650\n",
       "1         363650\n",
       "2         363650\n",
       "3         363650\n",
       "4         363650\n",
       "           ...  \n",
       "541896    815870\n",
       "541895    815870\n",
       "541907    815870\n",
       "541900    815870\n",
       "541908    815870\n",
       "Name: InvoiceNo, Length: 541909, dtype: int64"
      ]
     },
     "metadata": {},
     "execution_count": 11
    }
   ],
   "source": [
    "df['InvoiceNo']=df['InvoiceNo'].apply(clean_invoice)\n",
    "df['InvoiceNo'].sort_values()"
   ]
  },
  {
   "cell_type": "code",
   "execution_count": 12,
   "metadata": {},
   "outputs": [
    {
     "output_type": "execute_result",
     "data": {
      "text/plain": [
       "           Description\n",
       "InvoiceNo             \n",
       "514290               0\n",
       "486840               0\n",
       "543520               0\n",
       "486830               0\n",
       "773390               0\n",
       "...                ...\n",
       "584750             705\n",
       "807290             721\n",
       "814920             731\n",
       "812190             749\n",
       "735850            1114\n",
       "\n",
       "[25723 rows x 1 columns]"
      ],
      "text/html": "<div>\n<style scoped>\n    .dataframe tbody tr th:only-of-type {\n        vertical-align: middle;\n    }\n\n    .dataframe tbody tr th {\n        vertical-align: top;\n    }\n\n    .dataframe thead th {\n        text-align: right;\n    }\n</style>\n<table border=\"1\" class=\"dataframe\">\n  <thead>\n    <tr style=\"text-align: right;\">\n      <th></th>\n      <th>Description</th>\n    </tr>\n    <tr>\n      <th>InvoiceNo</th>\n      <th></th>\n    </tr>\n  </thead>\n  <tbody>\n    <tr>\n      <th>514290</th>\n      <td>0</td>\n    </tr>\n    <tr>\n      <th>486840</th>\n      <td>0</td>\n    </tr>\n    <tr>\n      <th>543520</th>\n      <td>0</td>\n    </tr>\n    <tr>\n      <th>486830</th>\n      <td>0</td>\n    </tr>\n    <tr>\n      <th>773390</th>\n      <td>0</td>\n    </tr>\n    <tr>\n      <th>...</th>\n      <td>...</td>\n    </tr>\n    <tr>\n      <th>584750</th>\n      <td>705</td>\n    </tr>\n    <tr>\n      <th>807290</th>\n      <td>721</td>\n    </tr>\n    <tr>\n      <th>814920</th>\n      <td>731</td>\n    </tr>\n    <tr>\n      <th>812190</th>\n      <td>749</td>\n    </tr>\n    <tr>\n      <th>735850</th>\n      <td>1114</td>\n    </tr>\n  </tbody>\n</table>\n<p>25723 rows × 1 columns</p>\n</div>"
     },
     "metadata": {},
     "execution_count": 12
    }
   ],
   "source": [
    "df[['Description','InvoiceNo']].groupby(by='InvoiceNo').count().sort_values(by='Description')"
   ]
  },
  {
   "cell_type": "code",
   "execution_count": 13,
   "metadata": {},
   "outputs": [
    {
     "output_type": "execute_result",
     "data": {
      "text/plain": [
       "array(['United Kingdom', 'France', 'Australia', 'Netherlands', 'Germany',\n",
       "       'Norway', 'EIRE', 'Switzerland', 'Spain', 'Poland', 'Portugal',\n",
       "       'Italy', 'Belgium', 'Lithuania', 'Japan', 'Iceland',\n",
       "       'Channel Islands', 'Denmark', 'Cyprus', 'Sweden', 'Austria',\n",
       "       'Israel', 'Finland', 'Bahrain', 'Greece', 'Hong Kong', 'Singapore',\n",
       "       'Lebanon', 'United Arab Emirates', 'Saudi Arabia',\n",
       "       'Czech Republic', 'Canada', 'Unspecified', 'Brazil', 'USA',\n",
       "       'European Community', 'Malta', 'RSA'], dtype=object)"
      ]
     },
     "metadata": {},
     "execution_count": 13
    }
   ],
   "source": [
    "df['Country'].unique()"
   ]
  },
  {
   "cell_type": "code",
   "execution_count": 14,
   "metadata": {},
   "outputs": [
    {
     "output_type": "execute_result",
     "data": {
      "text/plain": [
       "           Country  InvoiceNo  Description\n",
       "0        Australia     363890           14\n",
       "1        Australia     376760            8\n",
       "2        Australia     394190           10\n",
       "3        Australia     402670           46\n",
       "4        Australia     402800            2\n",
       "...            ...        ...          ...\n",
       "25744  Unspecified     639470            7\n",
       "25745  Unspecified     640510           16\n",
       "25746  Unspecified     653030           66\n",
       "25747  Unspecified     766460           19\n",
       "25748  Unspecified     785390           34\n",
       "\n",
       "[25749 rows x 3 columns]"
      ],
      "text/html": "<div>\n<style scoped>\n    .dataframe tbody tr th:only-of-type {\n        vertical-align: middle;\n    }\n\n    .dataframe tbody tr th {\n        vertical-align: top;\n    }\n\n    .dataframe thead th {\n        text-align: right;\n    }\n</style>\n<table border=\"1\" class=\"dataframe\">\n  <thead>\n    <tr style=\"text-align: right;\">\n      <th></th>\n      <th>Country</th>\n      <th>InvoiceNo</th>\n      <th>Description</th>\n    </tr>\n  </thead>\n  <tbody>\n    <tr>\n      <th>0</th>\n      <td>Australia</td>\n      <td>363890</td>\n      <td>14</td>\n    </tr>\n    <tr>\n      <th>1</th>\n      <td>Australia</td>\n      <td>376760</td>\n      <td>8</td>\n    </tr>\n    <tr>\n      <th>2</th>\n      <td>Australia</td>\n      <td>394190</td>\n      <td>10</td>\n    </tr>\n    <tr>\n      <th>3</th>\n      <td>Australia</td>\n      <td>402670</td>\n      <td>46</td>\n    </tr>\n    <tr>\n      <th>4</th>\n      <td>Australia</td>\n      <td>402800</td>\n      <td>2</td>\n    </tr>\n    <tr>\n      <th>...</th>\n      <td>...</td>\n      <td>...</td>\n      <td>...</td>\n    </tr>\n    <tr>\n      <th>25744</th>\n      <td>Unspecified</td>\n      <td>639470</td>\n      <td>7</td>\n    </tr>\n    <tr>\n      <th>25745</th>\n      <td>Unspecified</td>\n      <td>640510</td>\n      <td>16</td>\n    </tr>\n    <tr>\n      <th>25746</th>\n      <td>Unspecified</td>\n      <td>653030</td>\n      <td>66</td>\n    </tr>\n    <tr>\n      <th>25747</th>\n      <td>Unspecified</td>\n      <td>766460</td>\n      <td>19</td>\n    </tr>\n    <tr>\n      <th>25748</th>\n      <td>Unspecified</td>\n      <td>785390</td>\n      <td>34</td>\n    </tr>\n  </tbody>\n</table>\n<p>25749 rows × 3 columns</p>\n</div>"
     },
     "metadata": {},
     "execution_count": 14
    }
   ],
   "source": [
    "df[['Country','Description','InvoiceNo']].groupby(['Country','InvoiceNo']).count().reset_index()"
   ]
  },
  {
   "cell_type": "code",
   "execution_count": 15,
   "metadata": {},
   "outputs": [
    {
     "output_type": "execute_result",
     "data": {
      "text/plain": [
       "United Kingdom          495478\n",
       "Germany                   9495\n",
       "France                    8557\n",
       "EIRE                      8196\n",
       "Spain                     2533\n",
       "Netherlands               2371\n",
       "Belgium                   2069\n",
       "Switzerland               2002\n",
       "Portugal                  1519\n",
       "Australia                 1259\n",
       "Norway                    1086\n",
       "Italy                      803\n",
       "Channel Islands            758\n",
       "Finland                    695\n",
       "Cyprus                     622\n",
       "Sweden                     462\n",
       "Unspecified                446\n",
       "Austria                    401\n",
       "Denmark                    389\n",
       "Japan                      358\n",
       "Poland                     341\n",
       "Israel                     297\n",
       "USA                        291\n",
       "Hong Kong                  288\n",
       "Singapore                  229\n",
       "Iceland                    182\n",
       "Canada                     151\n",
       "Greece                     146\n",
       "Malta                      127\n",
       "United Arab Emirates        68\n",
       "European Community          61\n",
       "RSA                         58\n",
       "Lebanon                     45\n",
       "Lithuania                   35\n",
       "Brazil                      32\n",
       "Czech Republic              30\n",
       "Bahrain                     19\n",
       "Saudi Arabia                10\n",
       "Name: Country, dtype: int64"
      ]
     },
     "metadata": {},
     "execution_count": 15
    }
   ],
   "source": [
    "df['Country'].value_counts()"
   ]
  },
  {
   "source": [
    "# main code"
   ],
   "cell_type": "markdown",
   "metadata": {}
  },
  {
   "cell_type": "code",
   "execution_count": 17,
   "metadata": {},
   "outputs": [],
   "source": [
    "germanydf = df[df.Country=='Germany'].copy()"
   ]
  },
  {
   "cell_type": "code",
   "execution_count": 18,
   "metadata": {},
   "outputs": [
    {
     "output_type": "execute_result",
     "data": {
      "text/plain": [
       "        Country  CustomerID                          Description  InvoiceNo  \\\n",
       "1109    Germany     12662.0              set of 6 t-lights santa     365270   \n",
       "1110    Germany     12662.0  rotating silver angels t-light hldr     365270   \n",
       "1111    Germany     12662.0   multi colour silver t-light holder     365270   \n",
       "1112    Germany     12662.0        5 hook hanger magic toadstool     365270   \n",
       "1113    Germany     12662.0           3 hook hanger magic garden     365270   \n",
       "...         ...         ...                                  ...        ...   \n",
       "541801  Germany     12713.0         set of 4 pantry jelly moulds     815780   \n",
       "541802  Germany     12713.0     pack of 20 napkins pantry design     815780   \n",
       "541803  Germany     12713.0        pack of 20 napkins red apples     815780   \n",
       "541804  Germany     12713.0     jingle bell heart antique silver     815780   \n",
       "541805  Germany     12713.0           ribbon reel making snowmen     815780   \n",
       "\n",
       "        Quantity StockCode  UnitPrice        InvoiceDate_1  \n",
       "1109         6.0   22809.0       2.95  2010-12-01 13:04:00  \n",
       "1110         6.0   84347.0       2.55  2010-12-01 13:04:00  \n",
       "1111        12.0   84945.0       0.85  2010-12-01 13:04:00  \n",
       "1112        12.0   22242.0       1.65  2010-12-01 13:04:00  \n",
       "1113        12.0   22244.0       1.95  2010-12-01 13:04:00  \n",
       "...          ...       ...        ...                  ...  \n",
       "541801      12.0   22993.0       1.25  2011-12-09 12:16:00  \n",
       "541802      12.0   22907.0       0.85  2011-12-09 12:16:00  \n",
       "541803      12.0   22908.0       0.85  2011-12-09 12:16:00  \n",
       "541804      12.0   23215.0       2.08  2011-12-09 12:16:00  \n",
       "541805      10.0   22736.0       1.65  2011-12-09 12:16:00  \n",
       "\n",
       "[9495 rows x 8 columns]"
      ],
      "text/html": "<div>\n<style scoped>\n    .dataframe tbody tr th:only-of-type {\n        vertical-align: middle;\n    }\n\n    .dataframe tbody tr th {\n        vertical-align: top;\n    }\n\n    .dataframe thead th {\n        text-align: right;\n    }\n</style>\n<table border=\"1\" class=\"dataframe\">\n  <thead>\n    <tr style=\"text-align: right;\">\n      <th></th>\n      <th>Country</th>\n      <th>CustomerID</th>\n      <th>Description</th>\n      <th>InvoiceNo</th>\n      <th>Quantity</th>\n      <th>StockCode</th>\n      <th>UnitPrice</th>\n      <th>InvoiceDate_1</th>\n    </tr>\n  </thead>\n  <tbody>\n    <tr>\n      <th>1109</th>\n      <td>Germany</td>\n      <td>12662.0</td>\n      <td>set of 6 t-lights santa</td>\n      <td>365270</td>\n      <td>6.0</td>\n      <td>22809.0</td>\n      <td>2.95</td>\n      <td>2010-12-01 13:04:00</td>\n    </tr>\n    <tr>\n      <th>1110</th>\n      <td>Germany</td>\n      <td>12662.0</td>\n      <td>rotating silver angels t-light hldr</td>\n      <td>365270</td>\n      <td>6.0</td>\n      <td>84347.0</td>\n      <td>2.55</td>\n      <td>2010-12-01 13:04:00</td>\n    </tr>\n    <tr>\n      <th>1111</th>\n      <td>Germany</td>\n      <td>12662.0</td>\n      <td>multi colour silver t-light holder</td>\n      <td>365270</td>\n      <td>12.0</td>\n      <td>84945.0</td>\n      <td>0.85</td>\n      <td>2010-12-01 13:04:00</td>\n    </tr>\n    <tr>\n      <th>1112</th>\n      <td>Germany</td>\n      <td>12662.0</td>\n      <td>5 hook hanger magic toadstool</td>\n      <td>365270</td>\n      <td>12.0</td>\n      <td>22242.0</td>\n      <td>1.65</td>\n      <td>2010-12-01 13:04:00</td>\n    </tr>\n    <tr>\n      <th>1113</th>\n      <td>Germany</td>\n      <td>12662.0</td>\n      <td>3 hook hanger magic garden</td>\n      <td>365270</td>\n      <td>12.0</td>\n      <td>22244.0</td>\n      <td>1.95</td>\n      <td>2010-12-01 13:04:00</td>\n    </tr>\n    <tr>\n      <th>...</th>\n      <td>...</td>\n      <td>...</td>\n      <td>...</td>\n      <td>...</td>\n      <td>...</td>\n      <td>...</td>\n      <td>...</td>\n      <td>...</td>\n    </tr>\n    <tr>\n      <th>541801</th>\n      <td>Germany</td>\n      <td>12713.0</td>\n      <td>set of 4 pantry jelly moulds</td>\n      <td>815780</td>\n      <td>12.0</td>\n      <td>22993.0</td>\n      <td>1.25</td>\n      <td>2011-12-09 12:16:00</td>\n    </tr>\n    <tr>\n      <th>541802</th>\n      <td>Germany</td>\n      <td>12713.0</td>\n      <td>pack of 20 napkins pantry design</td>\n      <td>815780</td>\n      <td>12.0</td>\n      <td>22907.0</td>\n      <td>0.85</td>\n      <td>2011-12-09 12:16:00</td>\n    </tr>\n    <tr>\n      <th>541803</th>\n      <td>Germany</td>\n      <td>12713.0</td>\n      <td>pack of 20 napkins red apples</td>\n      <td>815780</td>\n      <td>12.0</td>\n      <td>22908.0</td>\n      <td>0.85</td>\n      <td>2011-12-09 12:16:00</td>\n    </tr>\n    <tr>\n      <th>541804</th>\n      <td>Germany</td>\n      <td>12713.0</td>\n      <td>jingle bell heart antique silver</td>\n      <td>815780</td>\n      <td>12.0</td>\n      <td>23215.0</td>\n      <td>2.08</td>\n      <td>2011-12-09 12:16:00</td>\n    </tr>\n    <tr>\n      <th>541805</th>\n      <td>Germany</td>\n      <td>12713.0</td>\n      <td>ribbon reel making snowmen</td>\n      <td>815780</td>\n      <td>10.0</td>\n      <td>22736.0</td>\n      <td>1.65</td>\n      <td>2011-12-09 12:16:00</td>\n    </tr>\n  </tbody>\n</table>\n<p>9495 rows × 8 columns</p>\n</div>"
     },
     "metadata": {},
     "execution_count": 18
    }
   ],
   "source": [
    "germanydf"
   ]
  },
  {
   "cell_type": "code",
   "execution_count": 25,
   "metadata": {},
   "outputs": [],
   "source": [
    "pivotdata = germanydf.groupby(['InvoiceNo','Description'])['Quantity'].sum().unstack()"
   ]
  },
  {
   "cell_type": "code",
   "execution_count": 26,
   "metadata": {},
   "outputs": [
    {
     "output_type": "execute_result",
     "data": {
      "text/plain": [
       "Description  10 colour spaceboy pen  12 coloured party balloons  \\\n",
       "InvoiceNo                                                         \n",
       "365270                          NaN                         NaN   \n",
       "368400                          NaN                         NaN   \n",
       "368610                          NaN                         NaN   \n",
       "369670                          NaN                         NaN   \n",
       "369830                          NaN                         NaN   \n",
       "...                             ...                         ...   \n",
       "812660                          NaN                         NaN   \n",
       "814940                          NaN                         NaN   \n",
       "815700                          NaN                         NaN   \n",
       "815740                          NaN                         NaN   \n",
       "815780                          NaN                         NaN   \n",
       "\n",
       "Description  12 ivory rose peg place settings  \\\n",
       "InvoiceNo                                       \n",
       "365270                                    NaN   \n",
       "368400                                    NaN   \n",
       "368610                                    NaN   \n",
       "369670                                    NaN   \n",
       "369830                                    NaN   \n",
       "...                                       ...   \n",
       "812660                                    NaN   \n",
       "814940                                    NaN   \n",
       "815700                                    NaN   \n",
       "815740                                    NaN   \n",
       "815780                                    NaN   \n",
       "\n",
       "Description  12 message cards with envelopes  12 pencil small tube woodland  \\\n",
       "InvoiceNo                                                                     \n",
       "365270                                   NaN                            NaN   \n",
       "368400                                   NaN                            NaN   \n",
       "368610                                   NaN                            NaN   \n",
       "369670                                   NaN                            NaN   \n",
       "369830                                   NaN                            NaN   \n",
       "...                                      ...                            ...   \n",
       "812660                                   NaN                            NaN   \n",
       "814940                                   NaN                            NaN   \n",
       "815700                                   NaN                            NaN   \n",
       "815740                                   NaN                            NaN   \n",
       "815780                                   NaN                            NaN   \n",
       "\n",
       "Description  12 pencils small tube red retrospot  12 pencils small tube skull  \\\n",
       "InvoiceNo                                                                       \n",
       "365270                                       NaN                          NaN   \n",
       "368400                                       NaN                          NaN   \n",
       "368610                                       NaN                          NaN   \n",
       "369670                                       NaN                          NaN   \n",
       "369830                                       NaN                          NaN   \n",
       "...                                          ...                          ...   \n",
       "812660                                       NaN                          NaN   \n",
       "814940                                       NaN                          NaN   \n",
       "815700                                       NaN                          NaN   \n",
       "815740                                       NaN                          NaN   \n",
       "815780                                       NaN                          NaN   \n",
       "\n",
       "Description  12 pencils tall tube posy  12 pencils tall tube red retrospot  \\\n",
       "InvoiceNo                                                                    \n",
       "365270                             NaN                                 NaN   \n",
       "368400                             NaN                                 NaN   \n",
       "368610                             NaN                                 NaN   \n",
       "369670                             NaN                                 NaN   \n",
       "369830                             NaN                                 NaN   \n",
       "...                                ...                                 ...   \n",
       "812660                             NaN                                 NaN   \n",
       "814940                             NaN                                 NaN   \n",
       "815700                             NaN                                 NaN   \n",
       "815740                             NaN                                 NaN   \n",
       "815780                             NaN                                 NaN   \n",
       "\n",
       "Description  12 pencils tall tube skulls  ...  yuletide images gift wrap set  \\\n",
       "InvoiceNo                                 ...                                  \n",
       "365270                               NaN  ...                            NaN   \n",
       "368400                               NaN  ...                            NaN   \n",
       "368610                               NaN  ...                            NaN   \n",
       "369670                               NaN  ...                            NaN   \n",
       "369830                               NaN  ...                            NaN   \n",
       "...                                  ...  ...                            ...   \n",
       "812660                               NaN  ...                            NaN   \n",
       "814940                               NaN  ...                            NaN   \n",
       "815700                               NaN  ...                            NaN   \n",
       "815740                               NaN  ...                            NaN   \n",
       "815780                               NaN  ...                            NaN   \n",
       "\n",
       "Description  zinc  heart t-light holder  zinc  star t-light holder  \\\n",
       "InvoiceNo                                                            \n",
       "365270                              NaN                        NaN   \n",
       "368400                              NaN                        NaN   \n",
       "368610                              NaN                        NaN   \n",
       "369670                              NaN                        NaN   \n",
       "369830                              NaN                        NaN   \n",
       "...                                 ...                        ...   \n",
       "812660                              NaN                        NaN   \n",
       "814940                              NaN                        NaN   \n",
       "815700                              NaN                        NaN   \n",
       "815740                              NaN                        NaN   \n",
       "815780                              NaN                        NaN   \n",
       "\n",
       "Description  zinc box sign home  zinc folkart sleigh bells  \\\n",
       "InvoiceNo                                                    \n",
       "365270                      NaN                        NaN   \n",
       "368400                      NaN                        NaN   \n",
       "368610                      NaN                        NaN   \n",
       "369670                      NaN                        NaN   \n",
       "369830                      NaN                        NaN   \n",
       "...                         ...                        ...   \n",
       "812660                      NaN                        NaN   \n",
       "814940                      NaN                        NaN   \n",
       "815700                      NaN                        NaN   \n",
       "815740                      NaN                        NaN   \n",
       "815780                      NaN                        NaN   \n",
       "\n",
       "Description  zinc heart lattice t-light holder  zinc metal heart decoration  \\\n",
       "InvoiceNo                                                                     \n",
       "365270                                     NaN                          NaN   \n",
       "368400                                     NaN                          NaN   \n",
       "368610                                     NaN                          NaN   \n",
       "369670                                     NaN                          NaN   \n",
       "369830                                     NaN                          NaN   \n",
       "...                                        ...                          ...   \n",
       "812660                                     NaN                          NaN   \n",
       "814940                                     NaN                          NaN   \n",
       "815700                                     NaN                          NaN   \n",
       "815740                                     NaN                          NaN   \n",
       "815780                                     NaN                          NaN   \n",
       "\n",
       "Description  zinc t-light holder star large  zinc t-light holder stars small  \\\n",
       "InvoiceNo                                                                      \n",
       "365270                                  NaN                              NaN   \n",
       "368400                                  NaN                              NaN   \n",
       "368610                                  NaN                              NaN   \n",
       "369670                                  NaN                              NaN   \n",
       "369830                                  NaN                              NaN   \n",
       "...                                     ...                              ...   \n",
       "812660                                  NaN                              NaN   \n",
       "814940                                  NaN                              NaN   \n",
       "815700                                  NaN                              NaN   \n",
       "815740                                  NaN                              NaN   \n",
       "815780                                  NaN                              NaN   \n",
       "\n",
       "Description  zinc willie winkie  candle stick  \n",
       "InvoiceNo                                      \n",
       "365270                                    NaN  \n",
       "368400                                    NaN  \n",
       "368610                                    NaN  \n",
       "369670                                    NaN  \n",
       "369830                                    NaN  \n",
       "...                                       ...  \n",
       "812660                                    NaN  \n",
       "814940                                    NaN  \n",
       "815700                                    NaN  \n",
       "815740                                    NaN  \n",
       "815780                                    NaN  \n",
       "\n",
       "[603 rows x 1701 columns]"
      ],
      "text/html": "<div>\n<style scoped>\n    .dataframe tbody tr th:only-of-type {\n        vertical-align: middle;\n    }\n\n    .dataframe tbody tr th {\n        vertical-align: top;\n    }\n\n    .dataframe thead th {\n        text-align: right;\n    }\n</style>\n<table border=\"1\" class=\"dataframe\">\n  <thead>\n    <tr style=\"text-align: right;\">\n      <th>Description</th>\n      <th>10 colour spaceboy pen</th>\n      <th>12 coloured party balloons</th>\n      <th>12 ivory rose peg place settings</th>\n      <th>12 message cards with envelopes</th>\n      <th>12 pencil small tube woodland</th>\n      <th>12 pencils small tube red retrospot</th>\n      <th>12 pencils small tube skull</th>\n      <th>12 pencils tall tube posy</th>\n      <th>12 pencils tall tube red retrospot</th>\n      <th>12 pencils tall tube skulls</th>\n      <th>...</th>\n      <th>yuletide images gift wrap set</th>\n      <th>zinc  heart t-light holder</th>\n      <th>zinc  star t-light holder</th>\n      <th>zinc box sign home</th>\n      <th>zinc folkart sleigh bells</th>\n      <th>zinc heart lattice t-light holder</th>\n      <th>zinc metal heart decoration</th>\n      <th>zinc t-light holder star large</th>\n      <th>zinc t-light holder stars small</th>\n      <th>zinc willie winkie  candle stick</th>\n    </tr>\n    <tr>\n      <th>InvoiceNo</th>\n      <th></th>\n      <th></th>\n      <th></th>\n      <th></th>\n      <th></th>\n      <th></th>\n      <th></th>\n      <th></th>\n      <th></th>\n      <th></th>\n      <th></th>\n      <th></th>\n      <th></th>\n      <th></th>\n      <th></th>\n      <th></th>\n      <th></th>\n      <th></th>\n      <th></th>\n      <th></th>\n      <th></th>\n    </tr>\n  </thead>\n  <tbody>\n    <tr>\n      <th>365270</th>\n      <td>NaN</td>\n      <td>NaN</td>\n      <td>NaN</td>\n      <td>NaN</td>\n      <td>NaN</td>\n      <td>NaN</td>\n      <td>NaN</td>\n      <td>NaN</td>\n      <td>NaN</td>\n      <td>NaN</td>\n      <td>...</td>\n      <td>NaN</td>\n      <td>NaN</td>\n      <td>NaN</td>\n      <td>NaN</td>\n      <td>NaN</td>\n      <td>NaN</td>\n      <td>NaN</td>\n      <td>NaN</td>\n      <td>NaN</td>\n      <td>NaN</td>\n    </tr>\n    <tr>\n      <th>368400</th>\n      <td>NaN</td>\n      <td>NaN</td>\n      <td>NaN</td>\n      <td>NaN</td>\n      <td>NaN</td>\n      <td>NaN</td>\n      <td>NaN</td>\n      <td>NaN</td>\n      <td>NaN</td>\n      <td>NaN</td>\n      <td>...</td>\n      <td>NaN</td>\n      <td>NaN</td>\n      <td>NaN</td>\n      <td>NaN</td>\n      <td>NaN</td>\n      <td>NaN</td>\n      <td>NaN</td>\n      <td>NaN</td>\n      <td>NaN</td>\n      <td>NaN</td>\n    </tr>\n    <tr>\n      <th>368610</th>\n      <td>NaN</td>\n      <td>NaN</td>\n      <td>NaN</td>\n      <td>NaN</td>\n      <td>NaN</td>\n      <td>NaN</td>\n      <td>NaN</td>\n      <td>NaN</td>\n      <td>NaN</td>\n      <td>NaN</td>\n      <td>...</td>\n      <td>NaN</td>\n      <td>NaN</td>\n      <td>NaN</td>\n      <td>NaN</td>\n      <td>NaN</td>\n      <td>NaN</td>\n      <td>NaN</td>\n      <td>NaN</td>\n      <td>NaN</td>\n      <td>NaN</td>\n    </tr>\n    <tr>\n      <th>369670</th>\n      <td>NaN</td>\n      <td>NaN</td>\n      <td>NaN</td>\n      <td>NaN</td>\n      <td>NaN</td>\n      <td>NaN</td>\n      <td>NaN</td>\n      <td>NaN</td>\n      <td>NaN</td>\n      <td>NaN</td>\n      <td>...</td>\n      <td>NaN</td>\n      <td>NaN</td>\n      <td>NaN</td>\n      <td>NaN</td>\n      <td>NaN</td>\n      <td>NaN</td>\n      <td>NaN</td>\n      <td>NaN</td>\n      <td>NaN</td>\n      <td>NaN</td>\n    </tr>\n    <tr>\n      <th>369830</th>\n      <td>NaN</td>\n      <td>NaN</td>\n      <td>NaN</td>\n      <td>NaN</td>\n      <td>NaN</td>\n      <td>NaN</td>\n      <td>NaN</td>\n      <td>NaN</td>\n      <td>NaN</td>\n      <td>NaN</td>\n      <td>...</td>\n      <td>NaN</td>\n      <td>NaN</td>\n      <td>NaN</td>\n      <td>NaN</td>\n      <td>NaN</td>\n      <td>NaN</td>\n      <td>NaN</td>\n      <td>NaN</td>\n      <td>NaN</td>\n      <td>NaN</td>\n    </tr>\n    <tr>\n      <th>...</th>\n      <td>...</td>\n      <td>...</td>\n      <td>...</td>\n      <td>...</td>\n      <td>...</td>\n      <td>...</td>\n      <td>...</td>\n      <td>...</td>\n      <td>...</td>\n      <td>...</td>\n      <td>...</td>\n      <td>...</td>\n      <td>...</td>\n      <td>...</td>\n      <td>...</td>\n      <td>...</td>\n      <td>...</td>\n      <td>...</td>\n      <td>...</td>\n      <td>...</td>\n      <td>...</td>\n    </tr>\n    <tr>\n      <th>812660</th>\n      <td>NaN</td>\n      <td>NaN</td>\n      <td>NaN</td>\n      <td>NaN</td>\n      <td>NaN</td>\n      <td>NaN</td>\n      <td>NaN</td>\n      <td>NaN</td>\n      <td>NaN</td>\n      <td>NaN</td>\n      <td>...</td>\n      <td>NaN</td>\n      <td>NaN</td>\n      <td>NaN</td>\n      <td>NaN</td>\n      <td>NaN</td>\n      <td>NaN</td>\n      <td>NaN</td>\n      <td>NaN</td>\n      <td>NaN</td>\n      <td>NaN</td>\n    </tr>\n    <tr>\n      <th>814940</th>\n      <td>NaN</td>\n      <td>NaN</td>\n      <td>NaN</td>\n      <td>NaN</td>\n      <td>NaN</td>\n      <td>NaN</td>\n      <td>NaN</td>\n      <td>NaN</td>\n      <td>NaN</td>\n      <td>NaN</td>\n      <td>...</td>\n      <td>NaN</td>\n      <td>NaN</td>\n      <td>NaN</td>\n      <td>NaN</td>\n      <td>NaN</td>\n      <td>NaN</td>\n      <td>NaN</td>\n      <td>NaN</td>\n      <td>NaN</td>\n      <td>NaN</td>\n    </tr>\n    <tr>\n      <th>815700</th>\n      <td>NaN</td>\n      <td>NaN</td>\n      <td>NaN</td>\n      <td>NaN</td>\n      <td>NaN</td>\n      <td>NaN</td>\n      <td>NaN</td>\n      <td>NaN</td>\n      <td>NaN</td>\n      <td>NaN</td>\n      <td>...</td>\n      <td>NaN</td>\n      <td>NaN</td>\n      <td>NaN</td>\n      <td>NaN</td>\n      <td>NaN</td>\n      <td>NaN</td>\n      <td>NaN</td>\n      <td>NaN</td>\n      <td>NaN</td>\n      <td>NaN</td>\n    </tr>\n    <tr>\n      <th>815740</th>\n      <td>NaN</td>\n      <td>NaN</td>\n      <td>NaN</td>\n      <td>NaN</td>\n      <td>NaN</td>\n      <td>NaN</td>\n      <td>NaN</td>\n      <td>NaN</td>\n      <td>NaN</td>\n      <td>NaN</td>\n      <td>...</td>\n      <td>NaN</td>\n      <td>NaN</td>\n      <td>NaN</td>\n      <td>NaN</td>\n      <td>NaN</td>\n      <td>NaN</td>\n      <td>NaN</td>\n      <td>NaN</td>\n      <td>NaN</td>\n      <td>NaN</td>\n    </tr>\n    <tr>\n      <th>815780</th>\n      <td>NaN</td>\n      <td>NaN</td>\n      <td>NaN</td>\n      <td>NaN</td>\n      <td>NaN</td>\n      <td>NaN</td>\n      <td>NaN</td>\n      <td>NaN</td>\n      <td>NaN</td>\n      <td>NaN</td>\n      <td>...</td>\n      <td>NaN</td>\n      <td>NaN</td>\n      <td>NaN</td>\n      <td>NaN</td>\n      <td>NaN</td>\n      <td>NaN</td>\n      <td>NaN</td>\n      <td>NaN</td>\n      <td>NaN</td>\n      <td>NaN</td>\n    </tr>\n  </tbody>\n</table>\n<p>603 rows × 1701 columns</p>\n</div>"
     },
     "metadata": {},
     "execution_count": 26
    }
   ],
   "source": [
    "pivotdata"
   ]
  },
  {
   "cell_type": "code",
   "execution_count": 27,
   "metadata": {},
   "outputs": [],
   "source": [
    "pivotdata.fillna(0,inplace=True)"
   ]
  },
  {
   "cell_type": "code",
   "execution_count": 28,
   "metadata": {},
   "outputs": [
    {
     "output_type": "execute_result",
     "data": {
      "text/plain": [
       "Description  10 colour spaceboy pen  12 coloured party balloons  \\\n",
       "InvoiceNo                                                         \n",
       "365270                          0.0                         0.0   \n",
       "368400                          0.0                         0.0   \n",
       "368610                          0.0                         0.0   \n",
       "369670                          0.0                         0.0   \n",
       "369830                          0.0                         0.0   \n",
       "...                             ...                         ...   \n",
       "812660                          0.0                         0.0   \n",
       "814940                          0.0                         0.0   \n",
       "815700                          0.0                         0.0   \n",
       "815740                          0.0                         0.0   \n",
       "815780                          0.0                         0.0   \n",
       "\n",
       "Description  12 ivory rose peg place settings  \\\n",
       "InvoiceNo                                       \n",
       "365270                                    0.0   \n",
       "368400                                    0.0   \n",
       "368610                                    0.0   \n",
       "369670                                    0.0   \n",
       "369830                                    0.0   \n",
       "...                                       ...   \n",
       "812660                                    0.0   \n",
       "814940                                    0.0   \n",
       "815700                                    0.0   \n",
       "815740                                    0.0   \n",
       "815780                                    0.0   \n",
       "\n",
       "Description  12 message cards with envelopes  12 pencil small tube woodland  \\\n",
       "InvoiceNo                                                                     \n",
       "365270                                   0.0                            0.0   \n",
       "368400                                   0.0                            0.0   \n",
       "368610                                   0.0                            0.0   \n",
       "369670                                   0.0                            0.0   \n",
       "369830                                   0.0                            0.0   \n",
       "...                                      ...                            ...   \n",
       "812660                                   0.0                            0.0   \n",
       "814940                                   0.0                            0.0   \n",
       "815700                                   0.0                            0.0   \n",
       "815740                                   0.0                            0.0   \n",
       "815780                                   0.0                            0.0   \n",
       "\n",
       "Description  12 pencils small tube red retrospot  12 pencils small tube skull  \\\n",
       "InvoiceNo                                                                       \n",
       "365270                                       0.0                          0.0   \n",
       "368400                                       0.0                          0.0   \n",
       "368610                                       0.0                          0.0   \n",
       "369670                                       0.0                          0.0   \n",
       "369830                                       0.0                          0.0   \n",
       "...                                          ...                          ...   \n",
       "812660                                       0.0                          0.0   \n",
       "814940                                       0.0                          0.0   \n",
       "815700                                       0.0                          0.0   \n",
       "815740                                       0.0                          0.0   \n",
       "815780                                       0.0                          0.0   \n",
       "\n",
       "Description  12 pencils tall tube posy  12 pencils tall tube red retrospot  \\\n",
       "InvoiceNo                                                                    \n",
       "365270                             0.0                                 0.0   \n",
       "368400                             0.0                                 0.0   \n",
       "368610                             0.0                                 0.0   \n",
       "369670                             0.0                                 0.0   \n",
       "369830                             0.0                                 0.0   \n",
       "...                                ...                                 ...   \n",
       "812660                             0.0                                 0.0   \n",
       "814940                             0.0                                 0.0   \n",
       "815700                             0.0                                 0.0   \n",
       "815740                             0.0                                 0.0   \n",
       "815780                             0.0                                 0.0   \n",
       "\n",
       "Description  12 pencils tall tube skulls  ...  yuletide images gift wrap set  \\\n",
       "InvoiceNo                                 ...                                  \n",
       "365270                               0.0  ...                            0.0   \n",
       "368400                               0.0  ...                            0.0   \n",
       "368610                               0.0  ...                            0.0   \n",
       "369670                               0.0  ...                            0.0   \n",
       "369830                               0.0  ...                            0.0   \n",
       "...                                  ...  ...                            ...   \n",
       "812660                               0.0  ...                            0.0   \n",
       "814940                               0.0  ...                            0.0   \n",
       "815700                               0.0  ...                            0.0   \n",
       "815740                               0.0  ...                            0.0   \n",
       "815780                               0.0  ...                            0.0   \n",
       "\n",
       "Description  zinc  heart t-light holder  zinc  star t-light holder  \\\n",
       "InvoiceNo                                                            \n",
       "365270                              0.0                        0.0   \n",
       "368400                              0.0                        0.0   \n",
       "368610                              0.0                        0.0   \n",
       "369670                              0.0                        0.0   \n",
       "369830                              0.0                        0.0   \n",
       "...                                 ...                        ...   \n",
       "812660                              0.0                        0.0   \n",
       "814940                              0.0                        0.0   \n",
       "815700                              0.0                        0.0   \n",
       "815740                              0.0                        0.0   \n",
       "815780                              0.0                        0.0   \n",
       "\n",
       "Description  zinc box sign home  zinc folkart sleigh bells  \\\n",
       "InvoiceNo                                                    \n",
       "365270                      0.0                        0.0   \n",
       "368400                      0.0                        0.0   \n",
       "368610                      0.0                        0.0   \n",
       "369670                      0.0                        0.0   \n",
       "369830                      0.0                        0.0   \n",
       "...                         ...                        ...   \n",
       "812660                      0.0                        0.0   \n",
       "814940                      0.0                        0.0   \n",
       "815700                      0.0                        0.0   \n",
       "815740                      0.0                        0.0   \n",
       "815780                      0.0                        0.0   \n",
       "\n",
       "Description  zinc heart lattice t-light holder  zinc metal heart decoration  \\\n",
       "InvoiceNo                                                                     \n",
       "365270                                     0.0                          0.0   \n",
       "368400                                     0.0                          0.0   \n",
       "368610                                     0.0                          0.0   \n",
       "369670                                     0.0                          0.0   \n",
       "369830                                     0.0                          0.0   \n",
       "...                                        ...                          ...   \n",
       "812660                                     0.0                          0.0   \n",
       "814940                                     0.0                          0.0   \n",
       "815700                                     0.0                          0.0   \n",
       "815740                                     0.0                          0.0   \n",
       "815780                                     0.0                          0.0   \n",
       "\n",
       "Description  zinc t-light holder star large  zinc t-light holder stars small  \\\n",
       "InvoiceNo                                                                      \n",
       "365270                                  0.0                              0.0   \n",
       "368400                                  0.0                              0.0   \n",
       "368610                                  0.0                              0.0   \n",
       "369670                                  0.0                              0.0   \n",
       "369830                                  0.0                              0.0   \n",
       "...                                     ...                              ...   \n",
       "812660                                  0.0                              0.0   \n",
       "814940                                  0.0                              0.0   \n",
       "815700                                  0.0                              0.0   \n",
       "815740                                  0.0                              0.0   \n",
       "815780                                  0.0                              0.0   \n",
       "\n",
       "Description  zinc willie winkie  candle stick  \n",
       "InvoiceNo                                      \n",
       "365270                                    0.0  \n",
       "368400                                    0.0  \n",
       "368610                                    0.0  \n",
       "369670                                    0.0  \n",
       "369830                                    0.0  \n",
       "...                                       ...  \n",
       "812660                                    0.0  \n",
       "814940                                    0.0  \n",
       "815700                                    0.0  \n",
       "815740                                    0.0  \n",
       "815780                                    0.0  \n",
       "\n",
       "[603 rows x 1701 columns]"
      ],
      "text/html": "<div>\n<style scoped>\n    .dataframe tbody tr th:only-of-type {\n        vertical-align: middle;\n    }\n\n    .dataframe tbody tr th {\n        vertical-align: top;\n    }\n\n    .dataframe thead th {\n        text-align: right;\n    }\n</style>\n<table border=\"1\" class=\"dataframe\">\n  <thead>\n    <tr style=\"text-align: right;\">\n      <th>Description</th>\n      <th>10 colour spaceboy pen</th>\n      <th>12 coloured party balloons</th>\n      <th>12 ivory rose peg place settings</th>\n      <th>12 message cards with envelopes</th>\n      <th>12 pencil small tube woodland</th>\n      <th>12 pencils small tube red retrospot</th>\n      <th>12 pencils small tube skull</th>\n      <th>12 pencils tall tube posy</th>\n      <th>12 pencils tall tube red retrospot</th>\n      <th>12 pencils tall tube skulls</th>\n      <th>...</th>\n      <th>yuletide images gift wrap set</th>\n      <th>zinc  heart t-light holder</th>\n      <th>zinc  star t-light holder</th>\n      <th>zinc box sign home</th>\n      <th>zinc folkart sleigh bells</th>\n      <th>zinc heart lattice t-light holder</th>\n      <th>zinc metal heart decoration</th>\n      <th>zinc t-light holder star large</th>\n      <th>zinc t-light holder stars small</th>\n      <th>zinc willie winkie  candle stick</th>\n    </tr>\n    <tr>\n      <th>InvoiceNo</th>\n      <th></th>\n      <th></th>\n      <th></th>\n      <th></th>\n      <th></th>\n      <th></th>\n      <th></th>\n      <th></th>\n      <th></th>\n      <th></th>\n      <th></th>\n      <th></th>\n      <th></th>\n      <th></th>\n      <th></th>\n      <th></th>\n      <th></th>\n      <th></th>\n      <th></th>\n      <th></th>\n      <th></th>\n    </tr>\n  </thead>\n  <tbody>\n    <tr>\n      <th>365270</th>\n      <td>0.0</td>\n      <td>0.0</td>\n      <td>0.0</td>\n      <td>0.0</td>\n      <td>0.0</td>\n      <td>0.0</td>\n      <td>0.0</td>\n      <td>0.0</td>\n      <td>0.0</td>\n      <td>0.0</td>\n      <td>...</td>\n      <td>0.0</td>\n      <td>0.0</td>\n      <td>0.0</td>\n      <td>0.0</td>\n      <td>0.0</td>\n      <td>0.0</td>\n      <td>0.0</td>\n      <td>0.0</td>\n      <td>0.0</td>\n      <td>0.0</td>\n    </tr>\n    <tr>\n      <th>368400</th>\n      <td>0.0</td>\n      <td>0.0</td>\n      <td>0.0</td>\n      <td>0.0</td>\n      <td>0.0</td>\n      <td>0.0</td>\n      <td>0.0</td>\n      <td>0.0</td>\n      <td>0.0</td>\n      <td>0.0</td>\n      <td>...</td>\n      <td>0.0</td>\n      <td>0.0</td>\n      <td>0.0</td>\n      <td>0.0</td>\n      <td>0.0</td>\n      <td>0.0</td>\n      <td>0.0</td>\n      <td>0.0</td>\n      <td>0.0</td>\n      <td>0.0</td>\n    </tr>\n    <tr>\n      <th>368610</th>\n      <td>0.0</td>\n      <td>0.0</td>\n      <td>0.0</td>\n      <td>0.0</td>\n      <td>0.0</td>\n      <td>0.0</td>\n      <td>0.0</td>\n      <td>0.0</td>\n      <td>0.0</td>\n      <td>0.0</td>\n      <td>...</td>\n      <td>0.0</td>\n      <td>0.0</td>\n      <td>0.0</td>\n      <td>0.0</td>\n      <td>0.0</td>\n      <td>0.0</td>\n      <td>0.0</td>\n      <td>0.0</td>\n      <td>0.0</td>\n      <td>0.0</td>\n    </tr>\n    <tr>\n      <th>369670</th>\n      <td>0.0</td>\n      <td>0.0</td>\n      <td>0.0</td>\n      <td>0.0</td>\n      <td>0.0</td>\n      <td>0.0</td>\n      <td>0.0</td>\n      <td>0.0</td>\n      <td>0.0</td>\n      <td>0.0</td>\n      <td>...</td>\n      <td>0.0</td>\n      <td>0.0</td>\n      <td>0.0</td>\n      <td>0.0</td>\n      <td>0.0</td>\n      <td>0.0</td>\n      <td>0.0</td>\n      <td>0.0</td>\n      <td>0.0</td>\n      <td>0.0</td>\n    </tr>\n    <tr>\n      <th>369830</th>\n      <td>0.0</td>\n      <td>0.0</td>\n      <td>0.0</td>\n      <td>0.0</td>\n      <td>0.0</td>\n      <td>0.0</td>\n      <td>0.0</td>\n      <td>0.0</td>\n      <td>0.0</td>\n      <td>0.0</td>\n      <td>...</td>\n      <td>0.0</td>\n      <td>0.0</td>\n      <td>0.0</td>\n      <td>0.0</td>\n      <td>0.0</td>\n      <td>0.0</td>\n      <td>0.0</td>\n      <td>0.0</td>\n      <td>0.0</td>\n      <td>0.0</td>\n    </tr>\n    <tr>\n      <th>...</th>\n      <td>...</td>\n      <td>...</td>\n      <td>...</td>\n      <td>...</td>\n      <td>...</td>\n      <td>...</td>\n      <td>...</td>\n      <td>...</td>\n      <td>...</td>\n      <td>...</td>\n      <td>...</td>\n      <td>...</td>\n      <td>...</td>\n      <td>...</td>\n      <td>...</td>\n      <td>...</td>\n      <td>...</td>\n      <td>...</td>\n      <td>...</td>\n      <td>...</td>\n      <td>...</td>\n    </tr>\n    <tr>\n      <th>812660</th>\n      <td>0.0</td>\n      <td>0.0</td>\n      <td>0.0</td>\n      <td>0.0</td>\n      <td>0.0</td>\n      <td>0.0</td>\n      <td>0.0</td>\n      <td>0.0</td>\n      <td>0.0</td>\n      <td>0.0</td>\n      <td>...</td>\n      <td>0.0</td>\n      <td>0.0</td>\n      <td>0.0</td>\n      <td>0.0</td>\n      <td>0.0</td>\n      <td>0.0</td>\n      <td>0.0</td>\n      <td>0.0</td>\n      <td>0.0</td>\n      <td>0.0</td>\n    </tr>\n    <tr>\n      <th>814940</th>\n      <td>0.0</td>\n      <td>0.0</td>\n      <td>0.0</td>\n      <td>0.0</td>\n      <td>0.0</td>\n      <td>0.0</td>\n      <td>0.0</td>\n      <td>0.0</td>\n      <td>0.0</td>\n      <td>0.0</td>\n      <td>...</td>\n      <td>0.0</td>\n      <td>0.0</td>\n      <td>0.0</td>\n      <td>0.0</td>\n      <td>0.0</td>\n      <td>0.0</td>\n      <td>0.0</td>\n      <td>0.0</td>\n      <td>0.0</td>\n      <td>0.0</td>\n    </tr>\n    <tr>\n      <th>815700</th>\n      <td>0.0</td>\n      <td>0.0</td>\n      <td>0.0</td>\n      <td>0.0</td>\n      <td>0.0</td>\n      <td>0.0</td>\n      <td>0.0</td>\n      <td>0.0</td>\n      <td>0.0</td>\n      <td>0.0</td>\n      <td>...</td>\n      <td>0.0</td>\n      <td>0.0</td>\n      <td>0.0</td>\n      <td>0.0</td>\n      <td>0.0</td>\n      <td>0.0</td>\n      <td>0.0</td>\n      <td>0.0</td>\n      <td>0.0</td>\n      <td>0.0</td>\n    </tr>\n    <tr>\n      <th>815740</th>\n      <td>0.0</td>\n      <td>0.0</td>\n      <td>0.0</td>\n      <td>0.0</td>\n      <td>0.0</td>\n      <td>0.0</td>\n      <td>0.0</td>\n      <td>0.0</td>\n      <td>0.0</td>\n      <td>0.0</td>\n      <td>...</td>\n      <td>0.0</td>\n      <td>0.0</td>\n      <td>0.0</td>\n      <td>0.0</td>\n      <td>0.0</td>\n      <td>0.0</td>\n      <td>0.0</td>\n      <td>0.0</td>\n      <td>0.0</td>\n      <td>0.0</td>\n    </tr>\n    <tr>\n      <th>815780</th>\n      <td>0.0</td>\n      <td>0.0</td>\n      <td>0.0</td>\n      <td>0.0</td>\n      <td>0.0</td>\n      <td>0.0</td>\n      <td>0.0</td>\n      <td>0.0</td>\n      <td>0.0</td>\n      <td>0.0</td>\n      <td>...</td>\n      <td>0.0</td>\n      <td>0.0</td>\n      <td>0.0</td>\n      <td>0.0</td>\n      <td>0.0</td>\n      <td>0.0</td>\n      <td>0.0</td>\n      <td>0.0</td>\n      <td>0.0</td>\n      <td>0.0</td>\n    </tr>\n  </tbody>\n</table>\n<p>603 rows × 1701 columns</p>\n</div>"
     },
     "metadata": {},
     "execution_count": 28
    }
   ],
   "source": [
    "pivotdata"
   ]
  },
  {
   "cell_type": "code",
   "execution_count": 34,
   "metadata": {},
   "outputs": [],
   "source": [
    "def hot_encoder(val):\n",
    "    if val >= 1:\n",
    "        return 1\n",
    "    return 0"
   ]
  },
  {
   "cell_type": "code",
   "execution_count": 35,
   "metadata": {
    "tags": []
   },
   "outputs": [
    {
     "output_type": "execute_result",
     "data": {
      "text/plain": [
       "Description  10 colour spaceboy pen  12 coloured party balloons  \\\n",
       "InvoiceNo                                                         \n",
       "365270                            0                           0   \n",
       "368400                            0                           0   \n",
       "368610                            0                           0   \n",
       "369670                            0                           0   \n",
       "369830                            0                           0   \n",
       "...                             ...                         ...   \n",
       "812660                            0                           0   \n",
       "814940                            0                           0   \n",
       "815700                            0                           0   \n",
       "815740                            0                           0   \n",
       "815780                            0                           0   \n",
       "\n",
       "Description  12 ivory rose peg place settings  \\\n",
       "InvoiceNo                                       \n",
       "365270                                      0   \n",
       "368400                                      0   \n",
       "368610                                      0   \n",
       "369670                                      0   \n",
       "369830                                      0   \n",
       "...                                       ...   \n",
       "812660                                      0   \n",
       "814940                                      0   \n",
       "815700                                      0   \n",
       "815740                                      0   \n",
       "815780                                      0   \n",
       "\n",
       "Description  12 message cards with envelopes  12 pencil small tube woodland  \\\n",
       "InvoiceNo                                                                     \n",
       "365270                                     0                              0   \n",
       "368400                                     0                              0   \n",
       "368610                                     0                              0   \n",
       "369670                                     0                              0   \n",
       "369830                                     0                              0   \n",
       "...                                      ...                            ...   \n",
       "812660                                     0                              0   \n",
       "814940                                     0                              0   \n",
       "815700                                     0                              0   \n",
       "815740                                     0                              0   \n",
       "815780                                     0                              0   \n",
       "\n",
       "Description  12 pencils small tube red retrospot  12 pencils small tube skull  \\\n",
       "InvoiceNo                                                                       \n",
       "365270                                         0                            0   \n",
       "368400                                         0                            0   \n",
       "368610                                         0                            0   \n",
       "369670                                         0                            0   \n",
       "369830                                         0                            0   \n",
       "...                                          ...                          ...   \n",
       "812660                                         0                            0   \n",
       "814940                                         0                            0   \n",
       "815700                                         0                            0   \n",
       "815740                                         0                            0   \n",
       "815780                                         0                            0   \n",
       "\n",
       "Description  12 pencils tall tube posy  12 pencils tall tube red retrospot  \\\n",
       "InvoiceNo                                                                    \n",
       "365270                               0                                   0   \n",
       "368400                               0                                   0   \n",
       "368610                               0                                   0   \n",
       "369670                               0                                   0   \n",
       "369830                               0                                   0   \n",
       "...                                ...                                 ...   \n",
       "812660                               0                                   0   \n",
       "814940                               0                                   0   \n",
       "815700                               0                                   0   \n",
       "815740                               0                                   0   \n",
       "815780                               0                                   0   \n",
       "\n",
       "Description  12 pencils tall tube skulls  ...  yuletide images gift wrap set  \\\n",
       "InvoiceNo                                 ...                                  \n",
       "365270                                 0  ...                              0   \n",
       "368400                                 0  ...                              0   \n",
       "368610                                 0  ...                              0   \n",
       "369670                                 0  ...                              0   \n",
       "369830                                 0  ...                              0   \n",
       "...                                  ...  ...                            ...   \n",
       "812660                                 0  ...                              0   \n",
       "814940                                 0  ...                              0   \n",
       "815700                                 0  ...                              0   \n",
       "815740                                 0  ...                              0   \n",
       "815780                                 0  ...                              0   \n",
       "\n",
       "Description  zinc  heart t-light holder  zinc  star t-light holder  \\\n",
       "InvoiceNo                                                            \n",
       "365270                                0                          0   \n",
       "368400                                0                          0   \n",
       "368610                                0                          0   \n",
       "369670                                0                          0   \n",
       "369830                                0                          0   \n",
       "...                                 ...                        ...   \n",
       "812660                                0                          0   \n",
       "814940                                0                          0   \n",
       "815700                                0                          0   \n",
       "815740                                0                          0   \n",
       "815780                                0                          0   \n",
       "\n",
       "Description  zinc box sign home  zinc folkart sleigh bells  \\\n",
       "InvoiceNo                                                    \n",
       "365270                        0                          0   \n",
       "368400                        0                          0   \n",
       "368610                        0                          0   \n",
       "369670                        0                          0   \n",
       "369830                        0                          0   \n",
       "...                         ...                        ...   \n",
       "812660                        0                          0   \n",
       "814940                        0                          0   \n",
       "815700                        0                          0   \n",
       "815740                        0                          0   \n",
       "815780                        0                          0   \n",
       "\n",
       "Description  zinc heart lattice t-light holder  zinc metal heart decoration  \\\n",
       "InvoiceNo                                                                     \n",
       "365270                                       0                            0   \n",
       "368400                                       0                            0   \n",
       "368610                                       0                            0   \n",
       "369670                                       0                            0   \n",
       "369830                                       0                            0   \n",
       "...                                        ...                          ...   \n",
       "812660                                       0                            0   \n",
       "814940                                       0                            0   \n",
       "815700                                       0                            0   \n",
       "815740                                       0                            0   \n",
       "815780                                       0                            0   \n",
       "\n",
       "Description  zinc t-light holder star large  zinc t-light holder stars small  \\\n",
       "InvoiceNo                                                                      \n",
       "365270                                    0                                0   \n",
       "368400                                    0                                0   \n",
       "368610                                    0                                0   \n",
       "369670                                    0                                0   \n",
       "369830                                    0                                0   \n",
       "...                                     ...                              ...   \n",
       "812660                                    0                                0   \n",
       "814940                                    0                                0   \n",
       "815700                                    0                                0   \n",
       "815740                                    0                                0   \n",
       "815780                                    0                                0   \n",
       "\n",
       "Description  zinc willie winkie  candle stick  \n",
       "InvoiceNo                                      \n",
       "365270                                      0  \n",
       "368400                                      0  \n",
       "368610                                      0  \n",
       "369670                                      0  \n",
       "369830                                      0  \n",
       "...                                       ...  \n",
       "812660                                      0  \n",
       "814940                                      0  \n",
       "815700                                      0  \n",
       "815740                                      0  \n",
       "815780                                      0  \n",
       "\n",
       "[603 rows x 1701 columns]"
      ],
      "text/html": "<div>\n<style scoped>\n    .dataframe tbody tr th:only-of-type {\n        vertical-align: middle;\n    }\n\n    .dataframe tbody tr th {\n        vertical-align: top;\n    }\n\n    .dataframe thead th {\n        text-align: right;\n    }\n</style>\n<table border=\"1\" class=\"dataframe\">\n  <thead>\n    <tr style=\"text-align: right;\">\n      <th>Description</th>\n      <th>10 colour spaceboy pen</th>\n      <th>12 coloured party balloons</th>\n      <th>12 ivory rose peg place settings</th>\n      <th>12 message cards with envelopes</th>\n      <th>12 pencil small tube woodland</th>\n      <th>12 pencils small tube red retrospot</th>\n      <th>12 pencils small tube skull</th>\n      <th>12 pencils tall tube posy</th>\n      <th>12 pencils tall tube red retrospot</th>\n      <th>12 pencils tall tube skulls</th>\n      <th>...</th>\n      <th>yuletide images gift wrap set</th>\n      <th>zinc  heart t-light holder</th>\n      <th>zinc  star t-light holder</th>\n      <th>zinc box sign home</th>\n      <th>zinc folkart sleigh bells</th>\n      <th>zinc heart lattice t-light holder</th>\n      <th>zinc metal heart decoration</th>\n      <th>zinc t-light holder star large</th>\n      <th>zinc t-light holder stars small</th>\n      <th>zinc willie winkie  candle stick</th>\n    </tr>\n    <tr>\n      <th>InvoiceNo</th>\n      <th></th>\n      <th></th>\n      <th></th>\n      <th></th>\n      <th></th>\n      <th></th>\n      <th></th>\n      <th></th>\n      <th></th>\n      <th></th>\n      <th></th>\n      <th></th>\n      <th></th>\n      <th></th>\n      <th></th>\n      <th></th>\n      <th></th>\n      <th></th>\n      <th></th>\n      <th></th>\n      <th></th>\n    </tr>\n  </thead>\n  <tbody>\n    <tr>\n      <th>365270</th>\n      <td>0</td>\n      <td>0</td>\n      <td>0</td>\n      <td>0</td>\n      <td>0</td>\n      <td>0</td>\n      <td>0</td>\n      <td>0</td>\n      <td>0</td>\n      <td>0</td>\n      <td>...</td>\n      <td>0</td>\n      <td>0</td>\n      <td>0</td>\n      <td>0</td>\n      <td>0</td>\n      <td>0</td>\n      <td>0</td>\n      <td>0</td>\n      <td>0</td>\n      <td>0</td>\n    </tr>\n    <tr>\n      <th>368400</th>\n      <td>0</td>\n      <td>0</td>\n      <td>0</td>\n      <td>0</td>\n      <td>0</td>\n      <td>0</td>\n      <td>0</td>\n      <td>0</td>\n      <td>0</td>\n      <td>0</td>\n      <td>...</td>\n      <td>0</td>\n      <td>0</td>\n      <td>0</td>\n      <td>0</td>\n      <td>0</td>\n      <td>0</td>\n      <td>0</td>\n      <td>0</td>\n      <td>0</td>\n      <td>0</td>\n    </tr>\n    <tr>\n      <th>368610</th>\n      <td>0</td>\n      <td>0</td>\n      <td>0</td>\n      <td>0</td>\n      <td>0</td>\n      <td>0</td>\n      <td>0</td>\n      <td>0</td>\n      <td>0</td>\n      <td>0</td>\n      <td>...</td>\n      <td>0</td>\n      <td>0</td>\n      <td>0</td>\n      <td>0</td>\n      <td>0</td>\n      <td>0</td>\n      <td>0</td>\n      <td>0</td>\n      <td>0</td>\n      <td>0</td>\n    </tr>\n    <tr>\n      <th>369670</th>\n      <td>0</td>\n      <td>0</td>\n      <td>0</td>\n      <td>0</td>\n      <td>0</td>\n      <td>0</td>\n      <td>0</td>\n      <td>0</td>\n      <td>0</td>\n      <td>0</td>\n      <td>...</td>\n      <td>0</td>\n      <td>0</td>\n      <td>0</td>\n      <td>0</td>\n      <td>0</td>\n      <td>0</td>\n      <td>0</td>\n      <td>0</td>\n      <td>0</td>\n      <td>0</td>\n    </tr>\n    <tr>\n      <th>369830</th>\n      <td>0</td>\n      <td>0</td>\n      <td>0</td>\n      <td>0</td>\n      <td>0</td>\n      <td>0</td>\n      <td>0</td>\n      <td>0</td>\n      <td>0</td>\n      <td>0</td>\n      <td>...</td>\n      <td>0</td>\n      <td>0</td>\n      <td>0</td>\n      <td>0</td>\n      <td>0</td>\n      <td>0</td>\n      <td>0</td>\n      <td>0</td>\n      <td>0</td>\n      <td>0</td>\n    </tr>\n    <tr>\n      <th>...</th>\n      <td>...</td>\n      <td>...</td>\n      <td>...</td>\n      <td>...</td>\n      <td>...</td>\n      <td>...</td>\n      <td>...</td>\n      <td>...</td>\n      <td>...</td>\n      <td>...</td>\n      <td>...</td>\n      <td>...</td>\n      <td>...</td>\n      <td>...</td>\n      <td>...</td>\n      <td>...</td>\n      <td>...</td>\n      <td>...</td>\n      <td>...</td>\n      <td>...</td>\n      <td>...</td>\n    </tr>\n    <tr>\n      <th>812660</th>\n      <td>0</td>\n      <td>0</td>\n      <td>0</td>\n      <td>0</td>\n      <td>0</td>\n      <td>0</td>\n      <td>0</td>\n      <td>0</td>\n      <td>0</td>\n      <td>0</td>\n      <td>...</td>\n      <td>0</td>\n      <td>0</td>\n      <td>0</td>\n      <td>0</td>\n      <td>0</td>\n      <td>0</td>\n      <td>0</td>\n      <td>0</td>\n      <td>0</td>\n      <td>0</td>\n    </tr>\n    <tr>\n      <th>814940</th>\n      <td>0</td>\n      <td>0</td>\n      <td>0</td>\n      <td>0</td>\n      <td>0</td>\n      <td>0</td>\n      <td>0</td>\n      <td>0</td>\n      <td>0</td>\n      <td>0</td>\n      <td>...</td>\n      <td>0</td>\n      <td>0</td>\n      <td>0</td>\n      <td>0</td>\n      <td>0</td>\n      <td>0</td>\n      <td>0</td>\n      <td>0</td>\n      <td>0</td>\n      <td>0</td>\n    </tr>\n    <tr>\n      <th>815700</th>\n      <td>0</td>\n      <td>0</td>\n      <td>0</td>\n      <td>0</td>\n      <td>0</td>\n      <td>0</td>\n      <td>0</td>\n      <td>0</td>\n      <td>0</td>\n      <td>0</td>\n      <td>...</td>\n      <td>0</td>\n      <td>0</td>\n      <td>0</td>\n      <td>0</td>\n      <td>0</td>\n      <td>0</td>\n      <td>0</td>\n      <td>0</td>\n      <td>0</td>\n      <td>0</td>\n    </tr>\n    <tr>\n      <th>815740</th>\n      <td>0</td>\n      <td>0</td>\n      <td>0</td>\n      <td>0</td>\n      <td>0</td>\n      <td>0</td>\n      <td>0</td>\n      <td>0</td>\n      <td>0</td>\n      <td>0</td>\n      <td>...</td>\n      <td>0</td>\n      <td>0</td>\n      <td>0</td>\n      <td>0</td>\n      <td>0</td>\n      <td>0</td>\n      <td>0</td>\n      <td>0</td>\n      <td>0</td>\n      <td>0</td>\n    </tr>\n    <tr>\n      <th>815780</th>\n      <td>0</td>\n      <td>0</td>\n      <td>0</td>\n      <td>0</td>\n      <td>0</td>\n      <td>0</td>\n      <td>0</td>\n      <td>0</td>\n      <td>0</td>\n      <td>0</td>\n      <td>...</td>\n      <td>0</td>\n      <td>0</td>\n      <td>0</td>\n      <td>0</td>\n      <td>0</td>\n      <td>0</td>\n      <td>0</td>\n      <td>0</td>\n      <td>0</td>\n      <td>0</td>\n    </tr>\n  </tbody>\n</table>\n<p>603 rows × 1701 columns</p>\n</div>"
     },
     "metadata": {},
     "execution_count": 35
    }
   ],
   "source": [
    "pivotdata = pivotdata.applymap(hot_encoder)\n",
    "pivotdata"
   ]
  },
  {
   "cell_type": "code",
   "execution_count": 37,
   "metadata": {},
   "outputs": [
    {
     "output_type": "execute_result",
     "data": {
      "text/plain": [
       "     support                                           itemsets\n",
       "12  0.620232                                          (postage)\n",
       "18  0.185738               (round snack boxes set of4 woodland)\n",
       "37  0.170813      (round snack boxes set of4 woodland, postage)\n",
       "17  0.119403                (round snack boxes set of 4 fruits)\n",
       "36  0.114428       (postage, round snack boxes set of 4 fruits)\n",
       "11  0.104478                 (plasters in tin woodland animals)\n",
       "16  0.104478                         (regency cakestand 3 tier)\n",
       "41  0.099502  (round snack boxes set of4 woodland, round sna...\n",
       "22  0.096186                           (woodland charlotte bag)\n",
       "43  0.094527  (round snack boxes set of4 woodland, postage, ...\n",
       "35  0.091211                (postage, regency cakestand 3 tier)\n",
       "32  0.089552        (plasters in tin woodland animals, postage)\n",
       "8   0.087894                    (plasters in tin circus parade)\n",
       "40  0.087894                  (postage, woodland charlotte bag)\n",
       "9   0.081260                         (plasters in tin spaceboy)\n",
       "0   0.077944                           (6 ribbons rustic charm)\n",
       "20  0.077944                               (spaceboy lunch box)\n",
       "30  0.076285                (postage, plasters in tin spaceboy)\n",
       "29  0.076285           (postage, plasters in tin circus parade)\n",
       "5   0.076285                       (jumbo bag woodland animals)\n",
       "15  0.072968                    (red toadstool led night light)\n",
       "3   0.069652                           (jam making set printed)\n",
       "24  0.069652                  (postage, 6 ribbons rustic charm)\n",
       "38  0.069652                      (postage, spaceboy lunch box)\n",
       "26  0.066335              (postage, jumbo bag woodland animals)\n",
       "7   0.064677                  (pack of 72 retrospot cake cases)\n",
       "34  0.061360           (postage, red toadstool led night light)\n",
       "21  0.059701                (strawberry lunch box with cutlery)\n",
       "4   0.059701                          (jumbo bag red retrospot)\n",
       "6   0.059701                               (lunch bag woodland)\n",
       "25  0.056385                  (jam making set printed, postage)\n",
       "33  0.056385  (round snack boxes set of4 woodland, plasters ...\n",
       "2   0.054726                                (gumball coat rack)\n",
       "42  0.053068  (round snack boxes set of4 woodland, spaceboy ...\n",
       "10  0.053068                        (plasters in tin strongman)\n",
       "1   0.053068                        (alarm clock bakelike pink)\n",
       "19  0.053068                       (set of 3 regency cake tins)\n",
       "14  0.053068                                (red retrospot cup)\n",
       "13  0.053068                      (red retrospot charlotte bag)\n",
       "31  0.051410               (plasters in tin strongman, postage)\n",
       "28  0.051410  (plasters in tin woodland animals, plasters in...\n",
       "23  0.051410                 (woodland party bag + sticker set)\n",
       "39  0.051410       (postage, strawberry lunch box with cutlery)\n",
       "27  0.051410                      (postage, lunch bag woodland)"
      ],
      "text/html": "<div>\n<style scoped>\n    .dataframe tbody tr th:only-of-type {\n        vertical-align: middle;\n    }\n\n    .dataframe tbody tr th {\n        vertical-align: top;\n    }\n\n    .dataframe thead th {\n        text-align: right;\n    }\n</style>\n<table border=\"1\" class=\"dataframe\">\n  <thead>\n    <tr style=\"text-align: right;\">\n      <th></th>\n      <th>support</th>\n      <th>itemsets</th>\n    </tr>\n  </thead>\n  <tbody>\n    <tr>\n      <th>12</th>\n      <td>0.620232</td>\n      <td>(postage)</td>\n    </tr>\n    <tr>\n      <th>18</th>\n      <td>0.185738</td>\n      <td>(round snack boxes set of4 woodland)</td>\n    </tr>\n    <tr>\n      <th>37</th>\n      <td>0.170813</td>\n      <td>(round snack boxes set of4 woodland, postage)</td>\n    </tr>\n    <tr>\n      <th>17</th>\n      <td>0.119403</td>\n      <td>(round snack boxes set of 4 fruits)</td>\n    </tr>\n    <tr>\n      <th>36</th>\n      <td>0.114428</td>\n      <td>(postage, round snack boxes set of 4 fruits)</td>\n    </tr>\n    <tr>\n      <th>11</th>\n      <td>0.104478</td>\n      <td>(plasters in tin woodland animals)</td>\n    </tr>\n    <tr>\n      <th>16</th>\n      <td>0.104478</td>\n      <td>(regency cakestand 3 tier)</td>\n    </tr>\n    <tr>\n      <th>41</th>\n      <td>0.099502</td>\n      <td>(round snack boxes set of4 woodland, round sna...</td>\n    </tr>\n    <tr>\n      <th>22</th>\n      <td>0.096186</td>\n      <td>(woodland charlotte bag)</td>\n    </tr>\n    <tr>\n      <th>43</th>\n      <td>0.094527</td>\n      <td>(round snack boxes set of4 woodland, postage, ...</td>\n    </tr>\n    <tr>\n      <th>35</th>\n      <td>0.091211</td>\n      <td>(postage, regency cakestand 3 tier)</td>\n    </tr>\n    <tr>\n      <th>32</th>\n      <td>0.089552</td>\n      <td>(plasters in tin woodland animals, postage)</td>\n    </tr>\n    <tr>\n      <th>8</th>\n      <td>0.087894</td>\n      <td>(plasters in tin circus parade)</td>\n    </tr>\n    <tr>\n      <th>40</th>\n      <td>0.087894</td>\n      <td>(postage, woodland charlotte bag)</td>\n    </tr>\n    <tr>\n      <th>9</th>\n      <td>0.081260</td>\n      <td>(plasters in tin spaceboy)</td>\n    </tr>\n    <tr>\n      <th>0</th>\n      <td>0.077944</td>\n      <td>(6 ribbons rustic charm)</td>\n    </tr>\n    <tr>\n      <th>20</th>\n      <td>0.077944</td>\n      <td>(spaceboy lunch box)</td>\n    </tr>\n    <tr>\n      <th>30</th>\n      <td>0.076285</td>\n      <td>(postage, plasters in tin spaceboy)</td>\n    </tr>\n    <tr>\n      <th>29</th>\n      <td>0.076285</td>\n      <td>(postage, plasters in tin circus parade)</td>\n    </tr>\n    <tr>\n      <th>5</th>\n      <td>0.076285</td>\n      <td>(jumbo bag woodland animals)</td>\n    </tr>\n    <tr>\n      <th>15</th>\n      <td>0.072968</td>\n      <td>(red toadstool led night light)</td>\n    </tr>\n    <tr>\n      <th>3</th>\n      <td>0.069652</td>\n      <td>(jam making set printed)</td>\n    </tr>\n    <tr>\n      <th>24</th>\n      <td>0.069652</td>\n      <td>(postage, 6 ribbons rustic charm)</td>\n    </tr>\n    <tr>\n      <th>38</th>\n      <td>0.069652</td>\n      <td>(postage, spaceboy lunch box)</td>\n    </tr>\n    <tr>\n      <th>26</th>\n      <td>0.066335</td>\n      <td>(postage, jumbo bag woodland animals)</td>\n    </tr>\n    <tr>\n      <th>7</th>\n      <td>0.064677</td>\n      <td>(pack of 72 retrospot cake cases)</td>\n    </tr>\n    <tr>\n      <th>34</th>\n      <td>0.061360</td>\n      <td>(postage, red toadstool led night light)</td>\n    </tr>\n    <tr>\n      <th>21</th>\n      <td>0.059701</td>\n      <td>(strawberry lunch box with cutlery)</td>\n    </tr>\n    <tr>\n      <th>4</th>\n      <td>0.059701</td>\n      <td>(jumbo bag red retrospot)</td>\n    </tr>\n    <tr>\n      <th>6</th>\n      <td>0.059701</td>\n      <td>(lunch bag woodland)</td>\n    </tr>\n    <tr>\n      <th>25</th>\n      <td>0.056385</td>\n      <td>(jam making set printed, postage)</td>\n    </tr>\n    <tr>\n      <th>33</th>\n      <td>0.056385</td>\n      <td>(round snack boxes set of4 woodland, plasters ...</td>\n    </tr>\n    <tr>\n      <th>2</th>\n      <td>0.054726</td>\n      <td>(gumball coat rack)</td>\n    </tr>\n    <tr>\n      <th>42</th>\n      <td>0.053068</td>\n      <td>(round snack boxes set of4 woodland, spaceboy ...</td>\n    </tr>\n    <tr>\n      <th>10</th>\n      <td>0.053068</td>\n      <td>(plasters in tin strongman)</td>\n    </tr>\n    <tr>\n      <th>1</th>\n      <td>0.053068</td>\n      <td>(alarm clock bakelike pink)</td>\n    </tr>\n    <tr>\n      <th>19</th>\n      <td>0.053068</td>\n      <td>(set of 3 regency cake tins)</td>\n    </tr>\n    <tr>\n      <th>14</th>\n      <td>0.053068</td>\n      <td>(red retrospot cup)</td>\n    </tr>\n    <tr>\n      <th>13</th>\n      <td>0.053068</td>\n      <td>(red retrospot charlotte bag)</td>\n    </tr>\n    <tr>\n      <th>31</th>\n      <td>0.051410</td>\n      <td>(plasters in tin strongman, postage)</td>\n    </tr>\n    <tr>\n      <th>28</th>\n      <td>0.051410</td>\n      <td>(plasters in tin woodland animals, plasters in...</td>\n    </tr>\n    <tr>\n      <th>23</th>\n      <td>0.051410</td>\n      <td>(woodland party bag + sticker set)</td>\n    </tr>\n    <tr>\n      <th>39</th>\n      <td>0.051410</td>\n      <td>(postage, strawberry lunch box with cutlery)</td>\n    </tr>\n    <tr>\n      <th>27</th>\n      <td>0.051410</td>\n      <td>(postage, lunch bag woodland)</td>\n    </tr>\n  </tbody>\n</table>\n</div>"
     },
     "metadata": {},
     "execution_count": 37
    }
   ],
   "source": [
    "item_freq = apriori(pivotdata,min_support=.05, use_colnames=True)\n",
    "item_freq.sort_values('support',ascending=False)"
   ]
  },
  {
   "cell_type": "code",
   "execution_count": 40,
   "metadata": {},
   "outputs": [],
   "source": [
    "ar = association_rules(item_freq,metric='confidence', min_threshold=.1)"
   ]
  },
  {
   "cell_type": "code",
   "execution_count": 42,
   "metadata": {},
   "outputs": [
    {
     "output_type": "execute_result",
     "data": {
      "text/plain": [
       "                                          antecedents  \\\n",
       "7                     (plasters in tin circus parade)   \n",
       "6                  (plasters in tin woodland animals)   \n",
       "38                (round snack boxes set of 4 fruits)   \n",
       "33      (round snack boxes set of4 woodland, postage)   \n",
       "29               (round snack boxes set of4 woodland)   \n",
       "30                (round snack boxes set of 4 fruits)   \n",
       "35       (postage, round snack boxes set of 4 fruits)   \n",
       "36               (round snack boxes set of4 woodland)   \n",
       "32                               (spaceboy lunch box)   \n",
       "31               (round snack boxes set of4 woodland)   \n",
       "15               (round snack boxes set of4 woodland)   \n",
       "16                 (plasters in tin woodland animals)   \n",
       "12                        (plasters in tin strongman)   \n",
       "21                (round snack boxes set of 4 fruits)   \n",
       "20                                          (postage)   \n",
       "34  (round snack boxes set of4 woodland, round sna...   \n",
       "37                                          (postage)   \n",
       "11                         (plasters in tin spaceboy)   \n",
       "10                                          (postage)   \n",
       "22               (round snack boxes set of4 woodland)   \n",
       "23                                          (postage)   \n",
       "27                                          (postage)   \n",
       "28                           (woodland charlotte bag)   \n",
       "0                                           (postage)   \n",
       "24                                          (postage)   \n",
       "1                            (6 ribbons rustic charm)   \n",
       "25                               (spaceboy lunch box)   \n",
       "19                         (regency cakestand 3 tier)   \n",
       "18                                          (postage)   \n",
       "4                        (jumbo bag woodland animals)   \n",
       "3                                           (postage)   \n",
       "8                                           (postage)   \n",
       "9                     (plasters in tin circus parade)   \n",
       "5                                (lunch bag woodland)   \n",
       "26                (strawberry lunch box with cutlery)   \n",
       "13                 (plasters in tin woodland animals)   \n",
       "14                                          (postage)   \n",
       "17                    (red toadstool led night light)   \n",
       "2                            (jam making set printed)   \n",
       "\n",
       "                                          consequents  antecedent support  \\\n",
       "7                  (plasters in tin woodland animals)            0.087894   \n",
       "6                     (plasters in tin circus parade)            0.104478   \n",
       "38      (round snack boxes set of4 woodland, postage)            0.119403   \n",
       "33                (round snack boxes set of 4 fruits)            0.170813   \n",
       "29                (round snack boxes set of 4 fruits)            0.185738   \n",
       "30               (round snack boxes set of4 woodland)            0.119403   \n",
       "35               (round snack boxes set of4 woodland)            0.114428   \n",
       "36       (postage, round snack boxes set of 4 fruits)            0.185738   \n",
       "32               (round snack boxes set of4 woodland)            0.077944   \n",
       "31                               (spaceboy lunch box)            0.185738   \n",
       "15                 (plasters in tin woodland animals)            0.185738   \n",
       "16               (round snack boxes set of4 woodland)            0.104478   \n",
       "12                                          (postage)            0.053068   \n",
       "21                                          (postage)            0.119403   \n",
       "20                (round snack boxes set of 4 fruits)            0.620232   \n",
       "34                                          (postage)            0.099502   \n",
       "37  (round snack boxes set of4 woodland, round sna...            0.620232   \n",
       "11                                          (postage)            0.081260   \n",
       "10                         (plasters in tin spaceboy)            0.620232   \n",
       "22                                          (postage)            0.185738   \n",
       "23               (round snack boxes set of4 woodland)            0.620232   \n",
       "27                           (woodland charlotte bag)            0.620232   \n",
       "28                                          (postage)            0.096186   \n",
       "0                            (6 ribbons rustic charm)            0.620232   \n",
       "24                               (spaceboy lunch box)            0.620232   \n",
       "1                                           (postage)            0.077944   \n",
       "25                                          (postage)            0.077944   \n",
       "19                                          (postage)            0.104478   \n",
       "18                         (regency cakestand 3 tier)            0.620232   \n",
       "4                                           (postage)            0.076285   \n",
       "3                        (jumbo bag woodland animals)            0.620232   \n",
       "8                     (plasters in tin circus parade)            0.620232   \n",
       "9                                           (postage)            0.087894   \n",
       "5                                           (postage)            0.059701   \n",
       "26                                          (postage)            0.059701   \n",
       "13                                          (postage)            0.104478   \n",
       "14                 (plasters in tin woodland animals)            0.620232   \n",
       "17                                          (postage)            0.072968   \n",
       "2                                           (postage)            0.069652   \n",
       "\n",
       "    consequent support   support  confidence      lift  leverage  conviction  \n",
       "7             0.104478  0.051410    0.584906  5.598383  0.042227    2.157395  \n",
       "6             0.087894  0.051410    0.492063  5.598383  0.042227    1.795709  \n",
       "38            0.170813  0.094527    0.791667  4.634709  0.074132    3.980100  \n",
       "33            0.119403  0.094527    0.553398  4.634709  0.074132    1.971772  \n",
       "29            0.119403  0.099502    0.535714  4.486607  0.077325    1.896670  \n",
       "30            0.185738  0.099502    0.833333  4.486607  0.077325    4.885572  \n",
       "35            0.185738  0.094527    0.826087  4.447593  0.073274    4.682007  \n",
       "36            0.114428  0.094527    0.508929  4.447593  0.073274    1.803347  \n",
       "32            0.185738  0.053068    0.680851  3.665653  0.038591    2.551354  \n",
       "31            0.077944  0.053068    0.285714  3.665653  0.038591    1.290879  \n",
       "15            0.104478  0.056385    0.303571  2.905612  0.036979    1.285878  \n",
       "16            0.185738  0.056385    0.539683  2.905612  0.036979    1.768914  \n",
       "12            0.620232  0.051410    0.968750  1.561915  0.018495   12.152570  \n",
       "21            0.620232  0.114428    0.958333  1.545120  0.040370    9.114428  \n",
       "20            0.119403  0.114428    0.184492  1.545120  0.040370    1.079814  \n",
       "34            0.620232  0.094527    0.950000  1.531684  0.032813    7.595357  \n",
       "37            0.099502  0.094527    0.152406  1.531684  0.032813    1.062417  \n",
       "11            0.620232  0.076285    0.938776  1.513587  0.025885    6.202875  \n",
       "10            0.081260  0.076285    0.122995  1.513587  0.025885    1.047587  \n",
       "22            0.620232  0.170813    0.919643  1.482740  0.055612    4.726000  \n",
       "23            0.185738  0.170813    0.275401  1.482740  0.055612    1.123742  \n",
       "27            0.096186  0.087894    0.141711  1.473308  0.028236    1.053042  \n",
       "28            0.620232  0.087894    0.913793  1.473308  0.028236    4.405307  \n",
       "0             0.077944  0.069652    0.112299  1.440778  0.021309    1.038702  \n",
       "24            0.077944  0.069652    0.112299  1.440778  0.021309    1.038702  \n",
       "1             0.620232  0.069652    0.893617  1.440778  0.021309    3.569818  \n",
       "25            0.620232  0.069652    0.893617  1.440778  0.021309    3.569818  \n",
       "19            0.620232  0.091211    0.873016  1.407563  0.026410    2.990672  \n",
       "18            0.104478  0.091211    0.147059  1.407563  0.026410    1.049923  \n",
       "4             0.620232  0.066335    0.869565  1.402000  0.019020    2.911553  \n",
       "3             0.076285  0.066335    0.106952  1.402000  0.019020    1.034339  \n",
       "8             0.087894  0.076285    0.122995  1.399354  0.021771    1.040023  \n",
       "9             0.620232  0.076285    0.867925  1.399354  0.021771    2.875385  \n",
       "5             0.620232  0.051410    0.861111  1.388369  0.014381    2.734328  \n",
       "26            0.620232  0.051410    0.861111  1.388369  0.014381    2.734328  \n",
       "13            0.620232  0.089552    0.857143  1.381971  0.024752    2.658375  \n",
       "14            0.104478  0.089552    0.144385  1.381971  0.024752    1.046642  \n",
       "17            0.620232  0.061360    0.840909  1.355797  0.016102    2.387112  \n",
       "2             0.620232  0.056385    0.809524  1.305195  0.013184    1.993781  "
      ],
      "text/html": "<div>\n<style scoped>\n    .dataframe tbody tr th:only-of-type {\n        vertical-align: middle;\n    }\n\n    .dataframe tbody tr th {\n        vertical-align: top;\n    }\n\n    .dataframe thead th {\n        text-align: right;\n    }\n</style>\n<table border=\"1\" class=\"dataframe\">\n  <thead>\n    <tr style=\"text-align: right;\">\n      <th></th>\n      <th>antecedents</th>\n      <th>consequents</th>\n      <th>antecedent support</th>\n      <th>consequent support</th>\n      <th>support</th>\n      <th>confidence</th>\n      <th>lift</th>\n      <th>leverage</th>\n      <th>conviction</th>\n    </tr>\n  </thead>\n  <tbody>\n    <tr>\n      <th>7</th>\n      <td>(plasters in tin circus parade)</td>\n      <td>(plasters in tin woodland animals)</td>\n      <td>0.087894</td>\n      <td>0.104478</td>\n      <td>0.051410</td>\n      <td>0.584906</td>\n      <td>5.598383</td>\n      <td>0.042227</td>\n      <td>2.157395</td>\n    </tr>\n    <tr>\n      <th>6</th>\n      <td>(plasters in tin woodland animals)</td>\n      <td>(plasters in tin circus parade)</td>\n      <td>0.104478</td>\n      <td>0.087894</td>\n      <td>0.051410</td>\n      <td>0.492063</td>\n      <td>5.598383</td>\n      <td>0.042227</td>\n      <td>1.795709</td>\n    </tr>\n    <tr>\n      <th>38</th>\n      <td>(round snack boxes set of 4 fruits)</td>\n      <td>(round snack boxes set of4 woodland, postage)</td>\n      <td>0.119403</td>\n      <td>0.170813</td>\n      <td>0.094527</td>\n      <td>0.791667</td>\n      <td>4.634709</td>\n      <td>0.074132</td>\n      <td>3.980100</td>\n    </tr>\n    <tr>\n      <th>33</th>\n      <td>(round snack boxes set of4 woodland, postage)</td>\n      <td>(round snack boxes set of 4 fruits)</td>\n      <td>0.170813</td>\n      <td>0.119403</td>\n      <td>0.094527</td>\n      <td>0.553398</td>\n      <td>4.634709</td>\n      <td>0.074132</td>\n      <td>1.971772</td>\n    </tr>\n    <tr>\n      <th>29</th>\n      <td>(round snack boxes set of4 woodland)</td>\n      <td>(round snack boxes set of 4 fruits)</td>\n      <td>0.185738</td>\n      <td>0.119403</td>\n      <td>0.099502</td>\n      <td>0.535714</td>\n      <td>4.486607</td>\n      <td>0.077325</td>\n      <td>1.896670</td>\n    </tr>\n    <tr>\n      <th>30</th>\n      <td>(round snack boxes set of 4 fruits)</td>\n      <td>(round snack boxes set of4 woodland)</td>\n      <td>0.119403</td>\n      <td>0.185738</td>\n      <td>0.099502</td>\n      <td>0.833333</td>\n      <td>4.486607</td>\n      <td>0.077325</td>\n      <td>4.885572</td>\n    </tr>\n    <tr>\n      <th>35</th>\n      <td>(postage, round snack boxes set of 4 fruits)</td>\n      <td>(round snack boxes set of4 woodland)</td>\n      <td>0.114428</td>\n      <td>0.185738</td>\n      <td>0.094527</td>\n      <td>0.826087</td>\n      <td>4.447593</td>\n      <td>0.073274</td>\n      <td>4.682007</td>\n    </tr>\n    <tr>\n      <th>36</th>\n      <td>(round snack boxes set of4 woodland)</td>\n      <td>(postage, round snack boxes set of 4 fruits)</td>\n      <td>0.185738</td>\n      <td>0.114428</td>\n      <td>0.094527</td>\n      <td>0.508929</td>\n      <td>4.447593</td>\n      <td>0.073274</td>\n      <td>1.803347</td>\n    </tr>\n    <tr>\n      <th>32</th>\n      <td>(spaceboy lunch box)</td>\n      <td>(round snack boxes set of4 woodland)</td>\n      <td>0.077944</td>\n      <td>0.185738</td>\n      <td>0.053068</td>\n      <td>0.680851</td>\n      <td>3.665653</td>\n      <td>0.038591</td>\n      <td>2.551354</td>\n    </tr>\n    <tr>\n      <th>31</th>\n      <td>(round snack boxes set of4 woodland)</td>\n      <td>(spaceboy lunch box)</td>\n      <td>0.185738</td>\n      <td>0.077944</td>\n      <td>0.053068</td>\n      <td>0.285714</td>\n      <td>3.665653</td>\n      <td>0.038591</td>\n      <td>1.290879</td>\n    </tr>\n    <tr>\n      <th>15</th>\n      <td>(round snack boxes set of4 woodland)</td>\n      <td>(plasters in tin woodland animals)</td>\n      <td>0.185738</td>\n      <td>0.104478</td>\n      <td>0.056385</td>\n      <td>0.303571</td>\n      <td>2.905612</td>\n      <td>0.036979</td>\n      <td>1.285878</td>\n    </tr>\n    <tr>\n      <th>16</th>\n      <td>(plasters in tin woodland animals)</td>\n      <td>(round snack boxes set of4 woodland)</td>\n      <td>0.104478</td>\n      <td>0.185738</td>\n      <td>0.056385</td>\n      <td>0.539683</td>\n      <td>2.905612</td>\n      <td>0.036979</td>\n      <td>1.768914</td>\n    </tr>\n    <tr>\n      <th>12</th>\n      <td>(plasters in tin strongman)</td>\n      <td>(postage)</td>\n      <td>0.053068</td>\n      <td>0.620232</td>\n      <td>0.051410</td>\n      <td>0.968750</td>\n      <td>1.561915</td>\n      <td>0.018495</td>\n      <td>12.152570</td>\n    </tr>\n    <tr>\n      <th>21</th>\n      <td>(round snack boxes set of 4 fruits)</td>\n      <td>(postage)</td>\n      <td>0.119403</td>\n      <td>0.620232</td>\n      <td>0.114428</td>\n      <td>0.958333</td>\n      <td>1.545120</td>\n      <td>0.040370</td>\n      <td>9.114428</td>\n    </tr>\n    <tr>\n      <th>20</th>\n      <td>(postage)</td>\n      <td>(round snack boxes set of 4 fruits)</td>\n      <td>0.620232</td>\n      <td>0.119403</td>\n      <td>0.114428</td>\n      <td>0.184492</td>\n      <td>1.545120</td>\n      <td>0.040370</td>\n      <td>1.079814</td>\n    </tr>\n    <tr>\n      <th>34</th>\n      <td>(round snack boxes set of4 woodland, round sna...</td>\n      <td>(postage)</td>\n      <td>0.099502</td>\n      <td>0.620232</td>\n      <td>0.094527</td>\n      <td>0.950000</td>\n      <td>1.531684</td>\n      <td>0.032813</td>\n      <td>7.595357</td>\n    </tr>\n    <tr>\n      <th>37</th>\n      <td>(postage)</td>\n      <td>(round snack boxes set of4 woodland, round sna...</td>\n      <td>0.620232</td>\n      <td>0.099502</td>\n      <td>0.094527</td>\n      <td>0.152406</td>\n      <td>1.531684</td>\n      <td>0.032813</td>\n      <td>1.062417</td>\n    </tr>\n    <tr>\n      <th>11</th>\n      <td>(plasters in tin spaceboy)</td>\n      <td>(postage)</td>\n      <td>0.081260</td>\n      <td>0.620232</td>\n      <td>0.076285</td>\n      <td>0.938776</td>\n      <td>1.513587</td>\n      <td>0.025885</td>\n      <td>6.202875</td>\n    </tr>\n    <tr>\n      <th>10</th>\n      <td>(postage)</td>\n      <td>(plasters in tin spaceboy)</td>\n      <td>0.620232</td>\n      <td>0.081260</td>\n      <td>0.076285</td>\n      <td>0.122995</td>\n      <td>1.513587</td>\n      <td>0.025885</td>\n      <td>1.047587</td>\n    </tr>\n    <tr>\n      <th>22</th>\n      <td>(round snack boxes set of4 woodland)</td>\n      <td>(postage)</td>\n      <td>0.185738</td>\n      <td>0.620232</td>\n      <td>0.170813</td>\n      <td>0.919643</td>\n      <td>1.482740</td>\n      <td>0.055612</td>\n      <td>4.726000</td>\n    </tr>\n    <tr>\n      <th>23</th>\n      <td>(postage)</td>\n      <td>(round snack boxes set of4 woodland)</td>\n      <td>0.620232</td>\n      <td>0.185738</td>\n      <td>0.170813</td>\n      <td>0.275401</td>\n      <td>1.482740</td>\n      <td>0.055612</td>\n      <td>1.123742</td>\n    </tr>\n    <tr>\n      <th>27</th>\n      <td>(postage)</td>\n      <td>(woodland charlotte bag)</td>\n      <td>0.620232</td>\n      <td>0.096186</td>\n      <td>0.087894</td>\n      <td>0.141711</td>\n      <td>1.473308</td>\n      <td>0.028236</td>\n      <td>1.053042</td>\n    </tr>\n    <tr>\n      <th>28</th>\n      <td>(woodland charlotte bag)</td>\n      <td>(postage)</td>\n      <td>0.096186</td>\n      <td>0.620232</td>\n      <td>0.087894</td>\n      <td>0.913793</td>\n      <td>1.473308</td>\n      <td>0.028236</td>\n      <td>4.405307</td>\n    </tr>\n    <tr>\n      <th>0</th>\n      <td>(postage)</td>\n      <td>(6 ribbons rustic charm)</td>\n      <td>0.620232</td>\n      <td>0.077944</td>\n      <td>0.069652</td>\n      <td>0.112299</td>\n      <td>1.440778</td>\n      <td>0.021309</td>\n      <td>1.038702</td>\n    </tr>\n    <tr>\n      <th>24</th>\n      <td>(postage)</td>\n      <td>(spaceboy lunch box)</td>\n      <td>0.620232</td>\n      <td>0.077944</td>\n      <td>0.069652</td>\n      <td>0.112299</td>\n      <td>1.440778</td>\n      <td>0.021309</td>\n      <td>1.038702</td>\n    </tr>\n    <tr>\n      <th>1</th>\n      <td>(6 ribbons rustic charm)</td>\n      <td>(postage)</td>\n      <td>0.077944</td>\n      <td>0.620232</td>\n      <td>0.069652</td>\n      <td>0.893617</td>\n      <td>1.440778</td>\n      <td>0.021309</td>\n      <td>3.569818</td>\n    </tr>\n    <tr>\n      <th>25</th>\n      <td>(spaceboy lunch box)</td>\n      <td>(postage)</td>\n      <td>0.077944</td>\n      <td>0.620232</td>\n      <td>0.069652</td>\n      <td>0.893617</td>\n      <td>1.440778</td>\n      <td>0.021309</td>\n      <td>3.569818</td>\n    </tr>\n    <tr>\n      <th>19</th>\n      <td>(regency cakestand 3 tier)</td>\n      <td>(postage)</td>\n      <td>0.104478</td>\n      <td>0.620232</td>\n      <td>0.091211</td>\n      <td>0.873016</td>\n      <td>1.407563</td>\n      <td>0.026410</td>\n      <td>2.990672</td>\n    </tr>\n    <tr>\n      <th>18</th>\n      <td>(postage)</td>\n      <td>(regency cakestand 3 tier)</td>\n      <td>0.620232</td>\n      <td>0.104478</td>\n      <td>0.091211</td>\n      <td>0.147059</td>\n      <td>1.407563</td>\n      <td>0.026410</td>\n      <td>1.049923</td>\n    </tr>\n    <tr>\n      <th>4</th>\n      <td>(jumbo bag woodland animals)</td>\n      <td>(postage)</td>\n      <td>0.076285</td>\n      <td>0.620232</td>\n      <td>0.066335</td>\n      <td>0.869565</td>\n      <td>1.402000</td>\n      <td>0.019020</td>\n      <td>2.911553</td>\n    </tr>\n    <tr>\n      <th>3</th>\n      <td>(postage)</td>\n      <td>(jumbo bag woodland animals)</td>\n      <td>0.620232</td>\n      <td>0.076285</td>\n      <td>0.066335</td>\n      <td>0.106952</td>\n      <td>1.402000</td>\n      <td>0.019020</td>\n      <td>1.034339</td>\n    </tr>\n    <tr>\n      <th>8</th>\n      <td>(postage)</td>\n      <td>(plasters in tin circus parade)</td>\n      <td>0.620232</td>\n      <td>0.087894</td>\n      <td>0.076285</td>\n      <td>0.122995</td>\n      <td>1.399354</td>\n      <td>0.021771</td>\n      <td>1.040023</td>\n    </tr>\n    <tr>\n      <th>9</th>\n      <td>(plasters in tin circus parade)</td>\n      <td>(postage)</td>\n      <td>0.087894</td>\n      <td>0.620232</td>\n      <td>0.076285</td>\n      <td>0.867925</td>\n      <td>1.399354</td>\n      <td>0.021771</td>\n      <td>2.875385</td>\n    </tr>\n    <tr>\n      <th>5</th>\n      <td>(lunch bag woodland)</td>\n      <td>(postage)</td>\n      <td>0.059701</td>\n      <td>0.620232</td>\n      <td>0.051410</td>\n      <td>0.861111</td>\n      <td>1.388369</td>\n      <td>0.014381</td>\n      <td>2.734328</td>\n    </tr>\n    <tr>\n      <th>26</th>\n      <td>(strawberry lunch box with cutlery)</td>\n      <td>(postage)</td>\n      <td>0.059701</td>\n      <td>0.620232</td>\n      <td>0.051410</td>\n      <td>0.861111</td>\n      <td>1.388369</td>\n      <td>0.014381</td>\n      <td>2.734328</td>\n    </tr>\n    <tr>\n      <th>13</th>\n      <td>(plasters in tin woodland animals)</td>\n      <td>(postage)</td>\n      <td>0.104478</td>\n      <td>0.620232</td>\n      <td>0.089552</td>\n      <td>0.857143</td>\n      <td>1.381971</td>\n      <td>0.024752</td>\n      <td>2.658375</td>\n    </tr>\n    <tr>\n      <th>14</th>\n      <td>(postage)</td>\n      <td>(plasters in tin woodland animals)</td>\n      <td>0.620232</td>\n      <td>0.104478</td>\n      <td>0.089552</td>\n      <td>0.144385</td>\n      <td>1.381971</td>\n      <td>0.024752</td>\n      <td>1.046642</td>\n    </tr>\n    <tr>\n      <th>17</th>\n      <td>(red toadstool led night light)</td>\n      <td>(postage)</td>\n      <td>0.072968</td>\n      <td>0.620232</td>\n      <td>0.061360</td>\n      <td>0.840909</td>\n      <td>1.355797</td>\n      <td>0.016102</td>\n      <td>2.387112</td>\n    </tr>\n    <tr>\n      <th>2</th>\n      <td>(jam making set printed)</td>\n      <td>(postage)</td>\n      <td>0.069652</td>\n      <td>0.620232</td>\n      <td>0.056385</td>\n      <td>0.809524</td>\n      <td>1.305195</td>\n      <td>0.013184</td>\n      <td>1.993781</td>\n    </tr>\n  </tbody>\n</table>\n</div>"
     },
     "metadata": {},
     "execution_count": 42
    }
   ],
   "source": [
    "ar.sort_values(['lift','confidence'],ascending=[False,False],inplace=True)\n",
    "ar"
   ]
  },
  {
   "cell_type": "code",
   "execution_count": null,
   "metadata": {},
   "outputs": [],
   "source": []
  }
 ]
}