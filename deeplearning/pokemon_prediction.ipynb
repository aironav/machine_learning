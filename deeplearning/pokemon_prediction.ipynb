{
 "metadata": {
  "language_info": {
   "codemirror_mode": {
    "name": "ipython",
    "version": 3
   },
   "file_extension": ".py",
   "mimetype": "text/x-python",
   "name": "python",
   "nbconvert_exporter": "python",
   "pygments_lexer": "ipython3",
   "version": "3.8.8"
  },
  "orig_nbformat": 2,
  "kernelspec": {
   "name": "python388jvsc74a57bd01baa965d5efe3ac65b79dfc60c0d706280b1da80fedb7760faf2759126c4f253",
   "display_name": "Python 3.8.8 64-bit"
  },
  "metadata": {
   "interpreter": {
    "hash": "1baa965d5efe3ac65b79dfc60c0d706280b1da80fedb7760faf2759126c4f253"
   }
  }
 },
 "nbformat": 4,
 "nbformat_minor": 2,
 "cells": [
  {
   "source": [
    "### download csv from here\n",
    "https://www.kaggle.com/alopez247/pokemon"
   ],
   "cell_type": "markdown",
   "metadata": {}
  },
  {
   "cell_type": "code",
   "execution_count": 37,
   "metadata": {},
   "outputs": [],
   "source": [
    "import tensorflow as tf\n",
    "import numpy as np\n",
    "import pandas as pd\n",
    "import matplotlib.pyplot as plt\n",
    "from sklearn import preprocessing"
   ]
  },
  {
   "cell_type": "code",
   "execution_count": 38,
   "metadata": {},
   "outputs": [],
   "source": [
    "df = pd.read_csv('../datasets/pokemon_alopez247.csv',index_col='Number')"
   ]
  },
  {
   "cell_type": "code",
   "execution_count": 39,
   "metadata": {},
   "outputs": [
    {
     "output_type": "execute_result",
     "data": {
      "text/plain": [
       "              Name Type_1  Type_2  Total  HP  Attack  Defense  Sp_Atk  Sp_Def  \\\n",
       "Number                                                                          \n",
       "1        Bulbasaur  Grass  Poison    318  45      49       49      65      65   \n",
       "2          Ivysaur  Grass  Poison    405  60      62       63      80      80   \n",
       "3         Venusaur  Grass  Poison    525  80      82       83     100     100   \n",
       "4       Charmander   Fire     NaN    309  39      52       43      60      50   \n",
       "5       Charmeleon   Fire     NaN    405  58      64       58      80      65   \n",
       "\n",
       "        Speed  ...  Color  hasGender Pr_Male  Egg_Group_1  Egg_Group_2  \\\n",
       "Number         ...                                                       \n",
       "1          45  ...  Green       True   0.875      Monster        Grass   \n",
       "2          60  ...  Green       True   0.875      Monster        Grass   \n",
       "3          80  ...  Green       True   0.875      Monster        Grass   \n",
       "4          65  ...    Red       True   0.875      Monster       Dragon   \n",
       "5          80  ...    Red       True   0.875      Monster       Dragon   \n",
       "\n",
       "       hasMegaEvolution Height_m  Weight_kg  Catch_Rate      Body_Style  \n",
       "Number                                                                   \n",
       "1                 False     0.71        6.9          45       quadruped  \n",
       "2                 False     0.99       13.0          45       quadruped  \n",
       "3                  True     2.01      100.0          45       quadruped  \n",
       "4                 False     0.61        8.5          45  bipedal_tailed  \n",
       "5                 False     1.09       19.0          45  bipedal_tailed  \n",
       "\n",
       "[5 rows x 22 columns]"
      ],
      "text/html": "<div>\n<style scoped>\n    .dataframe tbody tr th:only-of-type {\n        vertical-align: middle;\n    }\n\n    .dataframe tbody tr th {\n        vertical-align: top;\n    }\n\n    .dataframe thead th {\n        text-align: right;\n    }\n</style>\n<table border=\"1\" class=\"dataframe\">\n  <thead>\n    <tr style=\"text-align: right;\">\n      <th></th>\n      <th>Name</th>\n      <th>Type_1</th>\n      <th>Type_2</th>\n      <th>Total</th>\n      <th>HP</th>\n      <th>Attack</th>\n      <th>Defense</th>\n      <th>Sp_Atk</th>\n      <th>Sp_Def</th>\n      <th>Speed</th>\n      <th>...</th>\n      <th>Color</th>\n      <th>hasGender</th>\n      <th>Pr_Male</th>\n      <th>Egg_Group_1</th>\n      <th>Egg_Group_2</th>\n      <th>hasMegaEvolution</th>\n      <th>Height_m</th>\n      <th>Weight_kg</th>\n      <th>Catch_Rate</th>\n      <th>Body_Style</th>\n    </tr>\n    <tr>\n      <th>Number</th>\n      <th></th>\n      <th></th>\n      <th></th>\n      <th></th>\n      <th></th>\n      <th></th>\n      <th></th>\n      <th></th>\n      <th></th>\n      <th></th>\n      <th></th>\n      <th></th>\n      <th></th>\n      <th></th>\n      <th></th>\n      <th></th>\n      <th></th>\n      <th></th>\n      <th></th>\n      <th></th>\n      <th></th>\n    </tr>\n  </thead>\n  <tbody>\n    <tr>\n      <th>1</th>\n      <td>Bulbasaur</td>\n      <td>Grass</td>\n      <td>Poison</td>\n      <td>318</td>\n      <td>45</td>\n      <td>49</td>\n      <td>49</td>\n      <td>65</td>\n      <td>65</td>\n      <td>45</td>\n      <td>...</td>\n      <td>Green</td>\n      <td>True</td>\n      <td>0.875</td>\n      <td>Monster</td>\n      <td>Grass</td>\n      <td>False</td>\n      <td>0.71</td>\n      <td>6.9</td>\n      <td>45</td>\n      <td>quadruped</td>\n    </tr>\n    <tr>\n      <th>2</th>\n      <td>Ivysaur</td>\n      <td>Grass</td>\n      <td>Poison</td>\n      <td>405</td>\n      <td>60</td>\n      <td>62</td>\n      <td>63</td>\n      <td>80</td>\n      <td>80</td>\n      <td>60</td>\n      <td>...</td>\n      <td>Green</td>\n      <td>True</td>\n      <td>0.875</td>\n      <td>Monster</td>\n      <td>Grass</td>\n      <td>False</td>\n      <td>0.99</td>\n      <td>13.0</td>\n      <td>45</td>\n      <td>quadruped</td>\n    </tr>\n    <tr>\n      <th>3</th>\n      <td>Venusaur</td>\n      <td>Grass</td>\n      <td>Poison</td>\n      <td>525</td>\n      <td>80</td>\n      <td>82</td>\n      <td>83</td>\n      <td>100</td>\n      <td>100</td>\n      <td>80</td>\n      <td>...</td>\n      <td>Green</td>\n      <td>True</td>\n      <td>0.875</td>\n      <td>Monster</td>\n      <td>Grass</td>\n      <td>True</td>\n      <td>2.01</td>\n      <td>100.0</td>\n      <td>45</td>\n      <td>quadruped</td>\n    </tr>\n    <tr>\n      <th>4</th>\n      <td>Charmander</td>\n      <td>Fire</td>\n      <td>NaN</td>\n      <td>309</td>\n      <td>39</td>\n      <td>52</td>\n      <td>43</td>\n      <td>60</td>\n      <td>50</td>\n      <td>65</td>\n      <td>...</td>\n      <td>Red</td>\n      <td>True</td>\n      <td>0.875</td>\n      <td>Monster</td>\n      <td>Dragon</td>\n      <td>False</td>\n      <td>0.61</td>\n      <td>8.5</td>\n      <td>45</td>\n      <td>bipedal_tailed</td>\n    </tr>\n    <tr>\n      <th>5</th>\n      <td>Charmeleon</td>\n      <td>Fire</td>\n      <td>NaN</td>\n      <td>405</td>\n      <td>58</td>\n      <td>64</td>\n      <td>58</td>\n      <td>80</td>\n      <td>65</td>\n      <td>80</td>\n      <td>...</td>\n      <td>Red</td>\n      <td>True</td>\n      <td>0.875</td>\n      <td>Monster</td>\n      <td>Dragon</td>\n      <td>False</td>\n      <td>1.09</td>\n      <td>19.0</td>\n      <td>45</td>\n      <td>bipedal_tailed</td>\n    </tr>\n  </tbody>\n</table>\n<p>5 rows × 22 columns</p>\n</div>"
     },
     "metadata": {},
     "execution_count": 39
    }
   ],
   "source": [
    "df.head()"
   ]
  },
  {
   "cell_type": "code",
   "execution_count": 40,
   "metadata": {},
   "outputs": [
    {
     "output_type": "stream",
     "name": "stdout",
     "text": [
      "<class 'pandas.core.frame.DataFrame'>\nInt64Index: 721 entries, 1 to 721\nData columns (total 22 columns):\n #   Column            Non-Null Count  Dtype  \n---  ------            --------------  -----  \n 0   Name              721 non-null    object \n 1   Type_1            721 non-null    object \n 2   Type_2            350 non-null    object \n 3   Total             721 non-null    int64  \n 4   HP                721 non-null    int64  \n 5   Attack            721 non-null    int64  \n 6   Defense           721 non-null    int64  \n 7   Sp_Atk            721 non-null    int64  \n 8   Sp_Def            721 non-null    int64  \n 9   Speed             721 non-null    int64  \n 10  Generation        721 non-null    int64  \n 11  isLegendary       721 non-null    bool   \n 12  Color             721 non-null    object \n 13  hasGender         721 non-null    bool   \n 14  Pr_Male           644 non-null    float64\n 15  Egg_Group_1       721 non-null    object \n 16  Egg_Group_2       191 non-null    object \n 17  hasMegaEvolution  721 non-null    bool   \n 18  Height_m          721 non-null    float64\n 19  Weight_kg         721 non-null    float64\n 20  Catch_Rate        721 non-null    int64  \n 21  Body_Style        721 non-null    object \ndtypes: bool(3), float64(3), int64(9), object(7)\nmemory usage: 114.8+ KB\n"
     ]
    }
   ],
   "source": [
    "df.info()"
   ]
  },
  {
   "cell_type": "code",
   "execution_count": 41,
   "metadata": {},
   "outputs": [
    {
     "output_type": "execute_result",
     "data": {
      "text/plain": [
       "['Name',\n",
       " 'Type_1',\n",
       " 'Type_2',\n",
       " 'Total',\n",
       " 'HP',\n",
       " 'Attack',\n",
       " 'Defense',\n",
       " 'Sp_Atk',\n",
       " 'Sp_Def',\n",
       " 'Speed',\n",
       " 'Generation',\n",
       " 'isLegendary',\n",
       " 'Color',\n",
       " 'hasGender',\n",
       " 'Pr_Male',\n",
       " 'Egg_Group_1',\n",
       " 'Egg_Group_2',\n",
       " 'hasMegaEvolution',\n",
       " 'Height_m',\n",
       " 'Weight_kg',\n",
       " 'Catch_Rate',\n",
       " 'Body_Style']"
      ]
     },
     "metadata": {},
     "execution_count": 41
    }
   ],
   "source": [
    "df.columns.tolist()"
   ]
  },
  {
   "cell_type": "code",
   "execution_count": 42,
   "metadata": {},
   "outputs": [],
   "source": [
    "df = df[['isLegendary','Generation', 'Type_1', 'Type_2', 'HP', 'Attack', 'Defense', 'Sp_Atk', 'Sp_Def', 'Speed','Color','Egg_Group_1','Height_m','Weight_kg','Body_Style']]"
   ]
  },
  {
   "cell_type": "code",
   "execution_count": 43,
   "metadata": {},
   "outputs": [
    {
     "output_type": "execute_result",
     "data": {
      "text/plain": [
       "        isLegendary  Generation   Type_1  Type_2   HP  Attack  Defense  \\\n",
       "Number                                                                   \n",
       "1             False           1    Grass  Poison   45      49       49   \n",
       "2             False           1    Grass  Poison   60      62       63   \n",
       "3             False           1    Grass  Poison   80      82       83   \n",
       "4             False           1     Fire     NaN   39      52       43   \n",
       "5             False           1     Fire     NaN   58      64       58   \n",
       "...             ...         ...      ...     ...  ...     ...      ...   \n",
       "717            True           6     Dark  Flying  126     131       95   \n",
       "718            True           6   Dragon  Ground  108     100      121   \n",
       "719            True           6     Rock   Fairy   50     100      150   \n",
       "720            True           6  Psychic   Ghost   80     110       60   \n",
       "721            True           6     Fire   Water   80     110      120   \n",
       "\n",
       "        Sp_Atk  Sp_Def  Speed   Color   Egg_Group_1  Height_m  Weight_kg  \\\n",
       "Number                                                                     \n",
       "1           65      65     45   Green       Monster      0.71        6.9   \n",
       "2           80      80     60   Green       Monster      0.99       13.0   \n",
       "3          100     100     80   Green       Monster      2.01      100.0   \n",
       "4           60      50     65     Red       Monster      0.61        8.5   \n",
       "5           80      65     80     Red       Monster      1.09       19.0   \n",
       "...        ...     ...    ...     ...           ...       ...        ...   \n",
       "717        131      98     99     Red  Undiscovered      5.79      203.0   \n",
       "718         81      95     95   Green  Undiscovered      5.00      305.0   \n",
       "719        100     150     50    Pink  Undiscovered      0.71        8.8   \n",
       "720        150     130     70  Purple  Undiscovered      0.51        9.0   \n",
       "721        130      90     70   Brown  Undiscovered      1.70      195.0   \n",
       "\n",
       "             Body_Style  \n",
       "Number                   \n",
       "1             quadruped  \n",
       "2             quadruped  \n",
       "3             quadruped  \n",
       "4        bipedal_tailed  \n",
       "5        bipedal_tailed  \n",
       "...                 ...  \n",
       "717           two_wings  \n",
       "718     serpentine_body  \n",
       "719           head_arms  \n",
       "720           head_only  \n",
       "721           quadruped  \n",
       "\n",
       "[721 rows x 15 columns]"
      ],
      "text/html": "<div>\n<style scoped>\n    .dataframe tbody tr th:only-of-type {\n        vertical-align: middle;\n    }\n\n    .dataframe tbody tr th {\n        vertical-align: top;\n    }\n\n    .dataframe thead th {\n        text-align: right;\n    }\n</style>\n<table border=\"1\" class=\"dataframe\">\n  <thead>\n    <tr style=\"text-align: right;\">\n      <th></th>\n      <th>isLegendary</th>\n      <th>Generation</th>\n      <th>Type_1</th>\n      <th>Type_2</th>\n      <th>HP</th>\n      <th>Attack</th>\n      <th>Defense</th>\n      <th>Sp_Atk</th>\n      <th>Sp_Def</th>\n      <th>Speed</th>\n      <th>Color</th>\n      <th>Egg_Group_1</th>\n      <th>Height_m</th>\n      <th>Weight_kg</th>\n      <th>Body_Style</th>\n    </tr>\n    <tr>\n      <th>Number</th>\n      <th></th>\n      <th></th>\n      <th></th>\n      <th></th>\n      <th></th>\n      <th></th>\n      <th></th>\n      <th></th>\n      <th></th>\n      <th></th>\n      <th></th>\n      <th></th>\n      <th></th>\n      <th></th>\n      <th></th>\n    </tr>\n  </thead>\n  <tbody>\n    <tr>\n      <th>1</th>\n      <td>False</td>\n      <td>1</td>\n      <td>Grass</td>\n      <td>Poison</td>\n      <td>45</td>\n      <td>49</td>\n      <td>49</td>\n      <td>65</td>\n      <td>65</td>\n      <td>45</td>\n      <td>Green</td>\n      <td>Monster</td>\n      <td>0.71</td>\n      <td>6.9</td>\n      <td>quadruped</td>\n    </tr>\n    <tr>\n      <th>2</th>\n      <td>False</td>\n      <td>1</td>\n      <td>Grass</td>\n      <td>Poison</td>\n      <td>60</td>\n      <td>62</td>\n      <td>63</td>\n      <td>80</td>\n      <td>80</td>\n      <td>60</td>\n      <td>Green</td>\n      <td>Monster</td>\n      <td>0.99</td>\n      <td>13.0</td>\n      <td>quadruped</td>\n    </tr>\n    <tr>\n      <th>3</th>\n      <td>False</td>\n      <td>1</td>\n      <td>Grass</td>\n      <td>Poison</td>\n      <td>80</td>\n      <td>82</td>\n      <td>83</td>\n      <td>100</td>\n      <td>100</td>\n      <td>80</td>\n      <td>Green</td>\n      <td>Monster</td>\n      <td>2.01</td>\n      <td>100.0</td>\n      <td>quadruped</td>\n    </tr>\n    <tr>\n      <th>4</th>\n      <td>False</td>\n      <td>1</td>\n      <td>Fire</td>\n      <td>NaN</td>\n      <td>39</td>\n      <td>52</td>\n      <td>43</td>\n      <td>60</td>\n      <td>50</td>\n      <td>65</td>\n      <td>Red</td>\n      <td>Monster</td>\n      <td>0.61</td>\n      <td>8.5</td>\n      <td>bipedal_tailed</td>\n    </tr>\n    <tr>\n      <th>5</th>\n      <td>False</td>\n      <td>1</td>\n      <td>Fire</td>\n      <td>NaN</td>\n      <td>58</td>\n      <td>64</td>\n      <td>58</td>\n      <td>80</td>\n      <td>65</td>\n      <td>80</td>\n      <td>Red</td>\n      <td>Monster</td>\n      <td>1.09</td>\n      <td>19.0</td>\n      <td>bipedal_tailed</td>\n    </tr>\n    <tr>\n      <th>...</th>\n      <td>...</td>\n      <td>...</td>\n      <td>...</td>\n      <td>...</td>\n      <td>...</td>\n      <td>...</td>\n      <td>...</td>\n      <td>...</td>\n      <td>...</td>\n      <td>...</td>\n      <td>...</td>\n      <td>...</td>\n      <td>...</td>\n      <td>...</td>\n      <td>...</td>\n    </tr>\n    <tr>\n      <th>717</th>\n      <td>True</td>\n      <td>6</td>\n      <td>Dark</td>\n      <td>Flying</td>\n      <td>126</td>\n      <td>131</td>\n      <td>95</td>\n      <td>131</td>\n      <td>98</td>\n      <td>99</td>\n      <td>Red</td>\n      <td>Undiscovered</td>\n      <td>5.79</td>\n      <td>203.0</td>\n      <td>two_wings</td>\n    </tr>\n    <tr>\n      <th>718</th>\n      <td>True</td>\n      <td>6</td>\n      <td>Dragon</td>\n      <td>Ground</td>\n      <td>108</td>\n      <td>100</td>\n      <td>121</td>\n      <td>81</td>\n      <td>95</td>\n      <td>95</td>\n      <td>Green</td>\n      <td>Undiscovered</td>\n      <td>5.00</td>\n      <td>305.0</td>\n      <td>serpentine_body</td>\n    </tr>\n    <tr>\n      <th>719</th>\n      <td>True</td>\n      <td>6</td>\n      <td>Rock</td>\n      <td>Fairy</td>\n      <td>50</td>\n      <td>100</td>\n      <td>150</td>\n      <td>100</td>\n      <td>150</td>\n      <td>50</td>\n      <td>Pink</td>\n      <td>Undiscovered</td>\n      <td>0.71</td>\n      <td>8.8</td>\n      <td>head_arms</td>\n    </tr>\n    <tr>\n      <th>720</th>\n      <td>True</td>\n      <td>6</td>\n      <td>Psychic</td>\n      <td>Ghost</td>\n      <td>80</td>\n      <td>110</td>\n      <td>60</td>\n      <td>150</td>\n      <td>130</td>\n      <td>70</td>\n      <td>Purple</td>\n      <td>Undiscovered</td>\n      <td>0.51</td>\n      <td>9.0</td>\n      <td>head_only</td>\n    </tr>\n    <tr>\n      <th>721</th>\n      <td>True</td>\n      <td>6</td>\n      <td>Fire</td>\n      <td>Water</td>\n      <td>80</td>\n      <td>110</td>\n      <td>120</td>\n      <td>130</td>\n      <td>90</td>\n      <td>70</td>\n      <td>Brown</td>\n      <td>Undiscovered</td>\n      <td>1.70</td>\n      <td>195.0</td>\n      <td>quadruped</td>\n    </tr>\n  </tbody>\n</table>\n<p>721 rows × 15 columns</p>\n</div>"
     },
     "metadata": {},
     "execution_count": 43
    }
   ],
   "source": [
    "df"
   ]
  },
  {
   "cell_type": "code",
   "execution_count": 44,
   "metadata": {},
   "outputs": [],
   "source": [
    "df['isLegendary'] = df['isLegendary'].astype(int)"
   ]
  },
  {
   "cell_type": "code",
   "execution_count": 45,
   "metadata": {},
   "outputs": [
    {
     "output_type": "execute_result",
     "data": {
      "text/plain": [
       "        isLegendary  Generation   Type_1  Type_2   HP  Attack  Defense  \\\n",
       "Number                                                                   \n",
       "1                 0           1    Grass  Poison   45      49       49   \n",
       "2                 0           1    Grass  Poison   60      62       63   \n",
       "3                 0           1    Grass  Poison   80      82       83   \n",
       "4                 0           1     Fire     NaN   39      52       43   \n",
       "5                 0           1     Fire     NaN   58      64       58   \n",
       "...             ...         ...      ...     ...  ...     ...      ...   \n",
       "717               1           6     Dark  Flying  126     131       95   \n",
       "718               1           6   Dragon  Ground  108     100      121   \n",
       "719               1           6     Rock   Fairy   50     100      150   \n",
       "720               1           6  Psychic   Ghost   80     110       60   \n",
       "721               1           6     Fire   Water   80     110      120   \n",
       "\n",
       "        Sp_Atk  Sp_Def  Speed   Color   Egg_Group_1  Height_m  Weight_kg  \\\n",
       "Number                                                                     \n",
       "1           65      65     45   Green       Monster      0.71        6.9   \n",
       "2           80      80     60   Green       Monster      0.99       13.0   \n",
       "3          100     100     80   Green       Monster      2.01      100.0   \n",
       "4           60      50     65     Red       Monster      0.61        8.5   \n",
       "5           80      65     80     Red       Monster      1.09       19.0   \n",
       "...        ...     ...    ...     ...           ...       ...        ...   \n",
       "717        131      98     99     Red  Undiscovered      5.79      203.0   \n",
       "718         81      95     95   Green  Undiscovered      5.00      305.0   \n",
       "719        100     150     50    Pink  Undiscovered      0.71        8.8   \n",
       "720        150     130     70  Purple  Undiscovered      0.51        9.0   \n",
       "721        130      90     70   Brown  Undiscovered      1.70      195.0   \n",
       "\n",
       "             Body_Style  \n",
       "Number                   \n",
       "1             quadruped  \n",
       "2             quadruped  \n",
       "3             quadruped  \n",
       "4        bipedal_tailed  \n",
       "5        bipedal_tailed  \n",
       "...                 ...  \n",
       "717           two_wings  \n",
       "718     serpentine_body  \n",
       "719           head_arms  \n",
       "720           head_only  \n",
       "721           quadruped  \n",
       "\n",
       "[721 rows x 15 columns]"
      ],
      "text/html": "<div>\n<style scoped>\n    .dataframe tbody tr th:only-of-type {\n        vertical-align: middle;\n    }\n\n    .dataframe tbody tr th {\n        vertical-align: top;\n    }\n\n    .dataframe thead th {\n        text-align: right;\n    }\n</style>\n<table border=\"1\" class=\"dataframe\">\n  <thead>\n    <tr style=\"text-align: right;\">\n      <th></th>\n      <th>isLegendary</th>\n      <th>Generation</th>\n      <th>Type_1</th>\n      <th>Type_2</th>\n      <th>HP</th>\n      <th>Attack</th>\n      <th>Defense</th>\n      <th>Sp_Atk</th>\n      <th>Sp_Def</th>\n      <th>Speed</th>\n      <th>Color</th>\n      <th>Egg_Group_1</th>\n      <th>Height_m</th>\n      <th>Weight_kg</th>\n      <th>Body_Style</th>\n    </tr>\n    <tr>\n      <th>Number</th>\n      <th></th>\n      <th></th>\n      <th></th>\n      <th></th>\n      <th></th>\n      <th></th>\n      <th></th>\n      <th></th>\n      <th></th>\n      <th></th>\n      <th></th>\n      <th></th>\n      <th></th>\n      <th></th>\n      <th></th>\n    </tr>\n  </thead>\n  <tbody>\n    <tr>\n      <th>1</th>\n      <td>0</td>\n      <td>1</td>\n      <td>Grass</td>\n      <td>Poison</td>\n      <td>45</td>\n      <td>49</td>\n      <td>49</td>\n      <td>65</td>\n      <td>65</td>\n      <td>45</td>\n      <td>Green</td>\n      <td>Monster</td>\n      <td>0.71</td>\n      <td>6.9</td>\n      <td>quadruped</td>\n    </tr>\n    <tr>\n      <th>2</th>\n      <td>0</td>\n      <td>1</td>\n      <td>Grass</td>\n      <td>Poison</td>\n      <td>60</td>\n      <td>62</td>\n      <td>63</td>\n      <td>80</td>\n      <td>80</td>\n      <td>60</td>\n      <td>Green</td>\n      <td>Monster</td>\n      <td>0.99</td>\n      <td>13.0</td>\n      <td>quadruped</td>\n    </tr>\n    <tr>\n      <th>3</th>\n      <td>0</td>\n      <td>1</td>\n      <td>Grass</td>\n      <td>Poison</td>\n      <td>80</td>\n      <td>82</td>\n      <td>83</td>\n      <td>100</td>\n      <td>100</td>\n      <td>80</td>\n      <td>Green</td>\n      <td>Monster</td>\n      <td>2.01</td>\n      <td>100.0</td>\n      <td>quadruped</td>\n    </tr>\n    <tr>\n      <th>4</th>\n      <td>0</td>\n      <td>1</td>\n      <td>Fire</td>\n      <td>NaN</td>\n      <td>39</td>\n      <td>52</td>\n      <td>43</td>\n      <td>60</td>\n      <td>50</td>\n      <td>65</td>\n      <td>Red</td>\n      <td>Monster</td>\n      <td>0.61</td>\n      <td>8.5</td>\n      <td>bipedal_tailed</td>\n    </tr>\n    <tr>\n      <th>5</th>\n      <td>0</td>\n      <td>1</td>\n      <td>Fire</td>\n      <td>NaN</td>\n      <td>58</td>\n      <td>64</td>\n      <td>58</td>\n      <td>80</td>\n      <td>65</td>\n      <td>80</td>\n      <td>Red</td>\n      <td>Monster</td>\n      <td>1.09</td>\n      <td>19.0</td>\n      <td>bipedal_tailed</td>\n    </tr>\n    <tr>\n      <th>...</th>\n      <td>...</td>\n      <td>...</td>\n      <td>...</td>\n      <td>...</td>\n      <td>...</td>\n      <td>...</td>\n      <td>...</td>\n      <td>...</td>\n      <td>...</td>\n      <td>...</td>\n      <td>...</td>\n      <td>...</td>\n      <td>...</td>\n      <td>...</td>\n      <td>...</td>\n    </tr>\n    <tr>\n      <th>717</th>\n      <td>1</td>\n      <td>6</td>\n      <td>Dark</td>\n      <td>Flying</td>\n      <td>126</td>\n      <td>131</td>\n      <td>95</td>\n      <td>131</td>\n      <td>98</td>\n      <td>99</td>\n      <td>Red</td>\n      <td>Undiscovered</td>\n      <td>5.79</td>\n      <td>203.0</td>\n      <td>two_wings</td>\n    </tr>\n    <tr>\n      <th>718</th>\n      <td>1</td>\n      <td>6</td>\n      <td>Dragon</td>\n      <td>Ground</td>\n      <td>108</td>\n      <td>100</td>\n      <td>121</td>\n      <td>81</td>\n      <td>95</td>\n      <td>95</td>\n      <td>Green</td>\n      <td>Undiscovered</td>\n      <td>5.00</td>\n      <td>305.0</td>\n      <td>serpentine_body</td>\n    </tr>\n    <tr>\n      <th>719</th>\n      <td>1</td>\n      <td>6</td>\n      <td>Rock</td>\n      <td>Fairy</td>\n      <td>50</td>\n      <td>100</td>\n      <td>150</td>\n      <td>100</td>\n      <td>150</td>\n      <td>50</td>\n      <td>Pink</td>\n      <td>Undiscovered</td>\n      <td>0.71</td>\n      <td>8.8</td>\n      <td>head_arms</td>\n    </tr>\n    <tr>\n      <th>720</th>\n      <td>1</td>\n      <td>6</td>\n      <td>Psychic</td>\n      <td>Ghost</td>\n      <td>80</td>\n      <td>110</td>\n      <td>60</td>\n      <td>150</td>\n      <td>130</td>\n      <td>70</td>\n      <td>Purple</td>\n      <td>Undiscovered</td>\n      <td>0.51</td>\n      <td>9.0</td>\n      <td>head_only</td>\n    </tr>\n    <tr>\n      <th>721</th>\n      <td>1</td>\n      <td>6</td>\n      <td>Fire</td>\n      <td>Water</td>\n      <td>80</td>\n      <td>110</td>\n      <td>120</td>\n      <td>130</td>\n      <td>90</td>\n      <td>70</td>\n      <td>Brown</td>\n      <td>Undiscovered</td>\n      <td>1.70</td>\n      <td>195.0</td>\n      <td>quadruped</td>\n    </tr>\n  </tbody>\n</table>\n<p>721 rows × 15 columns</p>\n</div>"
     },
     "metadata": {},
     "execution_count": 45
    }
   ],
   "source": [
    "df"
   ]
  },
  {
   "cell_type": "code",
   "execution_count": 46,
   "metadata": {},
   "outputs": [
    {
     "output_type": "execute_result",
     "data": {
      "text/plain": [
       "        isLegendary  Generation Type_1  Type_2          HP      Attack  \\\n",
       "count    721.000000  721.000000    721     350  721.000000  721.000000   \n",
       "unique          NaN         NaN     18      18         NaN         NaN   \n",
       "top             NaN         NaN  Water  Flying         NaN         NaN   \n",
       "freq            NaN         NaN    105      87         NaN         NaN   \n",
       "mean       0.063800    3.323162    NaN     NaN   68.380028   75.013870   \n",
       "std        0.244566    1.669873    NaN     NaN   25.848272   28.984475   \n",
       "min        0.000000    1.000000    NaN     NaN    1.000000    5.000000   \n",
       "25%        0.000000    2.000000    NaN     NaN   50.000000   53.000000   \n",
       "50%        0.000000    3.000000    NaN     NaN   65.000000   74.000000   \n",
       "75%        0.000000    5.000000    NaN     NaN   80.000000   95.000000   \n",
       "max        1.000000    6.000000    NaN     NaN  255.000000  165.000000   \n",
       "\n",
       "           Defense      Sp_Atk      Sp_Def       Speed Color Egg_Group_1  \\\n",
       "count   721.000000  721.000000  721.000000  721.000000   721         721   \n",
       "unique         NaN         NaN         NaN         NaN    10          15   \n",
       "top            NaN         NaN         NaN         NaN  Blue       Field   \n",
       "freq           NaN         NaN         NaN         NaN   134         169   \n",
       "mean     70.808599   68.737864   69.291262   65.714286   NaN         NaN   \n",
       "std      29.296558   28.788005   27.015860   27.277920   NaN         NaN   \n",
       "min       5.000000   10.000000   20.000000    5.000000   NaN         NaN   \n",
       "25%      50.000000   45.000000   50.000000   45.000000   NaN         NaN   \n",
       "50%      65.000000   65.000000   65.000000   65.000000   NaN         NaN   \n",
       "75%      85.000000   90.000000   85.000000   85.000000   NaN         NaN   \n",
       "max     230.000000  154.000000  230.000000  160.000000   NaN         NaN   \n",
       "\n",
       "          Height_m   Weight_kg      Body_Style  \n",
       "count   721.000000  721.000000             721  \n",
       "unique         NaN         NaN              14  \n",
       "top            NaN         NaN  bipedal_tailed  \n",
       "freq           NaN         NaN             158  \n",
       "mean      1.144979   56.773370             NaN  \n",
       "std       1.044369   89.095667             NaN  \n",
       "min       0.100000    0.100000             NaN  \n",
       "25%       0.610000    9.400000             NaN  \n",
       "50%       0.990000   28.000000             NaN  \n",
       "75%       1.400000   61.000000             NaN  \n",
       "max      14.500000  950.000000             NaN  "
      ],
      "text/html": "<div>\n<style scoped>\n    .dataframe tbody tr th:only-of-type {\n        vertical-align: middle;\n    }\n\n    .dataframe tbody tr th {\n        vertical-align: top;\n    }\n\n    .dataframe thead th {\n        text-align: right;\n    }\n</style>\n<table border=\"1\" class=\"dataframe\">\n  <thead>\n    <tr style=\"text-align: right;\">\n      <th></th>\n      <th>isLegendary</th>\n      <th>Generation</th>\n      <th>Type_1</th>\n      <th>Type_2</th>\n      <th>HP</th>\n      <th>Attack</th>\n      <th>Defense</th>\n      <th>Sp_Atk</th>\n      <th>Sp_Def</th>\n      <th>Speed</th>\n      <th>Color</th>\n      <th>Egg_Group_1</th>\n      <th>Height_m</th>\n      <th>Weight_kg</th>\n      <th>Body_Style</th>\n    </tr>\n  </thead>\n  <tbody>\n    <tr>\n      <th>count</th>\n      <td>721.000000</td>\n      <td>721.000000</td>\n      <td>721</td>\n      <td>350</td>\n      <td>721.000000</td>\n      <td>721.000000</td>\n      <td>721.000000</td>\n      <td>721.000000</td>\n      <td>721.000000</td>\n      <td>721.000000</td>\n      <td>721</td>\n      <td>721</td>\n      <td>721.000000</td>\n      <td>721.000000</td>\n      <td>721</td>\n    </tr>\n    <tr>\n      <th>unique</th>\n      <td>NaN</td>\n      <td>NaN</td>\n      <td>18</td>\n      <td>18</td>\n      <td>NaN</td>\n      <td>NaN</td>\n      <td>NaN</td>\n      <td>NaN</td>\n      <td>NaN</td>\n      <td>NaN</td>\n      <td>10</td>\n      <td>15</td>\n      <td>NaN</td>\n      <td>NaN</td>\n      <td>14</td>\n    </tr>\n    <tr>\n      <th>top</th>\n      <td>NaN</td>\n      <td>NaN</td>\n      <td>Water</td>\n      <td>Flying</td>\n      <td>NaN</td>\n      <td>NaN</td>\n      <td>NaN</td>\n      <td>NaN</td>\n      <td>NaN</td>\n      <td>NaN</td>\n      <td>Blue</td>\n      <td>Field</td>\n      <td>NaN</td>\n      <td>NaN</td>\n      <td>bipedal_tailed</td>\n    </tr>\n    <tr>\n      <th>freq</th>\n      <td>NaN</td>\n      <td>NaN</td>\n      <td>105</td>\n      <td>87</td>\n      <td>NaN</td>\n      <td>NaN</td>\n      <td>NaN</td>\n      <td>NaN</td>\n      <td>NaN</td>\n      <td>NaN</td>\n      <td>134</td>\n      <td>169</td>\n      <td>NaN</td>\n      <td>NaN</td>\n      <td>158</td>\n    </tr>\n    <tr>\n      <th>mean</th>\n      <td>0.063800</td>\n      <td>3.323162</td>\n      <td>NaN</td>\n      <td>NaN</td>\n      <td>68.380028</td>\n      <td>75.013870</td>\n      <td>70.808599</td>\n      <td>68.737864</td>\n      <td>69.291262</td>\n      <td>65.714286</td>\n      <td>NaN</td>\n      <td>NaN</td>\n      <td>1.144979</td>\n      <td>56.773370</td>\n      <td>NaN</td>\n    </tr>\n    <tr>\n      <th>std</th>\n      <td>0.244566</td>\n      <td>1.669873</td>\n      <td>NaN</td>\n      <td>NaN</td>\n      <td>25.848272</td>\n      <td>28.984475</td>\n      <td>29.296558</td>\n      <td>28.788005</td>\n      <td>27.015860</td>\n      <td>27.277920</td>\n      <td>NaN</td>\n      <td>NaN</td>\n      <td>1.044369</td>\n      <td>89.095667</td>\n      <td>NaN</td>\n    </tr>\n    <tr>\n      <th>min</th>\n      <td>0.000000</td>\n      <td>1.000000</td>\n      <td>NaN</td>\n      <td>NaN</td>\n      <td>1.000000</td>\n      <td>5.000000</td>\n      <td>5.000000</td>\n      <td>10.000000</td>\n      <td>20.000000</td>\n      <td>5.000000</td>\n      <td>NaN</td>\n      <td>NaN</td>\n      <td>0.100000</td>\n      <td>0.100000</td>\n      <td>NaN</td>\n    </tr>\n    <tr>\n      <th>25%</th>\n      <td>0.000000</td>\n      <td>2.000000</td>\n      <td>NaN</td>\n      <td>NaN</td>\n      <td>50.000000</td>\n      <td>53.000000</td>\n      <td>50.000000</td>\n      <td>45.000000</td>\n      <td>50.000000</td>\n      <td>45.000000</td>\n      <td>NaN</td>\n      <td>NaN</td>\n      <td>0.610000</td>\n      <td>9.400000</td>\n      <td>NaN</td>\n    </tr>\n    <tr>\n      <th>50%</th>\n      <td>0.000000</td>\n      <td>3.000000</td>\n      <td>NaN</td>\n      <td>NaN</td>\n      <td>65.000000</td>\n      <td>74.000000</td>\n      <td>65.000000</td>\n      <td>65.000000</td>\n      <td>65.000000</td>\n      <td>65.000000</td>\n      <td>NaN</td>\n      <td>NaN</td>\n      <td>0.990000</td>\n      <td>28.000000</td>\n      <td>NaN</td>\n    </tr>\n    <tr>\n      <th>75%</th>\n      <td>0.000000</td>\n      <td>5.000000</td>\n      <td>NaN</td>\n      <td>NaN</td>\n      <td>80.000000</td>\n      <td>95.000000</td>\n      <td>85.000000</td>\n      <td>90.000000</td>\n      <td>85.000000</td>\n      <td>85.000000</td>\n      <td>NaN</td>\n      <td>NaN</td>\n      <td>1.400000</td>\n      <td>61.000000</td>\n      <td>NaN</td>\n    </tr>\n    <tr>\n      <th>max</th>\n      <td>1.000000</td>\n      <td>6.000000</td>\n      <td>NaN</td>\n      <td>NaN</td>\n      <td>255.000000</td>\n      <td>165.000000</td>\n      <td>230.000000</td>\n      <td>154.000000</td>\n      <td>230.000000</td>\n      <td>160.000000</td>\n      <td>NaN</td>\n      <td>NaN</td>\n      <td>14.500000</td>\n      <td>950.000000</td>\n      <td>NaN</td>\n    </tr>\n  </tbody>\n</table>\n</div>"
     },
     "metadata": {},
     "execution_count": 46
    }
   ],
   "source": [
    "df.describe(include='all')"
   ]
  },
  {
   "cell_type": "code",
   "execution_count": 47,
   "metadata": {},
   "outputs": [
    {
     "output_type": "execute_result",
     "data": {
      "text/plain": [
       "        Black  Blue  Brown  Green  Grey  Pink  Purple  Red  White  Yellow\n",
       "Number                                                                   \n",
       "1           0     0      0      1     0     0       0    0      0       0\n",
       "2           0     0      0      1     0     0       0    0      0       0\n",
       "3           0     0      0      1     0     0       0    0      0       0\n",
       "4           0     0      0      0     0     0       0    1      0       0\n",
       "5           0     0      0      0     0     0       0    1      0       0\n",
       "...       ...   ...    ...    ...   ...   ...     ...  ...    ...     ...\n",
       "717         0     0      0      0     0     0       0    1      0       0\n",
       "718         0     0      0      1     0     0       0    0      0       0\n",
       "719         0     0      0      0     0     1       0    0      0       0\n",
       "720         0     0      0      0     0     0       1    0      0       0\n",
       "721         0     0      1      0     0     0       0    0      0       0\n",
       "\n",
       "[721 rows x 10 columns]"
      ],
      "text/html": "<div>\n<style scoped>\n    .dataframe tbody tr th:only-of-type {\n        vertical-align: middle;\n    }\n\n    .dataframe tbody tr th {\n        vertical-align: top;\n    }\n\n    .dataframe thead th {\n        text-align: right;\n    }\n</style>\n<table border=\"1\" class=\"dataframe\">\n  <thead>\n    <tr style=\"text-align: right;\">\n      <th></th>\n      <th>Black</th>\n      <th>Blue</th>\n      <th>Brown</th>\n      <th>Green</th>\n      <th>Grey</th>\n      <th>Pink</th>\n      <th>Purple</th>\n      <th>Red</th>\n      <th>White</th>\n      <th>Yellow</th>\n    </tr>\n    <tr>\n      <th>Number</th>\n      <th></th>\n      <th></th>\n      <th></th>\n      <th></th>\n      <th></th>\n      <th></th>\n      <th></th>\n      <th></th>\n      <th></th>\n      <th></th>\n    </tr>\n  </thead>\n  <tbody>\n    <tr>\n      <th>1</th>\n      <td>0</td>\n      <td>0</td>\n      <td>0</td>\n      <td>1</td>\n      <td>0</td>\n      <td>0</td>\n      <td>0</td>\n      <td>0</td>\n      <td>0</td>\n      <td>0</td>\n    </tr>\n    <tr>\n      <th>2</th>\n      <td>0</td>\n      <td>0</td>\n      <td>0</td>\n      <td>1</td>\n      <td>0</td>\n      <td>0</td>\n      <td>0</td>\n      <td>0</td>\n      <td>0</td>\n      <td>0</td>\n    </tr>\n    <tr>\n      <th>3</th>\n      <td>0</td>\n      <td>0</td>\n      <td>0</td>\n      <td>1</td>\n      <td>0</td>\n      <td>0</td>\n      <td>0</td>\n      <td>0</td>\n      <td>0</td>\n      <td>0</td>\n    </tr>\n    <tr>\n      <th>4</th>\n      <td>0</td>\n      <td>0</td>\n      <td>0</td>\n      <td>0</td>\n      <td>0</td>\n      <td>0</td>\n      <td>0</td>\n      <td>1</td>\n      <td>0</td>\n      <td>0</td>\n    </tr>\n    <tr>\n      <th>5</th>\n      <td>0</td>\n      <td>0</td>\n      <td>0</td>\n      <td>0</td>\n      <td>0</td>\n      <td>0</td>\n      <td>0</td>\n      <td>1</td>\n      <td>0</td>\n      <td>0</td>\n    </tr>\n    <tr>\n      <th>...</th>\n      <td>...</td>\n      <td>...</td>\n      <td>...</td>\n      <td>...</td>\n      <td>...</td>\n      <td>...</td>\n      <td>...</td>\n      <td>...</td>\n      <td>...</td>\n      <td>...</td>\n    </tr>\n    <tr>\n      <th>717</th>\n      <td>0</td>\n      <td>0</td>\n      <td>0</td>\n      <td>0</td>\n      <td>0</td>\n      <td>0</td>\n      <td>0</td>\n      <td>1</td>\n      <td>0</td>\n      <td>0</td>\n    </tr>\n    <tr>\n      <th>718</th>\n      <td>0</td>\n      <td>0</td>\n      <td>0</td>\n      <td>1</td>\n      <td>0</td>\n      <td>0</td>\n      <td>0</td>\n      <td>0</td>\n      <td>0</td>\n      <td>0</td>\n    </tr>\n    <tr>\n      <th>719</th>\n      <td>0</td>\n      <td>0</td>\n      <td>0</td>\n      <td>0</td>\n      <td>0</td>\n      <td>1</td>\n      <td>0</td>\n      <td>0</td>\n      <td>0</td>\n      <td>0</td>\n    </tr>\n    <tr>\n      <th>720</th>\n      <td>0</td>\n      <td>0</td>\n      <td>0</td>\n      <td>0</td>\n      <td>0</td>\n      <td>0</td>\n      <td>1</td>\n      <td>0</td>\n      <td>0</td>\n      <td>0</td>\n    </tr>\n    <tr>\n      <th>721</th>\n      <td>0</td>\n      <td>0</td>\n      <td>1</td>\n      <td>0</td>\n      <td>0</td>\n      <td>0</td>\n      <td>0</td>\n      <td>0</td>\n      <td>0</td>\n      <td>0</td>\n    </tr>\n  </tbody>\n</table>\n<p>721 rows × 10 columns</p>\n</div>"
     },
     "metadata": {},
     "execution_count": 47
    }
   ],
   "source": [
    "pd.get_dummies(df['Color']) # we will use this"
   ]
  },
  {
   "cell_type": "code",
   "execution_count": 48,
   "metadata": {},
   "outputs": [],
   "source": [
    "def dummy_creator(df,cols):\n",
    "    for col in cols:\n",
    "        df_dummy = pd.get_dummies(df[col])\n",
    "        df = pd.concat([df,df_dummy],axis=1)\n",
    "        df = df.drop(col,axis=1)\n",
    "    return df"
   ]
  },
  {
   "cell_type": "code",
   "execution_count": 49,
   "metadata": {},
   "outputs": [],
   "source": [
    "cleandf =  dummy_creator(df,['Color','Egg_Group_1','Body_Style','Type_1','Type_2'])"
   ]
  },
  {
   "cell_type": "code",
   "execution_count": 50,
   "metadata": {},
   "outputs": [
    {
     "output_type": "execute_result",
     "data": {
      "text/plain": [
       "        isLegendary  Generation   HP  Attack  Defense  Sp_Atk  Sp_Def  Speed  \\\n",
       "Number                                                                         \n",
       "1                 0           1   45      49       49      65      65     45   \n",
       "2                 0           1   60      62       63      80      80     60   \n",
       "3                 0           1   80      82       83     100     100     80   \n",
       "4                 0           1   39      52       43      60      50     65   \n",
       "5                 0           1   58      64       58      80      65     80   \n",
       "...             ...         ...  ...     ...      ...     ...     ...    ...   \n",
       "717               1           6  126     131       95     131      98     99   \n",
       "718               1           6  108     100      121      81      95     95   \n",
       "719               1           6   50     100      150     100     150     50   \n",
       "720               1           6   80     110       60     150     130     70   \n",
       "721               1           6   80     110      120     130      90     70   \n",
       "\n",
       "        Height_m  Weight_kg  ...  Ghost  Grass  Ground  Ice  Normal  Poison  \\\n",
       "Number                       ...                                              \n",
       "1           0.71        6.9  ...      0      0       0    0       0       1   \n",
       "2           0.99       13.0  ...      0      0       0    0       0       1   \n",
       "3           2.01      100.0  ...      0      0       0    0       0       1   \n",
       "4           0.61        8.5  ...      0      0       0    0       0       0   \n",
       "5           1.09       19.0  ...      0      0       0    0       0       0   \n",
       "...          ...        ...  ...    ...    ...     ...  ...     ...     ...   \n",
       "717         5.79      203.0  ...      0      0       0    0       0       0   \n",
       "718         5.00      305.0  ...      0      0       1    0       0       0   \n",
       "719         0.71        8.8  ...      0      0       0    0       0       0   \n",
       "720         0.51        9.0  ...      1      0       0    0       0       0   \n",
       "721         1.70      195.0  ...      0      0       0    0       0       0   \n",
       "\n",
       "        Psychic  Rock  Steel  Water  \n",
       "Number                               \n",
       "1             0     0      0      0  \n",
       "2             0     0      0      0  \n",
       "3             0     0      0      0  \n",
       "4             0     0      0      0  \n",
       "5             0     0      0      0  \n",
       "...         ...   ...    ...    ...  \n",
       "717           0     0      0      0  \n",
       "718           0     0      0      0  \n",
       "719           0     0      0      0  \n",
       "720           0     0      0      0  \n",
       "721           0     0      0      1  \n",
       "\n",
       "[721 rows x 85 columns]"
      ],
      "text/html": "<div>\n<style scoped>\n    .dataframe tbody tr th:only-of-type {\n        vertical-align: middle;\n    }\n\n    .dataframe tbody tr th {\n        vertical-align: top;\n    }\n\n    .dataframe thead th {\n        text-align: right;\n    }\n</style>\n<table border=\"1\" class=\"dataframe\">\n  <thead>\n    <tr style=\"text-align: right;\">\n      <th></th>\n      <th>isLegendary</th>\n      <th>Generation</th>\n      <th>HP</th>\n      <th>Attack</th>\n      <th>Defense</th>\n      <th>Sp_Atk</th>\n      <th>Sp_Def</th>\n      <th>Speed</th>\n      <th>Height_m</th>\n      <th>Weight_kg</th>\n      <th>...</th>\n      <th>Ghost</th>\n      <th>Grass</th>\n      <th>Ground</th>\n      <th>Ice</th>\n      <th>Normal</th>\n      <th>Poison</th>\n      <th>Psychic</th>\n      <th>Rock</th>\n      <th>Steel</th>\n      <th>Water</th>\n    </tr>\n    <tr>\n      <th>Number</th>\n      <th></th>\n      <th></th>\n      <th></th>\n      <th></th>\n      <th></th>\n      <th></th>\n      <th></th>\n      <th></th>\n      <th></th>\n      <th></th>\n      <th></th>\n      <th></th>\n      <th></th>\n      <th></th>\n      <th></th>\n      <th></th>\n      <th></th>\n      <th></th>\n      <th></th>\n      <th></th>\n      <th></th>\n    </tr>\n  </thead>\n  <tbody>\n    <tr>\n      <th>1</th>\n      <td>0</td>\n      <td>1</td>\n      <td>45</td>\n      <td>49</td>\n      <td>49</td>\n      <td>65</td>\n      <td>65</td>\n      <td>45</td>\n      <td>0.71</td>\n      <td>6.9</td>\n      <td>...</td>\n      <td>0</td>\n      <td>0</td>\n      <td>0</td>\n      <td>0</td>\n      <td>0</td>\n      <td>1</td>\n      <td>0</td>\n      <td>0</td>\n      <td>0</td>\n      <td>0</td>\n    </tr>\n    <tr>\n      <th>2</th>\n      <td>0</td>\n      <td>1</td>\n      <td>60</td>\n      <td>62</td>\n      <td>63</td>\n      <td>80</td>\n      <td>80</td>\n      <td>60</td>\n      <td>0.99</td>\n      <td>13.0</td>\n      <td>...</td>\n      <td>0</td>\n      <td>0</td>\n      <td>0</td>\n      <td>0</td>\n      <td>0</td>\n      <td>1</td>\n      <td>0</td>\n      <td>0</td>\n      <td>0</td>\n      <td>0</td>\n    </tr>\n    <tr>\n      <th>3</th>\n      <td>0</td>\n      <td>1</td>\n      <td>80</td>\n      <td>82</td>\n      <td>83</td>\n      <td>100</td>\n      <td>100</td>\n      <td>80</td>\n      <td>2.01</td>\n      <td>100.0</td>\n      <td>...</td>\n      <td>0</td>\n      <td>0</td>\n      <td>0</td>\n      <td>0</td>\n      <td>0</td>\n      <td>1</td>\n      <td>0</td>\n      <td>0</td>\n      <td>0</td>\n      <td>0</td>\n    </tr>\n    <tr>\n      <th>4</th>\n      <td>0</td>\n      <td>1</td>\n      <td>39</td>\n      <td>52</td>\n      <td>43</td>\n      <td>60</td>\n      <td>50</td>\n      <td>65</td>\n      <td>0.61</td>\n      <td>8.5</td>\n      <td>...</td>\n      <td>0</td>\n      <td>0</td>\n      <td>0</td>\n      <td>0</td>\n      <td>0</td>\n      <td>0</td>\n      <td>0</td>\n      <td>0</td>\n      <td>0</td>\n      <td>0</td>\n    </tr>\n    <tr>\n      <th>5</th>\n      <td>0</td>\n      <td>1</td>\n      <td>58</td>\n      <td>64</td>\n      <td>58</td>\n      <td>80</td>\n      <td>65</td>\n      <td>80</td>\n      <td>1.09</td>\n      <td>19.0</td>\n      <td>...</td>\n      <td>0</td>\n      <td>0</td>\n      <td>0</td>\n      <td>0</td>\n      <td>0</td>\n      <td>0</td>\n      <td>0</td>\n      <td>0</td>\n      <td>0</td>\n      <td>0</td>\n    </tr>\n    <tr>\n      <th>...</th>\n      <td>...</td>\n      <td>...</td>\n      <td>...</td>\n      <td>...</td>\n      <td>...</td>\n      <td>...</td>\n      <td>...</td>\n      <td>...</td>\n      <td>...</td>\n      <td>...</td>\n      <td>...</td>\n      <td>...</td>\n      <td>...</td>\n      <td>...</td>\n      <td>...</td>\n      <td>...</td>\n      <td>...</td>\n      <td>...</td>\n      <td>...</td>\n      <td>...</td>\n      <td>...</td>\n    </tr>\n    <tr>\n      <th>717</th>\n      <td>1</td>\n      <td>6</td>\n      <td>126</td>\n      <td>131</td>\n      <td>95</td>\n      <td>131</td>\n      <td>98</td>\n      <td>99</td>\n      <td>5.79</td>\n      <td>203.0</td>\n      <td>...</td>\n      <td>0</td>\n      <td>0</td>\n      <td>0</td>\n      <td>0</td>\n      <td>0</td>\n      <td>0</td>\n      <td>0</td>\n      <td>0</td>\n      <td>0</td>\n      <td>0</td>\n    </tr>\n    <tr>\n      <th>718</th>\n      <td>1</td>\n      <td>6</td>\n      <td>108</td>\n      <td>100</td>\n      <td>121</td>\n      <td>81</td>\n      <td>95</td>\n      <td>95</td>\n      <td>5.00</td>\n      <td>305.0</td>\n      <td>...</td>\n      <td>0</td>\n      <td>0</td>\n      <td>1</td>\n      <td>0</td>\n      <td>0</td>\n      <td>0</td>\n      <td>0</td>\n      <td>0</td>\n      <td>0</td>\n      <td>0</td>\n    </tr>\n    <tr>\n      <th>719</th>\n      <td>1</td>\n      <td>6</td>\n      <td>50</td>\n      <td>100</td>\n      <td>150</td>\n      <td>100</td>\n      <td>150</td>\n      <td>50</td>\n      <td>0.71</td>\n      <td>8.8</td>\n      <td>...</td>\n      <td>0</td>\n      <td>0</td>\n      <td>0</td>\n      <td>0</td>\n      <td>0</td>\n      <td>0</td>\n      <td>0</td>\n      <td>0</td>\n      <td>0</td>\n      <td>0</td>\n    </tr>\n    <tr>\n      <th>720</th>\n      <td>1</td>\n      <td>6</td>\n      <td>80</td>\n      <td>110</td>\n      <td>60</td>\n      <td>150</td>\n      <td>130</td>\n      <td>70</td>\n      <td>0.51</td>\n      <td>9.0</td>\n      <td>...</td>\n      <td>1</td>\n      <td>0</td>\n      <td>0</td>\n      <td>0</td>\n      <td>0</td>\n      <td>0</td>\n      <td>0</td>\n      <td>0</td>\n      <td>0</td>\n      <td>0</td>\n    </tr>\n    <tr>\n      <th>721</th>\n      <td>1</td>\n      <td>6</td>\n      <td>80</td>\n      <td>110</td>\n      <td>120</td>\n      <td>130</td>\n      <td>90</td>\n      <td>70</td>\n      <td>1.70</td>\n      <td>195.0</td>\n      <td>...</td>\n      <td>0</td>\n      <td>0</td>\n      <td>0</td>\n      <td>0</td>\n      <td>0</td>\n      <td>0</td>\n      <td>0</td>\n      <td>0</td>\n      <td>0</td>\n      <td>1</td>\n    </tr>\n  </tbody>\n</table>\n<p>721 rows × 85 columns</p>\n</div>"
     },
     "metadata": {},
     "execution_count": 50
    }
   ],
   "source": [
    "cleandf"
   ]
  },
  {
   "cell_type": "code",
   "execution_count": 51,
   "metadata": {},
   "outputs": [],
   "source": [
    "from sklearn.model_selection import train_test_split"
   ]
  },
  {
   "cell_type": "code",
   "execution_count": 52,
   "metadata": {},
   "outputs": [
    {
     "output_type": "stream",
     "name": "stdout",
     "text": [
      "(721, 84)\n(721,)\n"
     ]
    }
   ],
   "source": [
    "X = cleandf.iloc[:,1:]\n",
    "y = cleandf.iloc[:,0]\n",
    "print(X.shape)\n",
    "print(y.shape)"
   ]
  },
  {
   "cell_type": "code",
   "execution_count": 53,
   "metadata": {},
   "outputs": [],
   "source": [
    "scaler = preprocessing.StandardScaler()\n",
    "x = scaler.fit_transform(X)"
   ]
  },
  {
   "cell_type": "code",
   "execution_count": 54,
   "metadata": {},
   "outputs": [],
   "source": [
    "trainx, testx, trainy, testy = train_test_split(x,y) "
   ]
  },
  {
   "source": [
    "# simple ANN model"
   ],
   "cell_type": "markdown",
   "metadata": {}
  },
  {
   "cell_type": "code",
   "execution_count": 55,
   "metadata": {},
   "outputs": [],
   "source": [
    "inputshape =   trainx.shape[1]"
   ]
  },
  {
   "cell_type": "code",
   "execution_count": 56,
   "metadata": {},
   "outputs": [],
   "source": [
    "model = tf.keras.Sequential()\n",
    "model.add(tf.keras.layers.Dense(500,activation='relu',input_shape=(inputshape,)))\n",
    "model.add(tf.keras.layers.Dense(2,activation='softmax'))"
   ]
  },
  {
   "cell_type": "code",
   "execution_count": 57,
   "metadata": {},
   "outputs": [],
   "source": [
    "model.compile(optimizer='sgd',loss='sparse_categorical_crossentropy',metrics=['accuracy'])"
   ]
  },
  {
   "cell_type": "code",
   "execution_count": 58,
   "metadata": {},
   "outputs": [
    {
     "output_type": "stream",
     "name": "stdout",
     "text": [
      "Model: \"sequential\"\n_________________________________________________________________\nLayer (type)                 Output Shape              Param #   \n=================================================================\ndense (Dense)                (None, 500)               42500     \n_________________________________________________________________\ndense_1 (Dense)              (None, 2)                 1002      \n=================================================================\nTotal params: 43,502\nTrainable params: 43,502\nNon-trainable params: 0\n_________________________________________________________________\n"
     ]
    }
   ],
   "source": [
    "model.summary()"
   ]
  },
  {
   "cell_type": "code",
   "execution_count": 59,
   "metadata": {
    "tags": []
   },
   "outputs": [
    {
     "output_type": "stream",
     "name": "stdout",
     "text": [
      "Epoch 1/100\n",
      "17/17 [==============================] - 1s 32ms/step - loss: 0.4750 - accuracy: 0.8239 - val_loss: 0.2792 - val_accuracy: 0.9337\n",
      "Epoch 2/100\n",
      "17/17 [==============================] - 0s 8ms/step - loss: 0.2895 - accuracy: 0.9051 - val_loss: 0.2153 - val_accuracy: 0.9392\n",
      "Epoch 3/100\n",
      "17/17 [==============================] - 0s 8ms/step - loss: 0.1860 - accuracy: 0.9460 - val_loss: 0.1844 - val_accuracy: 0.9392\n",
      "Epoch 4/100\n",
      "17/17 [==============================] - 0s 8ms/step - loss: 0.2014 - accuracy: 0.9238 - val_loss: 0.1615 - val_accuracy: 0.9448\n",
      "Epoch 5/100\n",
      "17/17 [==============================] - 0s 9ms/step - loss: 0.1482 - accuracy: 0.9474 - val_loss: 0.1448 - val_accuracy: 0.9503\n",
      "Epoch 6/100\n",
      "17/17 [==============================] - 0s 8ms/step - loss: 0.1292 - accuracy: 0.9610 - val_loss: 0.1317 - val_accuracy: 0.9613\n",
      "Epoch 7/100\n",
      "17/17 [==============================] - 0s 8ms/step - loss: 0.1269 - accuracy: 0.9541 - val_loss: 0.1208 - val_accuracy: 0.9613\n",
      "Epoch 8/100\n",
      "17/17 [==============================] - 0s 7ms/step - loss: 0.1126 - accuracy: 0.9730 - val_loss: 0.1120 - val_accuracy: 0.9779\n",
      "Epoch 9/100\n",
      "17/17 [==============================] - 0s 7ms/step - loss: 0.0905 - accuracy: 0.9815 - val_loss: 0.1048 - val_accuracy: 0.9779\n",
      "Epoch 10/100\n",
      "17/17 [==============================] - 0s 8ms/step - loss: 0.0869 - accuracy: 0.9810 - val_loss: 0.0986 - val_accuracy: 0.9779\n",
      "Epoch 11/100\n",
      "17/17 [==============================] - 0s 8ms/step - loss: 0.0880 - accuracy: 0.9704 - val_loss: 0.0933 - val_accuracy: 0.9779\n",
      "Epoch 12/100\n",
      "17/17 [==============================] - 0s 7ms/step - loss: 0.0674 - accuracy: 0.9888 - val_loss: 0.0889 - val_accuracy: 0.9779\n",
      "Epoch 13/100\n",
      "17/17 [==============================] - 0s 9ms/step - loss: 0.0732 - accuracy: 0.9832 - val_loss: 0.0848 - val_accuracy: 0.9779\n",
      "Epoch 14/100\n",
      "17/17 [==============================] - 0s 7ms/step - loss: 0.0681 - accuracy: 0.9812 - val_loss: 0.0813 - val_accuracy: 0.9779\n",
      "Epoch 15/100\n",
      "17/17 [==============================] - 0s 8ms/step - loss: 0.0594 - accuracy: 0.9847 - val_loss: 0.0782 - val_accuracy: 0.9724\n",
      "Epoch 16/100\n",
      "17/17 [==============================] - 0s 8ms/step - loss: 0.0573 - accuracy: 0.9909 - val_loss: 0.0756 - val_accuracy: 0.9779\n",
      "Epoch 17/100\n",
      "17/17 [==============================] - 0s 8ms/step - loss: 0.0560 - accuracy: 0.9873 - val_loss: 0.0731 - val_accuracy: 0.9724\n",
      "Epoch 18/100\n",
      "17/17 [==============================] - 0s 7ms/step - loss: 0.0532 - accuracy: 0.9931 - val_loss: 0.0709 - val_accuracy: 0.9724\n",
      "Epoch 19/100\n",
      "17/17 [==============================] - 0s 7ms/step - loss: 0.0569 - accuracy: 0.9920 - val_loss: 0.0689 - val_accuracy: 0.9724\n",
      "Epoch 20/100\n",
      "17/17 [==============================] - 0s 7ms/step - loss: 0.0479 - accuracy: 0.9957 - val_loss: 0.0672 - val_accuracy: 0.9724\n",
      "Epoch 21/100\n",
      "17/17 [==============================] - 0s 7ms/step - loss: 0.0614 - accuracy: 0.9936 - val_loss: 0.0655 - val_accuracy: 0.9724\n",
      "Epoch 22/100\n",
      "17/17 [==============================] - 0s 7ms/step - loss: 0.0454 - accuracy: 0.9948 - val_loss: 0.0640 - val_accuracy: 0.9724\n",
      "Epoch 23/100\n",
      "17/17 [==============================] - 0s 7ms/step - loss: 0.0515 - accuracy: 0.9928 - val_loss: 0.0627 - val_accuracy: 0.9724\n",
      "Epoch 24/100\n",
      "17/17 [==============================] - 0s 7ms/step - loss: 0.0403 - accuracy: 0.9920 - val_loss: 0.0615 - val_accuracy: 0.9724\n",
      "Epoch 25/100\n",
      "17/17 [==============================] - 0s 7ms/step - loss: 0.0398 - accuracy: 0.9959 - val_loss: 0.0604 - val_accuracy: 0.9724\n",
      "Epoch 26/100\n",
      "17/17 [==============================] - 0s 7ms/step - loss: 0.0422 - accuracy: 0.9926 - val_loss: 0.0593 - val_accuracy: 0.9724\n",
      "Epoch 27/100\n",
      "17/17 [==============================] - 0s 7ms/step - loss: 0.0363 - accuracy: 0.9985 - val_loss: 0.0584 - val_accuracy: 0.9724\n",
      "Epoch 28/100\n",
      "17/17 [==============================] - 0s 7ms/step - loss: 0.0406 - accuracy: 0.9957 - val_loss: 0.0575 - val_accuracy: 0.9724\n",
      "Epoch 29/100\n",
      "17/17 [==============================] - 0s 7ms/step - loss: 0.0330 - accuracy: 0.9997 - val_loss: 0.0567 - val_accuracy: 0.9724\n",
      "Epoch 30/100\n",
      "17/17 [==============================] - 0s 7ms/step - loss: 0.0358 - accuracy: 0.9996 - val_loss: 0.0559 - val_accuracy: 0.9724\n",
      "Epoch 31/100\n",
      "17/17 [==============================] - 0s 7ms/step - loss: 0.0290 - accuracy: 0.9997 - val_loss: 0.0552 - val_accuracy: 0.9724\n",
      "Epoch 32/100\n",
      "17/17 [==============================] - 0s 7ms/step - loss: 0.0328 - accuracy: 1.0000 - val_loss: 0.0545 - val_accuracy: 0.9724\n",
      "Epoch 33/100\n",
      "17/17 [==============================] - 0s 7ms/step - loss: 0.0312 - accuracy: 1.0000 - val_loss: 0.0539 - val_accuracy: 0.9724\n",
      "Epoch 34/100\n",
      "17/17 [==============================] - 0s 7ms/step - loss: 0.0307 - accuracy: 1.0000 - val_loss: 0.0533 - val_accuracy: 0.9724\n",
      "Epoch 35/100\n",
      "17/17 [==============================] - 0s 8ms/step - loss: 0.0314 - accuracy: 1.0000 - val_loss: 0.0528 - val_accuracy: 0.9724\n",
      "Epoch 36/100\n",
      "17/17 [==============================] - 0s 8ms/step - loss: 0.0312 - accuracy: 1.0000 - val_loss: 0.0523 - val_accuracy: 0.9724\n",
      "Epoch 37/100\n",
      "17/17 [==============================] - 0s 7ms/step - loss: 0.0252 - accuracy: 1.0000 - val_loss: 0.0519 - val_accuracy: 0.9724\n",
      "Epoch 38/100\n",
      "17/17 [==============================] - 0s 7ms/step - loss: 0.0257 - accuracy: 1.0000 - val_loss: 0.0514 - val_accuracy: 0.9724\n",
      "Epoch 39/100\n",
      "17/17 [==============================] - 0s 7ms/step - loss: 0.0235 - accuracy: 1.0000 - val_loss: 0.0510 - val_accuracy: 0.9724\n",
      "Epoch 40/100\n",
      "17/17 [==============================] - 0s 7ms/step - loss: 0.0260 - accuracy: 1.0000 - val_loss: 0.0506 - val_accuracy: 0.9724\n",
      "Epoch 41/100\n",
      "17/17 [==============================] - 0s 6ms/step - loss: 0.0258 - accuracy: 1.0000 - val_loss: 0.0503 - val_accuracy: 0.9724\n",
      "Epoch 42/100\n",
      "17/17 [==============================] - 0s 7ms/step - loss: 0.0239 - accuracy: 1.0000 - val_loss: 0.0500 - val_accuracy: 0.9724\n",
      "Epoch 43/100\n",
      "17/17 [==============================] - 0s 8ms/step - loss: 0.0209 - accuracy: 1.0000 - val_loss: 0.0496 - val_accuracy: 0.9724\n",
      "Epoch 44/100\n",
      "17/17 [==============================] - 0s 8ms/step - loss: 0.0250 - accuracy: 1.0000 - val_loss: 0.0493 - val_accuracy: 0.9724\n",
      "Epoch 45/100\n",
      "17/17 [==============================] - 0s 7ms/step - loss: 0.0254 - accuracy: 1.0000 - val_loss: 0.0491 - val_accuracy: 0.9724\n",
      "Epoch 46/100\n",
      "17/17 [==============================] - 0s 8ms/step - loss: 0.0250 - accuracy: 1.0000 - val_loss: 0.0488 - val_accuracy: 0.9724\n",
      "Epoch 47/100\n",
      "17/17 [==============================] - 0s 7ms/step - loss: 0.0237 - accuracy: 1.0000 - val_loss: 0.0486 - val_accuracy: 0.9724\n",
      "Epoch 48/100\n",
      "17/17 [==============================] - 0s 7ms/step - loss: 0.0213 - accuracy: 1.0000 - val_loss: 0.0483 - val_accuracy: 0.9724\n",
      "Epoch 49/100\n",
      "17/17 [==============================] - 0s 7ms/step - loss: 0.0224 - accuracy: 1.0000 - val_loss: 0.0481 - val_accuracy: 0.9724\n",
      "Epoch 50/100\n",
      "17/17 [==============================] - 0s 9ms/step - loss: 0.0206 - accuracy: 1.0000 - val_loss: 0.0479 - val_accuracy: 0.9724\n",
      "Epoch 51/100\n",
      "17/17 [==============================] - 0s 6ms/step - loss: 0.0247 - accuracy: 1.0000 - val_loss: 0.0477 - val_accuracy: 0.9724\n",
      "Epoch 52/100\n",
      "17/17 [==============================] - 0s 7ms/step - loss: 0.0191 - accuracy: 1.0000 - val_loss: 0.0475 - val_accuracy: 0.9724\n",
      "Epoch 53/100\n",
      "17/17 [==============================] - 0s 7ms/step - loss: 0.0203 - accuracy: 1.0000 - val_loss: 0.0473 - val_accuracy: 0.9724\n",
      "Epoch 54/100\n",
      "17/17 [==============================] - 0s 7ms/step - loss: 0.0207 - accuracy: 1.0000 - val_loss: 0.0472 - val_accuracy: 0.9724\n",
      "Epoch 55/100\n",
      "17/17 [==============================] - 0s 7ms/step - loss: 0.0193 - accuracy: 1.0000 - val_loss: 0.0470 - val_accuracy: 0.9724\n",
      "Epoch 56/100\n",
      "17/17 [==============================] - 0s 7ms/step - loss: 0.0204 - accuracy: 1.0000 - val_loss: 0.0469 - val_accuracy: 0.9724\n",
      "Epoch 57/100\n",
      "17/17 [==============================] - 0s 7ms/step - loss: 0.0199 - accuracy: 1.0000 - val_loss: 0.0468 - val_accuracy: 0.9724\n",
      "Epoch 58/100\n",
      "17/17 [==============================] - 0s 6ms/step - loss: 0.0199 - accuracy: 1.0000 - val_loss: 0.0466 - val_accuracy: 0.9724\n",
      "Epoch 59/100\n",
      "17/17 [==============================] - 0s 7ms/step - loss: 0.0170 - accuracy: 1.0000 - val_loss: 0.0465 - val_accuracy: 0.9724\n",
      "Epoch 60/100\n",
      "17/17 [==============================] - 0s 6ms/step - loss: 0.0164 - accuracy: 1.0000 - val_loss: 0.0464 - val_accuracy: 0.9724\n",
      "Epoch 61/100\n",
      "17/17 [==============================] - 0s 7ms/step - loss: 0.0171 - accuracy: 1.0000 - val_loss: 0.0463 - val_accuracy: 0.9724\n",
      "Epoch 62/100\n",
      "17/17 [==============================] - 0s 7ms/step - loss: 0.0137 - accuracy: 1.0000 - val_loss: 0.0462 - val_accuracy: 0.9724\n",
      "Epoch 63/100\n",
      "17/17 [==============================] - 0s 10ms/step - loss: 0.0175 - accuracy: 1.0000 - val_loss: 0.0461 - val_accuracy: 0.9724\n",
      "Epoch 64/100\n",
      "17/17 [==============================] - 0s 7ms/step - loss: 0.0131 - accuracy: 1.0000 - val_loss: 0.0460 - val_accuracy: 0.9724\n",
      "Epoch 65/100\n",
      "17/17 [==============================] - 0s 7ms/step - loss: 0.0203 - accuracy: 1.0000 - val_loss: 0.0459 - val_accuracy: 0.9724\n",
      "Epoch 66/100\n",
      "17/17 [==============================] - 0s 7ms/step - loss: 0.0160 - accuracy: 1.0000 - val_loss: 0.0458 - val_accuracy: 0.9724\n",
      "Epoch 67/100\n",
      "17/17 [==============================] - 0s 7ms/step - loss: 0.0153 - accuracy: 1.0000 - val_loss: 0.0458 - val_accuracy: 0.9724\n",
      "Epoch 68/100\n",
      "17/17 [==============================] - 0s 7ms/step - loss: 0.0146 - accuracy: 1.0000 - val_loss: 0.0457 - val_accuracy: 0.9724\n",
      "Epoch 69/100\n",
      "17/17 [==============================] - 0s 6ms/step - loss: 0.0154 - accuracy: 1.0000 - val_loss: 0.0456 - val_accuracy: 0.9724\n",
      "Epoch 70/100\n",
      "17/17 [==============================] - 0s 7ms/step - loss: 0.0165 - accuracy: 1.0000 - val_loss: 0.0456 - val_accuracy: 0.9724\n",
      "Epoch 71/100\n",
      "17/17 [==============================] - 0s 6ms/step - loss: 0.0130 - accuracy: 1.0000 - val_loss: 0.0455 - val_accuracy: 0.9724\n",
      "Epoch 72/100\n",
      "17/17 [==============================] - 0s 6ms/step - loss: 0.0165 - accuracy: 1.0000 - val_loss: 0.0454 - val_accuracy: 0.9724\n",
      "Epoch 73/100\n",
      "17/17 [==============================] - 0s 6ms/step - loss: 0.0116 - accuracy: 1.0000 - val_loss: 0.0454 - val_accuracy: 0.9724\n",
      "Epoch 74/100\n",
      "17/17 [==============================] - 0s 6ms/step - loss: 0.0125 - accuracy: 1.0000 - val_loss: 0.0453 - val_accuracy: 0.9724\n",
      "Epoch 75/100\n",
      "17/17 [==============================] - 0s 6ms/step - loss: 0.0131 - accuracy: 1.0000 - val_loss: 0.0453 - val_accuracy: 0.9724\n",
      "Epoch 76/100\n",
      "17/17 [==============================] - 0s 7ms/step - loss: 0.0133 - accuracy: 1.0000 - val_loss: 0.0453 - val_accuracy: 0.9724\n",
      "Epoch 77/100\n",
      "17/17 [==============================] - 0s 6ms/step - loss: 0.0126 - accuracy: 1.0000 - val_loss: 0.0452 - val_accuracy: 0.9724\n",
      "Epoch 78/100\n",
      "17/17 [==============================] - 0s 7ms/step - loss: 0.0198 - accuracy: 1.0000 - val_loss: 0.0452 - val_accuracy: 0.9724\n",
      "Epoch 79/100\n",
      "17/17 [==============================] - 0s 6ms/step - loss: 0.0120 - accuracy: 1.0000 - val_loss: 0.0452 - val_accuracy: 0.9724\n",
      "Epoch 80/100\n",
      "17/17 [==============================] - 0s 6ms/step - loss: 0.0123 - accuracy: 1.0000 - val_loss: 0.0451 - val_accuracy: 0.9724\n",
      "Epoch 81/100\n",
      "17/17 [==============================] - 0s 6ms/step - loss: 0.0139 - accuracy: 1.0000 - val_loss: 0.0451 - val_accuracy: 0.9724\n",
      "Epoch 82/100\n",
      "17/17 [==============================] - 0s 7ms/step - loss: 0.0170 - accuracy: 1.0000 - val_loss: 0.0451 - val_accuracy: 0.9724\n",
      "Epoch 83/100\n",
      "17/17 [==============================] - 0s 6ms/step - loss: 0.0113 - accuracy: 1.0000 - val_loss: 0.0451 - val_accuracy: 0.9724\n",
      "Epoch 84/100\n",
      "17/17 [==============================] - 0s 6ms/step - loss: 0.0140 - accuracy: 1.0000 - val_loss: 0.0450 - val_accuracy: 0.9724\n",
      "Epoch 85/100\n",
      "17/17 [==============================] - 0s 6ms/step - loss: 0.0115 - accuracy: 1.0000 - val_loss: 0.0450 - val_accuracy: 0.9724\n",
      "Epoch 86/100\n",
      "17/17 [==============================] - 0s 6ms/step - loss: 0.0123 - accuracy: 1.0000 - val_loss: 0.0450 - val_accuracy: 0.9724\n",
      "Epoch 87/100\n",
      "17/17 [==============================] - 0s 6ms/step - loss: 0.0110 - accuracy: 1.0000 - val_loss: 0.0450 - val_accuracy: 0.9724\n",
      "Epoch 88/100\n",
      "17/17 [==============================] - 0s 8ms/step - loss: 0.0121 - accuracy: 1.0000 - val_loss: 0.0450 - val_accuracy: 0.9724\n",
      "Epoch 89/100\n",
      "17/17 [==============================] - 0s 7ms/step - loss: 0.0101 - accuracy: 1.0000 - val_loss: 0.0450 - val_accuracy: 0.9724\n",
      "Epoch 90/100\n",
      "17/17 [==============================] - 0s 6ms/step - loss: 0.0125 - accuracy: 1.0000 - val_loss: 0.0449 - val_accuracy: 0.9724\n",
      "Epoch 91/100\n",
      "17/17 [==============================] - 0s 7ms/step - loss: 0.0097 - accuracy: 1.0000 - val_loss: 0.0449 - val_accuracy: 0.9724\n",
      "Epoch 92/100\n",
      "17/17 [==============================] - 0s 6ms/step - loss: 0.0123 - accuracy: 1.0000 - val_loss: 0.0449 - val_accuracy: 0.9724\n",
      "Epoch 93/100\n",
      "17/17 [==============================] - 0s 6ms/step - loss: 0.0096 - accuracy: 1.0000 - val_loss: 0.0449 - val_accuracy: 0.9724\n",
      "Epoch 94/100\n",
      "17/17 [==============================] - 0s 6ms/step - loss: 0.0109 - accuracy: 1.0000 - val_loss: 0.0449 - val_accuracy: 0.9724\n",
      "Epoch 95/100\n",
      "17/17 [==============================] - 0s 7ms/step - loss: 0.0121 - accuracy: 1.0000 - val_loss: 0.0449 - val_accuracy: 0.9724\n",
      "Epoch 96/100\n",
      "17/17 [==============================] - 0s 7ms/step - loss: 0.0099 - accuracy: 1.0000 - val_loss: 0.0449 - val_accuracy: 0.9724\n",
      "Epoch 97/100\n",
      "17/17 [==============================] - 0s 7ms/step - loss: 0.0112 - accuracy: 1.0000 - val_loss: 0.0449 - val_accuracy: 0.9724\n",
      "Epoch 98/100\n",
      "17/17 [==============================] - 0s 6ms/step - loss: 0.0099 - accuracy: 1.0000 - val_loss: 0.0449 - val_accuracy: 0.9724\n",
      "Epoch 99/100\n",
      "17/17 [==============================] - 0s 6ms/step - loss: 0.0099 - accuracy: 1.0000 - val_loss: 0.0449 - val_accuracy: 0.9724\n",
      "Epoch 100/100\n",
      "17/17 [==============================] - 0s 8ms/step - loss: 0.0106 - accuracy: 1.0000 - val_loss: 0.0449 - val_accuracy: 0.9724\n"
     ]
    }
   ],
   "source": [
    "history = model.fit(x=trainx,y=trainy,epochs=100,validation_data=(testx,testy))"
   ]
  },
  {
   "cell_type": "code",
   "execution_count": 60,
   "metadata": {},
   "outputs": [
    {
     "output_type": "stream",
     "name": "stdout",
     "text": [
      "6/6 [==============================] - 0s 2ms/step - loss: 0.0449 - accuracy: 0.9724\n",
      "0.044925522059202194\n",
      "0.9723756909370422\n"
     ]
    }
   ],
   "source": [
    "loss_val,accuracy_val = model.evaluate(testx,testy)\n",
    "print(loss_val)\n",
    "print(accuracy_val)"
   ]
  },
  {
   "cell_type": "code",
   "execution_count": 61,
   "metadata": {},
   "outputs": [
    {
     "output_type": "display_data",
     "data": {
      "text/plain": "<Figure size 1440x360 with 1 Axes>",
      "image/svg+xml": "<?xml version=\"1.0\" encoding=\"utf-8\" standalone=\"no\"?>\r\n<!DOCTYPE svg PUBLIC \"-//W3C//DTD SVG 1.1//EN\"\r\n  \"http://www.w3.org/Graphics/SVG/1.1/DTD/svg11.dtd\">\r\n<svg height=\"302.878125pt\" version=\"1.1\" viewBox=\"0 0 1159.665625 302.878125\" width=\"1159.665625pt\" xmlns=\"http://www.w3.org/2000/svg\" xmlns:xlink=\"http://www.w3.org/1999/xlink\">\r\n <metadata>\r\n  <rdf:RDF xmlns:cc=\"http://creativecommons.org/ns#\" xmlns:dc=\"http://purl.org/dc/elements/1.1/\" xmlns:rdf=\"http://www.w3.org/1999/02/22-rdf-syntax-ns#\">\r\n   <cc:Work>\r\n    <dc:type rdf:resource=\"http://purl.org/dc/dcmitype/StillImage\"/>\r\n    <dc:date>2021-05-09T15:22:30.984105</dc:date>\r\n    <dc:format>image/svg+xml</dc:format>\r\n    <dc:creator>\r\n     <cc:Agent>\r\n      <dc:title>Matplotlib v3.4.1, https://matplotlib.org/</dc:title>\r\n     </cc:Agent>\r\n    </dc:creator>\r\n   </cc:Work>\r\n  </rdf:RDF>\r\n </metadata>\r\n <defs>\r\n  <style type=\"text/css\">*{stroke-linecap:butt;stroke-linejoin:round;}</style>\r\n </defs>\r\n <g id=\"figure_1\">\r\n  <g id=\"patch_1\">\r\n   <path d=\"M 0 302.878125 \r\nL 1159.665625 302.878125 \r\nL 1159.665625 0 \r\nL 0 0 \r\nz\r\n\" style=\"fill:none;\"/>\r\n  </g>\r\n  <g id=\"axes_1\">\r\n   <g id=\"patch_2\">\r\n    <path d=\"M 36.465625 279 \r\nL 1152.465625 279 \r\nL 1152.465625 7.2 \r\nL 36.465625 7.2 \r\nz\r\n\" style=\"fill:#ffffff;\"/>\r\n   </g>\r\n   <g id=\"matplotlib.axis_1\">\r\n    <g id=\"xtick_1\">\r\n     <g id=\"line2d_1\">\r\n      <defs>\r\n       <path d=\"M 0 0 \r\nL 0 3.5 \r\n\" id=\"m73080c505b\" style=\"stroke:#000000;stroke-width:0.8;\"/>\r\n      </defs>\r\n      <g>\r\n       <use style=\"stroke:#000000;stroke-width:0.8;\" x=\"87.192898\" xlink:href=\"#m73080c505b\" y=\"279\"/>\r\n      </g>\r\n     </g>\r\n     <g id=\"text_1\">\r\n      <!-- 0 -->\r\n      <g transform=\"translate(84.011648 293.598437)scale(0.1 -0.1)\">\r\n       <defs>\r\n        <path d=\"M 2034 4250 \r\nQ 1547 4250 1301 3770 \r\nQ 1056 3291 1056 2328 \r\nQ 1056 1369 1301 889 \r\nQ 1547 409 2034 409 \r\nQ 2525 409 2770 889 \r\nQ 3016 1369 3016 2328 \r\nQ 3016 3291 2770 3770 \r\nQ 2525 4250 2034 4250 \r\nz\r\nM 2034 4750 \r\nQ 2819 4750 3233 4129 \r\nQ 3647 3509 3647 2328 \r\nQ 3647 1150 3233 529 \r\nQ 2819 -91 2034 -91 \r\nQ 1250 -91 836 529 \r\nQ 422 1150 422 2328 \r\nQ 422 3509 836 4129 \r\nQ 1250 4750 2034 4750 \r\nz\r\n\" id=\"DejaVuSans-30\" transform=\"scale(0.015625)\"/>\r\n       </defs>\r\n       <use xlink:href=\"#DejaVuSans-30\"/>\r\n      </g>\r\n     </g>\r\n    </g>\r\n    <g id=\"xtick_2\">\r\n     <g id=\"line2d_2\">\r\n      <g>\r\n       <use style=\"stroke:#000000;stroke-width:0.8;\" x=\"292.151575\" xlink:href=\"#m73080c505b\" y=\"279\"/>\r\n      </g>\r\n     </g>\r\n     <g id=\"text_2\">\r\n      <!-- 20 -->\r\n      <g transform=\"translate(285.789075 293.598437)scale(0.1 -0.1)\">\r\n       <defs>\r\n        <path d=\"M 1228 531 \r\nL 3431 531 \r\nL 3431 0 \r\nL 469 0 \r\nL 469 531 \r\nQ 828 903 1448 1529 \r\nQ 2069 2156 2228 2338 \r\nQ 2531 2678 2651 2914 \r\nQ 2772 3150 2772 3378 \r\nQ 2772 3750 2511 3984 \r\nQ 2250 4219 1831 4219 \r\nQ 1534 4219 1204 4116 \r\nQ 875 4013 500 3803 \r\nL 500 4441 \r\nQ 881 4594 1212 4672 \r\nQ 1544 4750 1819 4750 \r\nQ 2544 4750 2975 4387 \r\nQ 3406 4025 3406 3419 \r\nQ 3406 3131 3298 2873 \r\nQ 3191 2616 2906 2266 \r\nQ 2828 2175 2409 1742 \r\nQ 1991 1309 1228 531 \r\nz\r\n\" id=\"DejaVuSans-32\" transform=\"scale(0.015625)\"/>\r\n       </defs>\r\n       <use xlink:href=\"#DejaVuSans-32\"/>\r\n       <use x=\"63.623047\" xlink:href=\"#DejaVuSans-30\"/>\r\n      </g>\r\n     </g>\r\n    </g>\r\n    <g id=\"xtick_3\">\r\n     <g id=\"line2d_3\">\r\n      <g>\r\n       <use style=\"stroke:#000000;stroke-width:0.8;\" x=\"497.110253\" xlink:href=\"#m73080c505b\" y=\"279\"/>\r\n      </g>\r\n     </g>\r\n     <g id=\"text_3\">\r\n      <!-- 40 -->\r\n      <g transform=\"translate(490.747753 293.598437)scale(0.1 -0.1)\">\r\n       <defs>\r\n        <path d=\"M 2419 4116 \r\nL 825 1625 \r\nL 2419 1625 \r\nL 2419 4116 \r\nz\r\nM 2253 4666 \r\nL 3047 4666 \r\nL 3047 1625 \r\nL 3713 1625 \r\nL 3713 1100 \r\nL 3047 1100 \r\nL 3047 0 \r\nL 2419 0 \r\nL 2419 1100 \r\nL 313 1100 \r\nL 313 1709 \r\nL 2253 4666 \r\nz\r\n\" id=\"DejaVuSans-34\" transform=\"scale(0.015625)\"/>\r\n       </defs>\r\n       <use xlink:href=\"#DejaVuSans-34\"/>\r\n       <use x=\"63.623047\" xlink:href=\"#DejaVuSans-30\"/>\r\n      </g>\r\n     </g>\r\n    </g>\r\n    <g id=\"xtick_4\">\r\n     <g id=\"line2d_4\">\r\n      <g>\r\n       <use style=\"stroke:#000000;stroke-width:0.8;\" x=\"702.068931\" xlink:href=\"#m73080c505b\" y=\"279\"/>\r\n      </g>\r\n     </g>\r\n     <g id=\"text_4\">\r\n      <!-- 60 -->\r\n      <g transform=\"translate(695.706431 293.598437)scale(0.1 -0.1)\">\r\n       <defs>\r\n        <path d=\"M 2113 2584 \r\nQ 1688 2584 1439 2293 \r\nQ 1191 2003 1191 1497 \r\nQ 1191 994 1439 701 \r\nQ 1688 409 2113 409 \r\nQ 2538 409 2786 701 \r\nQ 3034 994 3034 1497 \r\nQ 3034 2003 2786 2293 \r\nQ 2538 2584 2113 2584 \r\nz\r\nM 3366 4563 \r\nL 3366 3988 \r\nQ 3128 4100 2886 4159 \r\nQ 2644 4219 2406 4219 \r\nQ 1781 4219 1451 3797 \r\nQ 1122 3375 1075 2522 \r\nQ 1259 2794 1537 2939 \r\nQ 1816 3084 2150 3084 \r\nQ 2853 3084 3261 2657 \r\nQ 3669 2231 3669 1497 \r\nQ 3669 778 3244 343 \r\nQ 2819 -91 2113 -91 \r\nQ 1303 -91 875 529 \r\nQ 447 1150 447 2328 \r\nQ 447 3434 972 4092 \r\nQ 1497 4750 2381 4750 \r\nQ 2619 4750 2861 4703 \r\nQ 3103 4656 3366 4563 \r\nz\r\n\" id=\"DejaVuSans-36\" transform=\"scale(0.015625)\"/>\r\n       </defs>\r\n       <use xlink:href=\"#DejaVuSans-36\"/>\r\n       <use x=\"63.623047\" xlink:href=\"#DejaVuSans-30\"/>\r\n      </g>\r\n     </g>\r\n    </g>\r\n    <g id=\"xtick_5\">\r\n     <g id=\"line2d_5\">\r\n      <g>\r\n       <use style=\"stroke:#000000;stroke-width:0.8;\" x=\"907.027608\" xlink:href=\"#m73080c505b\" y=\"279\"/>\r\n      </g>\r\n     </g>\r\n     <g id=\"text_5\">\r\n      <!-- 80 -->\r\n      <g transform=\"translate(900.665108 293.598437)scale(0.1 -0.1)\">\r\n       <defs>\r\n        <path d=\"M 2034 2216 \r\nQ 1584 2216 1326 1975 \r\nQ 1069 1734 1069 1313 \r\nQ 1069 891 1326 650 \r\nQ 1584 409 2034 409 \r\nQ 2484 409 2743 651 \r\nQ 3003 894 3003 1313 \r\nQ 3003 1734 2745 1975 \r\nQ 2488 2216 2034 2216 \r\nz\r\nM 1403 2484 \r\nQ 997 2584 770 2862 \r\nQ 544 3141 544 3541 \r\nQ 544 4100 942 4425 \r\nQ 1341 4750 2034 4750 \r\nQ 2731 4750 3128 4425 \r\nQ 3525 4100 3525 3541 \r\nQ 3525 3141 3298 2862 \r\nQ 3072 2584 2669 2484 \r\nQ 3125 2378 3379 2068 \r\nQ 3634 1759 3634 1313 \r\nQ 3634 634 3220 271 \r\nQ 2806 -91 2034 -91 \r\nQ 1263 -91 848 271 \r\nQ 434 634 434 1313 \r\nQ 434 1759 690 2068 \r\nQ 947 2378 1403 2484 \r\nz\r\nM 1172 3481 \r\nQ 1172 3119 1398 2916 \r\nQ 1625 2713 2034 2713 \r\nQ 2441 2713 2670 2916 \r\nQ 2900 3119 2900 3481 \r\nQ 2900 3844 2670 4047 \r\nQ 2441 4250 2034 4250 \r\nQ 1625 4250 1398 4047 \r\nQ 1172 3844 1172 3481 \r\nz\r\n\" id=\"DejaVuSans-38\" transform=\"scale(0.015625)\"/>\r\n       </defs>\r\n       <use xlink:href=\"#DejaVuSans-38\"/>\r\n       <use x=\"63.623047\" xlink:href=\"#DejaVuSans-30\"/>\r\n      </g>\r\n     </g>\r\n    </g>\r\n    <g id=\"xtick_6\">\r\n     <g id=\"line2d_6\">\r\n      <g>\r\n       <use style=\"stroke:#000000;stroke-width:0.8;\" x=\"1111.986286\" xlink:href=\"#m73080c505b\" y=\"279\"/>\r\n      </g>\r\n     </g>\r\n     <g id=\"text_6\">\r\n      <!-- 100 -->\r\n      <g transform=\"translate(1102.442536 293.598437)scale(0.1 -0.1)\">\r\n       <defs>\r\n        <path d=\"M 794 531 \r\nL 1825 531 \r\nL 1825 4091 \r\nL 703 3866 \r\nL 703 4441 \r\nL 1819 4666 \r\nL 2450 4666 \r\nL 2450 531 \r\nL 3481 531 \r\nL 3481 0 \r\nL 794 0 \r\nL 794 531 \r\nz\r\n\" id=\"DejaVuSans-31\" transform=\"scale(0.015625)\"/>\r\n       </defs>\r\n       <use xlink:href=\"#DejaVuSans-31\"/>\r\n       <use x=\"63.623047\" xlink:href=\"#DejaVuSans-30\"/>\r\n       <use x=\"127.246094\" xlink:href=\"#DejaVuSans-30\"/>\r\n      </g>\r\n     </g>\r\n    </g>\r\n   </g>\r\n   <g id=\"matplotlib.axis_2\">\r\n    <g id=\"ytick_1\">\r\n     <g id=\"line2d_7\">\r\n      <defs>\r\n       <path d=\"M 0 0 \r\nL -3.5 0 \r\n\" id=\"md447dd63a4\" style=\"stroke:#000000;stroke-width:0.8;\"/>\r\n      </defs>\r\n      <g>\r\n       <use style=\"stroke:#000000;stroke-width:0.8;\" x=\"36.465625\" xlink:href=\"#md447dd63a4\" y=\"269.734064\"/>\r\n      </g>\r\n     </g>\r\n     <g id=\"text_7\">\r\n      <!-- 0.88 -->\r\n      <g transform=\"translate(7.2 273.533283)scale(0.1 -0.1)\">\r\n       <defs>\r\n        <path d=\"M 684 794 \r\nL 1344 794 \r\nL 1344 0 \r\nL 684 0 \r\nL 684 794 \r\nz\r\n\" id=\"DejaVuSans-2e\" transform=\"scale(0.015625)\"/>\r\n       </defs>\r\n       <use xlink:href=\"#DejaVuSans-30\"/>\r\n       <use x=\"63.623047\" xlink:href=\"#DejaVuSans-2e\"/>\r\n       <use x=\"95.410156\" xlink:href=\"#DejaVuSans-38\"/>\r\n       <use x=\"159.033203\" xlink:href=\"#DejaVuSans-38\"/>\r\n      </g>\r\n     </g>\r\n    </g>\r\n    <g id=\"ytick_2\">\r\n     <g id=\"line2d_8\">\r\n      <g>\r\n       <use style=\"stroke:#000000;stroke-width:0.8;\" x=\"36.465625\" xlink:href=\"#md447dd63a4\" y=\"228.037477\"/>\r\n      </g>\r\n     </g>\r\n     <g id=\"text_8\">\r\n      <!-- 0.90 -->\r\n      <g transform=\"translate(7.2 231.836696)scale(0.1 -0.1)\">\r\n       <defs>\r\n        <path d=\"M 703 97 \r\nL 703 672 \r\nQ 941 559 1184 500 \r\nQ 1428 441 1663 441 \r\nQ 2288 441 2617 861 \r\nQ 2947 1281 2994 2138 \r\nQ 2813 1869 2534 1725 \r\nQ 2256 1581 1919 1581 \r\nQ 1219 1581 811 2004 \r\nQ 403 2428 403 3163 \r\nQ 403 3881 828 4315 \r\nQ 1253 4750 1959 4750 \r\nQ 2769 4750 3195 4129 \r\nQ 3622 3509 3622 2328 \r\nQ 3622 1225 3098 567 \r\nQ 2575 -91 1691 -91 \r\nQ 1453 -91 1209 -44 \r\nQ 966 3 703 97 \r\nz\r\nM 1959 2075 \r\nQ 2384 2075 2632 2365 \r\nQ 2881 2656 2881 3163 \r\nQ 2881 3666 2632 3958 \r\nQ 2384 4250 1959 4250 \r\nQ 1534 4250 1286 3958 \r\nQ 1038 3666 1038 3163 \r\nQ 1038 2656 1286 2365 \r\nQ 1534 2075 1959 2075 \r\nz\r\n\" id=\"DejaVuSans-39\" transform=\"scale(0.015625)\"/>\r\n       </defs>\r\n       <use xlink:href=\"#DejaVuSans-30\"/>\r\n       <use x=\"63.623047\" xlink:href=\"#DejaVuSans-2e\"/>\r\n       <use x=\"95.410156\" xlink:href=\"#DejaVuSans-39\"/>\r\n       <use x=\"159.033203\" xlink:href=\"#DejaVuSans-30\"/>\r\n      </g>\r\n     </g>\r\n    </g>\r\n    <g id=\"ytick_3\">\r\n     <g id=\"line2d_9\">\r\n      <g>\r\n       <use style=\"stroke:#000000;stroke-width:0.8;\" x=\"36.465625\" xlink:href=\"#md447dd63a4\" y=\"186.340891\"/>\r\n      </g>\r\n     </g>\r\n     <g id=\"text_9\">\r\n      <!-- 0.92 -->\r\n      <g transform=\"translate(7.2 190.14011)scale(0.1 -0.1)\">\r\n       <use xlink:href=\"#DejaVuSans-30\"/>\r\n       <use x=\"63.623047\" xlink:href=\"#DejaVuSans-2e\"/>\r\n       <use x=\"95.410156\" xlink:href=\"#DejaVuSans-39\"/>\r\n       <use x=\"159.033203\" xlink:href=\"#DejaVuSans-32\"/>\r\n      </g>\r\n     </g>\r\n    </g>\r\n    <g id=\"ytick_4\">\r\n     <g id=\"line2d_10\">\r\n      <g>\r\n       <use style=\"stroke:#000000;stroke-width:0.8;\" x=\"36.465625\" xlink:href=\"#md447dd63a4\" y=\"144.644305\"/>\r\n      </g>\r\n     </g>\r\n     <g id=\"text_10\">\r\n      <!-- 0.94 -->\r\n      <g transform=\"translate(7.2 148.443523)scale(0.1 -0.1)\">\r\n       <use xlink:href=\"#DejaVuSans-30\"/>\r\n       <use x=\"63.623047\" xlink:href=\"#DejaVuSans-2e\"/>\r\n       <use x=\"95.410156\" xlink:href=\"#DejaVuSans-39\"/>\r\n       <use x=\"159.033203\" xlink:href=\"#DejaVuSans-34\"/>\r\n      </g>\r\n     </g>\r\n    </g>\r\n    <g id=\"ytick_5\">\r\n     <g id=\"line2d_11\">\r\n      <g>\r\n       <use style=\"stroke:#000000;stroke-width:0.8;\" x=\"36.465625\" xlink:href=\"#md447dd63a4\" y=\"102.947718\"/>\r\n      </g>\r\n     </g>\r\n     <g id=\"text_11\">\r\n      <!-- 0.96 -->\r\n      <g transform=\"translate(7.2 106.746937)scale(0.1 -0.1)\">\r\n       <use xlink:href=\"#DejaVuSans-30\"/>\r\n       <use x=\"63.623047\" xlink:href=\"#DejaVuSans-2e\"/>\r\n       <use x=\"95.410156\" xlink:href=\"#DejaVuSans-39\"/>\r\n       <use x=\"159.033203\" xlink:href=\"#DejaVuSans-36\"/>\r\n      </g>\r\n     </g>\r\n    </g>\r\n    <g id=\"ytick_6\">\r\n     <g id=\"line2d_12\">\r\n      <g>\r\n       <use style=\"stroke:#000000;stroke-width:0.8;\" x=\"36.465625\" xlink:href=\"#md447dd63a4\" y=\"61.251132\"/>\r\n      </g>\r\n     </g>\r\n     <g id=\"text_12\">\r\n      <!-- 0.98 -->\r\n      <g transform=\"translate(7.2 65.050351)scale(0.1 -0.1)\">\r\n       <use xlink:href=\"#DejaVuSans-30\"/>\r\n       <use x=\"63.623047\" xlink:href=\"#DejaVuSans-2e\"/>\r\n       <use x=\"95.410156\" xlink:href=\"#DejaVuSans-39\"/>\r\n       <use x=\"159.033203\" xlink:href=\"#DejaVuSans-38\"/>\r\n      </g>\r\n     </g>\r\n    </g>\r\n    <g id=\"ytick_7\">\r\n     <g id=\"line2d_13\">\r\n      <g>\r\n       <use style=\"stroke:#000000;stroke-width:0.8;\" x=\"36.465625\" xlink:href=\"#md447dd63a4\" y=\"19.554545\"/>\r\n      </g>\r\n     </g>\r\n     <g id=\"text_13\">\r\n      <!-- 1.00 -->\r\n      <g transform=\"translate(7.2 23.353764)scale(0.1 -0.1)\">\r\n       <use xlink:href=\"#DejaVuSans-31\"/>\r\n       <use x=\"63.623047\" xlink:href=\"#DejaVuSans-2e\"/>\r\n       <use x=\"95.410156\" xlink:href=\"#DejaVuSans-30\"/>\r\n       <use x=\"159.033203\" xlink:href=\"#DejaVuSans-30\"/>\r\n      </g>\r\n     </g>\r\n    </g>\r\n   </g>\r\n   <g id=\"line2d_14\">\r\n    <path clip-path=\"url(#p8c46d7adb0)\" d=\"M 87.192898 266.645455 \r\nL 97.440832 162.403964 \r\nL 107.688765 154.682353 \r\nL 117.936699 154.682353 \r\nL 128.184633 139.239133 \r\nL 138.432567 127.656841 \r\nL 148.680501 108.352816 \r\nL 158.928435 81.327304 \r\nL 169.176369 73.605693 \r\nL 179.424303 65.884083 \r\nL 189.672237 62.023278 \r\nL 199.92017 58.162473 \r\nL 210.168104 58.162473 \r\nL 220.416038 50.440862 \r\nL 230.663972 50.440862 \r\nL 240.911906 46.580057 \r\nL 251.15984 34.997766 \r\nL 261.407774 34.997766 \r\nL 271.655708 31.136961 \r\nL 281.903642 31.136961 \r\nL 292.151575 27.276156 \r\nL 302.399509 27.276156 \r\nL 312.647443 27.276156 \r\nL 322.895377 31.136961 \r\nL 333.143311 31.136961 \r\nL 343.391245 31.136961 \r\nL 353.639179 27.276156 \r\nL 363.887113 23.415351 \r\nL 374.135046 23.415351 \r\nL 384.38298 23.415351 \r\nL 394.630914 23.415351 \r\nL 404.878848 19.554545 \r\nL 415.126782 19.554545 \r\nL 425.374716 19.554545 \r\nL 435.62265 19.554545 \r\nL 445.870584 19.554545 \r\nL 456.118518 19.554545 \r\nL 466.366451 19.554545 \r\nL 476.614385 19.554545 \r\nL 486.862319 19.554545 \r\nL 497.110253 19.554545 \r\nL 507.358187 19.554545 \r\nL 517.606121 19.554545 \r\nL 527.854055 19.554545 \r\nL 538.101989 19.554545 \r\nL 548.349923 19.554545 \r\nL 558.597856 19.554545 \r\nL 568.84579 19.554545 \r\nL 579.093724 19.554545 \r\nL 589.341658 19.554545 \r\nL 599.589592 19.554545 \r\nL 609.837526 19.554545 \r\nL 620.08546 19.554545 \r\nL 630.333394 19.554545 \r\nL 640.581327 19.554545 \r\nL 650.829261 19.554545 \r\nL 661.077195 19.554545 \r\nL 671.325129 19.554545 \r\nL 681.573063 19.554545 \r\nL 691.820997 19.554545 \r\nL 702.068931 19.554545 \r\nL 712.316865 19.554545 \r\nL 722.564799 19.554545 \r\nL 732.812732 19.554545 \r\nL 743.060666 19.554545 \r\nL 753.3086 19.554545 \r\nL 763.556534 19.554545 \r\nL 773.804468 19.554545 \r\nL 784.052402 19.554545 \r\nL 794.300336 19.554545 \r\nL 804.54827 19.554545 \r\nL 814.796204 19.554545 \r\nL 825.044137 19.554545 \r\nL 835.292071 19.554545 \r\nL 845.540005 19.554545 \r\nL 855.787939 19.554545 \r\nL 866.035873 19.554545 \r\nL 876.283807 19.554545 \r\nL 886.531741 19.554545 \r\nL 896.779675 19.554545 \r\nL 907.027608 19.554545 \r\nL 917.275542 19.554545 \r\nL 927.523476 19.554545 \r\nL 937.77141 19.554545 \r\nL 948.019344 19.554545 \r\nL 958.267278 19.554545 \r\nL 968.515212 19.554545 \r\nL 978.763146 19.554545 \r\nL 989.01108 19.554545 \r\nL 999.259013 19.554545 \r\nL 1009.506947 19.554545 \r\nL 1019.754881 19.554545 \r\nL 1030.002815 19.554545 \r\nL 1040.250749 19.554545 \r\nL 1050.498683 19.554545 \r\nL 1060.746617 19.554545 \r\nL 1070.994551 19.554545 \r\nL 1081.242485 19.554545 \r\nL 1091.490418 19.554545 \r\nL 1101.738352 19.554545 \r\n\" style=\"fill:none;stroke:#1f77b4;stroke-linecap:square;stroke-width:1.5;\"/>\r\n   </g>\r\n   <g id=\"line2d_15\">\r\n    <path clip-path=\"url(#p8c46d7adb0)\" d=\"M 87.192898 157.775322 \r\nL 97.440832 146.256903 \r\nL 107.688765 146.256903 \r\nL 117.936699 134.738484 \r\nL 128.184633 123.220066 \r\nL 138.432567 100.183352 \r\nL 148.680501 100.183352 \r\nL 158.928435 65.628096 \r\nL 169.176369 65.628096 \r\nL 179.424303 65.628096 \r\nL 189.672237 65.628096 \r\nL 199.92017 65.628096 \r\nL 210.168104 65.628096 \r\nL 220.416038 65.628096 \r\nL 230.663972 77.146515 \r\nL 240.911906 65.628096 \r\nL 251.15984 77.146515 \r\nL 261.407774 77.146515 \r\nL 271.655708 77.146515 \r\nL 281.903642 77.146515 \r\nL 292.151575 77.146515 \r\nL 302.399509 77.146515 \r\nL 312.647443 77.146515 \r\nL 322.895377 77.146515 \r\nL 333.143311 77.146515 \r\nL 343.391245 77.146515 \r\nL 353.639179 77.146515 \r\nL 363.887113 77.146515 \r\nL 374.135046 77.146515 \r\nL 384.38298 77.146515 \r\nL 394.630914 77.146515 \r\nL 404.878848 77.146515 \r\nL 415.126782 77.146515 \r\nL 425.374716 77.146515 \r\nL 435.62265 77.146515 \r\nL 445.870584 77.146515 \r\nL 456.118518 77.146515 \r\nL 466.366451 77.146515 \r\nL 476.614385 77.146515 \r\nL 486.862319 77.146515 \r\nL 497.110253 77.146515 \r\nL 507.358187 77.146515 \r\nL 517.606121 77.146515 \r\nL 527.854055 77.146515 \r\nL 538.101989 77.146515 \r\nL 548.349923 77.146515 \r\nL 558.597856 77.146515 \r\nL 568.84579 77.146515 \r\nL 579.093724 77.146515 \r\nL 589.341658 77.146515 \r\nL 599.589592 77.146515 \r\nL 609.837526 77.146515 \r\nL 620.08546 77.146515 \r\nL 630.333394 77.146515 \r\nL 640.581327 77.146515 \r\nL 650.829261 77.146515 \r\nL 661.077195 77.146515 \r\nL 671.325129 77.146515 \r\nL 681.573063 77.146515 \r\nL 691.820997 77.146515 \r\nL 702.068931 77.146515 \r\nL 712.316865 77.146515 \r\nL 722.564799 77.146515 \r\nL 732.812732 77.146515 \r\nL 743.060666 77.146515 \r\nL 753.3086 77.146515 \r\nL 763.556534 77.146515 \r\nL 773.804468 77.146515 \r\nL 784.052402 77.146515 \r\nL 794.300336 77.146515 \r\nL 804.54827 77.146515 \r\nL 814.796204 77.146515 \r\nL 825.044137 77.146515 \r\nL 835.292071 77.146515 \r\nL 845.540005 77.146515 \r\nL 855.787939 77.146515 \r\nL 866.035873 77.146515 \r\nL 876.283807 77.146515 \r\nL 886.531741 77.146515 \r\nL 896.779675 77.146515 \r\nL 907.027608 77.146515 \r\nL 917.275542 77.146515 \r\nL 927.523476 77.146515 \r\nL 937.77141 77.146515 \r\nL 948.019344 77.146515 \r\nL 958.267278 77.146515 \r\nL 968.515212 77.146515 \r\nL 978.763146 77.146515 \r\nL 989.01108 77.146515 \r\nL 999.259013 77.146515 \r\nL 1009.506947 77.146515 \r\nL 1019.754881 77.146515 \r\nL 1030.002815 77.146515 \r\nL 1040.250749 77.146515 \r\nL 1050.498683 77.146515 \r\nL 1060.746617 77.146515 \r\nL 1070.994551 77.146515 \r\nL 1081.242485 77.146515 \r\nL 1091.490418 77.146515 \r\nL 1101.738352 77.146515 \r\n\" style=\"fill:none;stroke:#ff7f0e;stroke-linecap:square;stroke-width:1.5;\"/>\r\n   </g>\r\n   <g id=\"patch_3\">\r\n    <path d=\"M 36.465625 279 \r\nL 36.465625 7.2 \r\n\" style=\"fill:none;stroke:#000000;stroke-linecap:square;stroke-linejoin:miter;stroke-width:0.8;\"/>\r\n   </g>\r\n   <g id=\"patch_4\">\r\n    <path d=\"M 1152.465625 279 \r\nL 1152.465625 7.2 \r\n\" style=\"fill:none;stroke:#000000;stroke-linecap:square;stroke-linejoin:miter;stroke-width:0.8;\"/>\r\n   </g>\r\n   <g id=\"patch_5\">\r\n    <path d=\"M 36.465625 279 \r\nL 1152.465625 279 \r\n\" style=\"fill:none;stroke:#000000;stroke-linecap:square;stroke-linejoin:miter;stroke-width:0.8;\"/>\r\n   </g>\r\n   <g id=\"patch_6\">\r\n    <path d=\"M 36.465625 7.2 \r\nL 1152.465625 7.2 \r\n\" style=\"fill:none;stroke:#000000;stroke-linecap:square;stroke-linejoin:miter;stroke-width:0.8;\"/>\r\n   </g>\r\n  </g>\r\n </g>\r\n <defs>\r\n  <clipPath id=\"p8c46d7adb0\">\r\n   <rect height=\"271.8\" width=\"1116\" x=\"36.465625\" y=\"7.2\"/>\r\n  </clipPath>\r\n </defs>\r\n</svg>\r\n",
      "image/png": "[encoded data removed]"
     },
     "metadata": {
      "needs_background": "light"
     }
    }
   ],
   "source": [
    "plt.figure(figsize=(20,5))\n",
    "plt.plot(history.history['accuracy'],label='train accuracy')\n",
    "plt.plot(history.history['val_accuracy'],label='test accuracy')\n",
    "plt.show()"
   ]
  },
  {
   "cell_type": "code",
   "execution_count": 62,
   "metadata": {},
   "outputs": [
    {
     "output_type": "display_data",
     "data": {
      "text/plain": "<Figure size 1080x360 with 1 Axes>",
      "image/svg+xml": "<?xml version=\"1.0\" encoding=\"utf-8\" standalone=\"no\"?>\r\n<!DOCTYPE svg PUBLIC \"-//W3C//DTD SVG 1.1//EN\"\r\n  \"http://www.w3.org/Graphics/SVG/1.1/DTD/svg11.dtd\">\r\n<svg height=\"302.878125pt\" version=\"1.1\" viewBox=\"0 0 880.665625 302.878125\" width=\"880.665625pt\" xmlns=\"http://www.w3.org/2000/svg\" xmlns:xlink=\"http://www.w3.org/1999/xlink\">\r\n <metadata>\r\n  <rdf:RDF xmlns:cc=\"http://creativecommons.org/ns#\" xmlns:dc=\"http://purl.org/dc/elements/1.1/\" xmlns:rdf=\"http://www.w3.org/1999/02/22-rdf-syntax-ns#\">\r\n   <cc:Work>\r\n    <dc:type rdf:resource=\"http://purl.org/dc/dcmitype/StillImage\"/>\r\n    <dc:date>2021-05-09T15:22:31.357104</dc:date>\r\n    <dc:format>image/svg+xml</dc:format>\r\n    <dc:creator>\r\n     <cc:Agent>\r\n      <dc:title>Matplotlib v3.4.1, https://matplotlib.org/</dc:title>\r\n     </cc:Agent>\r\n    </dc:creator>\r\n   </cc:Work>\r\n  </rdf:RDF>\r\n </metadata>\r\n <defs>\r\n  <style type=\"text/css\">*{stroke-linecap:butt;stroke-linejoin:round;}</style>\r\n </defs>\r\n <g id=\"figure_1\">\r\n  <g id=\"patch_1\">\r\n   <path d=\"M 0 302.878125 \r\nL 880.665625 302.878125 \r\nL 880.665625 0 \r\nL 0 0 \r\nz\r\n\" style=\"fill:none;\"/>\r\n  </g>\r\n  <g id=\"axes_1\">\r\n   <g id=\"patch_2\">\r\n    <path d=\"M 36.465625 279 \r\nL 873.465625 279 \r\nL 873.465625 7.2 \r\nL 36.465625 7.2 \r\nz\r\n\" style=\"fill:#ffffff;\"/>\r\n   </g>\r\n   <g id=\"matplotlib.axis_1\">\r\n    <g id=\"xtick_1\">\r\n     <g id=\"line2d_1\">\r\n      <defs>\r\n       <path d=\"M 0 0 \r\nL 0 3.5 \r\n\" id=\"mbc0c9a7b24\" style=\"stroke:#000000;stroke-width:0.8;\"/>\r\n      </defs>\r\n      <g>\r\n       <use style=\"stroke:#000000;stroke-width:0.8;\" x=\"74.51108\" xlink:href=\"#mbc0c9a7b24\" y=\"279\"/>\r\n      </g>\r\n     </g>\r\n     <g id=\"text_1\">\r\n      <!-- 0 -->\r\n      <g transform=\"translate(71.32983 293.598437)scale(0.1 -0.1)\">\r\n       <defs>\r\n        <path d=\"M 2034 4250 \r\nQ 1547 4250 1301 3770 \r\nQ 1056 3291 1056 2328 \r\nQ 1056 1369 1301 889 \r\nQ 1547 409 2034 409 \r\nQ 2525 409 2770 889 \r\nQ 3016 1369 3016 2328 \r\nQ 3016 3291 2770 3770 \r\nQ 2525 4250 2034 4250 \r\nz\r\nM 2034 4750 \r\nQ 2819 4750 3233 4129 \r\nQ 3647 3509 3647 2328 \r\nQ 3647 1150 3233 529 \r\nQ 2819 -91 2034 -91 \r\nQ 1250 -91 836 529 \r\nQ 422 1150 422 2328 \r\nQ 422 3509 836 4129 \r\nQ 1250 4750 2034 4750 \r\nz\r\n\" id=\"DejaVuSans-30\" transform=\"scale(0.015625)\"/>\r\n       </defs>\r\n       <use xlink:href=\"#DejaVuSans-30\"/>\r\n      </g>\r\n     </g>\r\n    </g>\r\n    <g id=\"xtick_2\">\r\n     <g id=\"line2d_2\">\r\n      <g>\r\n       <use style=\"stroke:#000000;stroke-width:0.8;\" x=\"228.230088\" xlink:href=\"#mbc0c9a7b24\" y=\"279\"/>\r\n      </g>\r\n     </g>\r\n     <g id=\"text_2\">\r\n      <!-- 20 -->\r\n      <g transform=\"translate(221.867588 293.598437)scale(0.1 -0.1)\">\r\n       <defs>\r\n        <path d=\"M 1228 531 \r\nL 3431 531 \r\nL 3431 0 \r\nL 469 0 \r\nL 469 531 \r\nQ 828 903 1448 1529 \r\nQ 2069 2156 2228 2338 \r\nQ 2531 2678 2651 2914 \r\nQ 2772 3150 2772 3378 \r\nQ 2772 3750 2511 3984 \r\nQ 2250 4219 1831 4219 \r\nQ 1534 4219 1204 4116 \r\nQ 875 4013 500 3803 \r\nL 500 4441 \r\nQ 881 4594 1212 4672 \r\nQ 1544 4750 1819 4750 \r\nQ 2544 4750 2975 4387 \r\nQ 3406 4025 3406 3419 \r\nQ 3406 3131 3298 2873 \r\nQ 3191 2616 2906 2266 \r\nQ 2828 2175 2409 1742 \r\nQ 1991 1309 1228 531 \r\nz\r\n\" id=\"DejaVuSans-32\" transform=\"scale(0.015625)\"/>\r\n       </defs>\r\n       <use xlink:href=\"#DejaVuSans-32\"/>\r\n       <use x=\"63.623047\" xlink:href=\"#DejaVuSans-30\"/>\r\n      </g>\r\n     </g>\r\n    </g>\r\n    <g id=\"xtick_3\">\r\n     <g id=\"line2d_3\">\r\n      <g>\r\n       <use style=\"stroke:#000000;stroke-width:0.8;\" x=\"381.949096\" xlink:href=\"#mbc0c9a7b24\" y=\"279\"/>\r\n      </g>\r\n     </g>\r\n     <g id=\"text_3\">\r\n      <!-- 40 -->\r\n      <g transform=\"translate(375.586596 293.598437)scale(0.1 -0.1)\">\r\n       <defs>\r\n        <path d=\"M 2419 4116 \r\nL 825 1625 \r\nL 2419 1625 \r\nL 2419 4116 \r\nz\r\nM 2253 4666 \r\nL 3047 4666 \r\nL 3047 1625 \r\nL 3713 1625 \r\nL 3713 1100 \r\nL 3047 1100 \r\nL 3047 0 \r\nL 2419 0 \r\nL 2419 1100 \r\nL 313 1100 \r\nL 313 1709 \r\nL 2253 4666 \r\nz\r\n\" id=\"DejaVuSans-34\" transform=\"scale(0.015625)\"/>\r\n       </defs>\r\n       <use xlink:href=\"#DejaVuSans-34\"/>\r\n       <use x=\"63.623047\" xlink:href=\"#DejaVuSans-30\"/>\r\n      </g>\r\n     </g>\r\n    </g>\r\n    <g id=\"xtick_4\">\r\n     <g id=\"line2d_4\">\r\n      <g>\r\n       <use style=\"stroke:#000000;stroke-width:0.8;\" x=\"535.668104\" xlink:href=\"#mbc0c9a7b24\" y=\"279\"/>\r\n      </g>\r\n     </g>\r\n     <g id=\"text_4\">\r\n      <!-- 60 -->\r\n      <g transform=\"translate(529.305604 293.598437)scale(0.1 -0.1)\">\r\n       <defs>\r\n        <path d=\"M 2113 2584 \r\nQ 1688 2584 1439 2293 \r\nQ 1191 2003 1191 1497 \r\nQ 1191 994 1439 701 \r\nQ 1688 409 2113 409 \r\nQ 2538 409 2786 701 \r\nQ 3034 994 3034 1497 \r\nQ 3034 2003 2786 2293 \r\nQ 2538 2584 2113 2584 \r\nz\r\nM 3366 4563 \r\nL 3366 3988 \r\nQ 3128 4100 2886 4159 \r\nQ 2644 4219 2406 4219 \r\nQ 1781 4219 1451 3797 \r\nQ 1122 3375 1075 2522 \r\nQ 1259 2794 1537 2939 \r\nQ 1816 3084 2150 3084 \r\nQ 2853 3084 3261 2657 \r\nQ 3669 2231 3669 1497 \r\nQ 3669 778 3244 343 \r\nQ 2819 -91 2113 -91 \r\nQ 1303 -91 875 529 \r\nQ 447 1150 447 2328 \r\nQ 447 3434 972 4092 \r\nQ 1497 4750 2381 4750 \r\nQ 2619 4750 2861 4703 \r\nQ 3103 4656 3366 4563 \r\nz\r\n\" id=\"DejaVuSans-36\" transform=\"scale(0.015625)\"/>\r\n       </defs>\r\n       <use xlink:href=\"#DejaVuSans-36\"/>\r\n       <use x=\"63.623047\" xlink:href=\"#DejaVuSans-30\"/>\r\n      </g>\r\n     </g>\r\n    </g>\r\n    <g id=\"xtick_5\">\r\n     <g id=\"line2d_5\">\r\n      <g>\r\n       <use style=\"stroke:#000000;stroke-width:0.8;\" x=\"689.387113\" xlink:href=\"#mbc0c9a7b24\" y=\"279\"/>\r\n      </g>\r\n     </g>\r\n     <g id=\"text_5\">\r\n      <!-- 80 -->\r\n      <g transform=\"translate(683.024613 293.598437)scale(0.1 -0.1)\">\r\n       <defs>\r\n        <path d=\"M 2034 2216 \r\nQ 1584 2216 1326 1975 \r\nQ 1069 1734 1069 1313 \r\nQ 1069 891 1326 650 \r\nQ 1584 409 2034 409 \r\nQ 2484 409 2743 651 \r\nQ 3003 894 3003 1313 \r\nQ 3003 1734 2745 1975 \r\nQ 2488 2216 2034 2216 \r\nz\r\nM 1403 2484 \r\nQ 997 2584 770 2862 \r\nQ 544 3141 544 3541 \r\nQ 544 4100 942 4425 \r\nQ 1341 4750 2034 4750 \r\nQ 2731 4750 3128 4425 \r\nQ 3525 4100 3525 3541 \r\nQ 3525 3141 3298 2862 \r\nQ 3072 2584 2669 2484 \r\nQ 3125 2378 3379 2068 \r\nQ 3634 1759 3634 1313 \r\nQ 3634 634 3220 271 \r\nQ 2806 -91 2034 -91 \r\nQ 1263 -91 848 271 \r\nQ 434 634 434 1313 \r\nQ 434 1759 690 2068 \r\nQ 947 2378 1403 2484 \r\nz\r\nM 1172 3481 \r\nQ 1172 3119 1398 2916 \r\nQ 1625 2713 2034 2713 \r\nQ 2441 2713 2670 2916 \r\nQ 2900 3119 2900 3481 \r\nQ 2900 3844 2670 4047 \r\nQ 2441 4250 2034 4250 \r\nQ 1625 4250 1398 4047 \r\nQ 1172 3844 1172 3481 \r\nz\r\n\" id=\"DejaVuSans-38\" transform=\"scale(0.015625)\"/>\r\n       </defs>\r\n       <use xlink:href=\"#DejaVuSans-38\"/>\r\n       <use x=\"63.623047\" xlink:href=\"#DejaVuSans-30\"/>\r\n      </g>\r\n     </g>\r\n    </g>\r\n    <g id=\"xtick_6\">\r\n     <g id=\"line2d_6\">\r\n      <g>\r\n       <use style=\"stroke:#000000;stroke-width:0.8;\" x=\"843.106121\" xlink:href=\"#mbc0c9a7b24\" y=\"279\"/>\r\n      </g>\r\n     </g>\r\n     <g id=\"text_6\">\r\n      <!-- 100 -->\r\n      <g transform=\"translate(833.562371 293.598437)scale(0.1 -0.1)\">\r\n       <defs>\r\n        <path d=\"M 794 531 \r\nL 1825 531 \r\nL 1825 4091 \r\nL 703 3866 \r\nL 703 4441 \r\nL 1819 4666 \r\nL 2450 4666 \r\nL 2450 531 \r\nL 3481 531 \r\nL 3481 0 \r\nL 794 0 \r\nL 794 531 \r\nz\r\n\" id=\"DejaVuSans-31\" transform=\"scale(0.015625)\"/>\r\n       </defs>\r\n       <use xlink:href=\"#DejaVuSans-31\"/>\r\n       <use x=\"63.623047\" xlink:href=\"#DejaVuSans-30\"/>\r\n       <use x=\"127.246094\" xlink:href=\"#DejaVuSans-30\"/>\r\n      </g>\r\n     </g>\r\n    </g>\r\n   </g>\r\n   <g id=\"matplotlib.axis_2\">\r\n    <g id=\"ytick_1\">\r\n     <g id=\"line2d_7\">\r\n      <defs>\r\n       <path d=\"M 0 0 \r\nL -3.5 0 \r\n\" id=\"m9429ff60d6\" style=\"stroke:#000000;stroke-width:0.8;\"/>\r\n      </defs>\r\n      <g>\r\n       <use style=\"stroke:#000000;stroke-width:0.8;\" x=\"36.465625\" xlink:href=\"#m9429ff60d6\" y=\"273.122704\"/>\r\n      </g>\r\n     </g>\r\n     <g id=\"text_7\">\r\n      <!-- 0.00 -->\r\n      <g transform=\"translate(7.2 276.921922)scale(0.1 -0.1)\">\r\n       <defs>\r\n        <path d=\"M 684 794 \r\nL 1344 794 \r\nL 1344 0 \r\nL 684 0 \r\nL 684 794 \r\nz\r\n\" id=\"DejaVuSans-2e\" transform=\"scale(0.015625)\"/>\r\n       </defs>\r\n       <use xlink:href=\"#DejaVuSans-30\"/>\r\n       <use x=\"63.623047\" xlink:href=\"#DejaVuSans-2e\"/>\r\n       <use x=\"95.410156\" xlink:href=\"#DejaVuSans-30\"/>\r\n       <use x=\"159.033203\" xlink:href=\"#DejaVuSans-30\"/>\r\n      </g>\r\n     </g>\r\n    </g>\r\n    <g id=\"ytick_2\">\r\n     <g id=\"line2d_8\">\r\n      <g>\r\n       <use style=\"stroke:#000000;stroke-width:0.8;\" x=\"36.465625\" xlink:href=\"#m9429ff60d6\" y=\"241.745937\"/>\r\n      </g>\r\n     </g>\r\n     <g id=\"text_8\">\r\n      <!-- 0.05 -->\r\n      <g transform=\"translate(7.2 245.545156)scale(0.1 -0.1)\">\r\n       <defs>\r\n        <path d=\"M 691 4666 \r\nL 3169 4666 \r\nL 3169 4134 \r\nL 1269 4134 \r\nL 1269 2991 \r\nQ 1406 3038 1543 3061 \r\nQ 1681 3084 1819 3084 \r\nQ 2600 3084 3056 2656 \r\nQ 3513 2228 3513 1497 \r\nQ 3513 744 3044 326 \r\nQ 2575 -91 1722 -91 \r\nQ 1428 -91 1123 -41 \r\nQ 819 9 494 109 \r\nL 494 744 \r\nQ 775 591 1075 516 \r\nQ 1375 441 1709 441 \r\nQ 2250 441 2565 725 \r\nQ 2881 1009 2881 1497 \r\nQ 2881 1984 2565 2268 \r\nQ 2250 2553 1709 2553 \r\nQ 1456 2553 1204 2497 \r\nQ 953 2441 691 2322 \r\nL 691 4666 \r\nz\r\n\" id=\"DejaVuSans-35\" transform=\"scale(0.015625)\"/>\r\n       </defs>\r\n       <use xlink:href=\"#DejaVuSans-30\"/>\r\n       <use x=\"63.623047\" xlink:href=\"#DejaVuSans-2e\"/>\r\n       <use x=\"95.410156\" xlink:href=\"#DejaVuSans-30\"/>\r\n       <use x=\"159.033203\" xlink:href=\"#DejaVuSans-35\"/>\r\n      </g>\r\n     </g>\r\n    </g>\r\n    <g id=\"ytick_3\">\r\n     <g id=\"line2d_9\">\r\n      <g>\r\n       <use style=\"stroke:#000000;stroke-width:0.8;\" x=\"36.465625\" xlink:href=\"#m9429ff60d6\" y=\"210.36917\"/>\r\n      </g>\r\n     </g>\r\n     <g id=\"text_9\">\r\n      <!-- 0.10 -->\r\n      <g transform=\"translate(7.2 214.168389)scale(0.1 -0.1)\">\r\n       <use xlink:href=\"#DejaVuSans-30\"/>\r\n       <use x=\"63.623047\" xlink:href=\"#DejaVuSans-2e\"/>\r\n       <use x=\"95.410156\" xlink:href=\"#DejaVuSans-31\"/>\r\n       <use x=\"159.033203\" xlink:href=\"#DejaVuSans-30\"/>\r\n      </g>\r\n     </g>\r\n    </g>\r\n    <g id=\"ytick_4\">\r\n     <g id=\"line2d_10\">\r\n      <g>\r\n       <use style=\"stroke:#000000;stroke-width:0.8;\" x=\"36.465625\" xlink:href=\"#m9429ff60d6\" y=\"178.992404\"/>\r\n      </g>\r\n     </g>\r\n     <g id=\"text_10\">\r\n      <!-- 0.15 -->\r\n      <g transform=\"translate(7.2 182.791622)scale(0.1 -0.1)\">\r\n       <use xlink:href=\"#DejaVuSans-30\"/>\r\n       <use x=\"63.623047\" xlink:href=\"#DejaVuSans-2e\"/>\r\n       <use x=\"95.410156\" xlink:href=\"#DejaVuSans-31\"/>\r\n       <use x=\"159.033203\" xlink:href=\"#DejaVuSans-35\"/>\r\n      </g>\r\n     </g>\r\n    </g>\r\n    <g id=\"ytick_5\">\r\n     <g id=\"line2d_11\">\r\n      <g>\r\n       <use style=\"stroke:#000000;stroke-width:0.8;\" x=\"36.465625\" xlink:href=\"#m9429ff60d6\" y=\"147.615637\"/>\r\n      </g>\r\n     </g>\r\n     <g id=\"text_11\">\r\n      <!-- 0.20 -->\r\n      <g transform=\"translate(7.2 151.414856)scale(0.1 -0.1)\">\r\n       <use xlink:href=\"#DejaVuSans-30\"/>\r\n       <use x=\"63.623047\" xlink:href=\"#DejaVuSans-2e\"/>\r\n       <use x=\"95.410156\" xlink:href=\"#DejaVuSans-32\"/>\r\n       <use x=\"159.033203\" xlink:href=\"#DejaVuSans-30\"/>\r\n      </g>\r\n     </g>\r\n    </g>\r\n    <g id=\"ytick_6\">\r\n     <g id=\"line2d_12\">\r\n      <g>\r\n       <use style=\"stroke:#000000;stroke-width:0.8;\" x=\"36.465625\" xlink:href=\"#m9429ff60d6\" y=\"116.23887\"/>\r\n      </g>\r\n     </g>\r\n     <g id=\"text_12\">\r\n      <!-- 0.25 -->\r\n      <g transform=\"translate(7.2 120.038089)scale(0.1 -0.1)\">\r\n       <use xlink:href=\"#DejaVuSans-30\"/>\r\n       <use x=\"63.623047\" xlink:href=\"#DejaVuSans-2e\"/>\r\n       <use x=\"95.410156\" xlink:href=\"#DejaVuSans-32\"/>\r\n       <use x=\"159.033203\" xlink:href=\"#DejaVuSans-35\"/>\r\n      </g>\r\n     </g>\r\n    </g>\r\n    <g id=\"ytick_7\">\r\n     <g id=\"line2d_13\">\r\n      <g>\r\n       <use style=\"stroke:#000000;stroke-width:0.8;\" x=\"36.465625\" xlink:href=\"#m9429ff60d6\" y=\"84.862104\"/>\r\n      </g>\r\n     </g>\r\n     <g id=\"text_13\">\r\n      <!-- 0.30 -->\r\n      <g transform=\"translate(7.2 88.661323)scale(0.1 -0.1)\">\r\n       <defs>\r\n        <path d=\"M 2597 2516 \r\nQ 3050 2419 3304 2112 \r\nQ 3559 1806 3559 1356 \r\nQ 3559 666 3084 287 \r\nQ 2609 -91 1734 -91 \r\nQ 1441 -91 1130 -33 \r\nQ 819 25 488 141 \r\nL 488 750 \r\nQ 750 597 1062 519 \r\nQ 1375 441 1716 441 \r\nQ 2309 441 2620 675 \r\nQ 2931 909 2931 1356 \r\nQ 2931 1769 2642 2001 \r\nQ 2353 2234 1838 2234 \r\nL 1294 2234 \r\nL 1294 2753 \r\nL 1863 2753 \r\nQ 2328 2753 2575 2939 \r\nQ 2822 3125 2822 3475 \r\nQ 2822 3834 2567 4026 \r\nQ 2313 4219 1838 4219 \r\nQ 1578 4219 1281 4162 \r\nQ 984 4106 628 3988 \r\nL 628 4550 \r\nQ 988 4650 1302 4700 \r\nQ 1616 4750 1894 4750 \r\nQ 2613 4750 3031 4423 \r\nQ 3450 4097 3450 3541 \r\nQ 3450 3153 3228 2886 \r\nQ 3006 2619 2597 2516 \r\nz\r\n\" id=\"DejaVuSans-33\" transform=\"scale(0.015625)\"/>\r\n       </defs>\r\n       <use xlink:href=\"#DejaVuSans-30\"/>\r\n       <use x=\"63.623047\" xlink:href=\"#DejaVuSans-2e\"/>\r\n       <use x=\"95.410156\" xlink:href=\"#DejaVuSans-33\"/>\r\n       <use x=\"159.033203\" xlink:href=\"#DejaVuSans-30\"/>\r\n      </g>\r\n     </g>\r\n    </g>\r\n    <g id=\"ytick_8\">\r\n     <g id=\"line2d_14\">\r\n      <g>\r\n       <use style=\"stroke:#000000;stroke-width:0.8;\" x=\"36.465625\" xlink:href=\"#m9429ff60d6\" y=\"53.485337\"/>\r\n      </g>\r\n     </g>\r\n     <g id=\"text_14\">\r\n      <!-- 0.35 -->\r\n      <g transform=\"translate(7.2 57.284556)scale(0.1 -0.1)\">\r\n       <use xlink:href=\"#DejaVuSans-30\"/>\r\n       <use x=\"63.623047\" xlink:href=\"#DejaVuSans-2e\"/>\r\n       <use x=\"95.410156\" xlink:href=\"#DejaVuSans-33\"/>\r\n       <use x=\"159.033203\" xlink:href=\"#DejaVuSans-35\"/>\r\n      </g>\r\n     </g>\r\n    </g>\r\n    <g id=\"ytick_9\">\r\n     <g id=\"line2d_15\">\r\n      <g>\r\n       <use style=\"stroke:#000000;stroke-width:0.8;\" x=\"36.465625\" xlink:href=\"#m9429ff60d6\" y=\"22.108571\"/>\r\n      </g>\r\n     </g>\r\n     <g id=\"text_15\">\r\n      <!-- 0.40 -->\r\n      <g transform=\"translate(7.2 25.907789)scale(0.1 -0.1)\">\r\n       <use xlink:href=\"#DejaVuSans-30\"/>\r\n       <use x=\"63.623047\" xlink:href=\"#DejaVuSans-2e\"/>\r\n       <use x=\"95.410156\" xlink:href=\"#DejaVuSans-34\"/>\r\n       <use x=\"159.033203\" xlink:href=\"#DejaVuSans-30\"/>\r\n      </g>\r\n     </g>\r\n    </g>\r\n   </g>\r\n   <g id=\"line2d_16\">\r\n    <path clip-path=\"url(#p9a6a66a7bd)\" d=\"M 74.51108 19.554545 \r\nL 82.19703 116.921438 \r\nL 89.88298 144.81615 \r\nL 97.568931 163.484487 \r\nL 105.254881 177.63166 \r\nL 112.940832 188.635222 \r\nL 120.626782 197.67957 \r\nL 128.312732 204.911525 \r\nL 135.998683 211.09311 \r\nL 143.684633 216.120725 \r\nL 151.370584 220.408221 \r\nL 159.056534 224.216161 \r\nL 166.742485 227.51362 \r\nL 174.428435 230.382153 \r\nL 182.114385 232.891589 \r\nL 189.800336 235.126456 \r\nL 197.486286 237.162471 \r\nL 205.172237 239.020303 \r\nL 212.858187 240.646588 \r\nL 220.544137 242.077738 \r\nL 228.230088 243.458337 \r\nL 235.916038 244.676799 \r\nL 243.601989 245.829481 \r\nL 251.287939 246.852027 \r\nL 258.973889 247.841667 \r\nL 266.65984 248.723904 \r\nL 274.34579 249.539485 \r\nL 282.031741 250.340377 \r\nL 289.717691 251.03558 \r\nL 297.403642 251.729362 \r\nL 305.089592 252.379673 \r\nL 312.775542 252.966829 \r\nL 320.461493 253.549178 \r\nL 328.147443 254.049798 \r\nL 335.833394 254.580393 \r\nL 343.519344 255.074883 \r\nL 351.205294 255.552459 \r\nL 358.891245 255.995322 \r\nL 366.577195 256.406496 \r\nL 374.263146 256.791632 \r\nL 381.949096 257.174145 \r\nL 389.635046 257.552368 \r\nL 397.320997 257.868473 \r\nL 405.006947 258.216774 \r\nL 412.692898 258.535038 \r\nL 420.378848 258.822992 \r\nL 428.064799 259.133377 \r\nL 435.750749 259.411738 \r\nL 443.436699 259.681262 \r\nL 451.12265 259.947556 \r\nL 458.8086 260.20092 \r\nL 466.494551 260.427821 \r\nL 474.180501 260.66116 \r\nL 481.866451 260.905322 \r\nL 489.552402 261.116592 \r\nL 497.238352 261.323148 \r\nL 504.924303 261.527028 \r\nL 512.610253 261.735349 \r\nL 520.296204 261.916701 \r\nL 527.982154 262.111509 \r\nL 535.668104 262.28969 \r\nL 543.354055 262.476528 \r\nL 551.040005 262.630975 \r\nL 558.725956 262.807258 \r\nL 566.411906 262.962495 \r\nL 574.097856 263.111921 \r\nL 581.783807 263.262154 \r\nL 589.469757 263.417023 \r\nL 597.155708 263.560806 \r\nL 604.841658 263.694238 \r\nL 612.527608 263.829899 \r\nL 620.213559 263.966271 \r\nL 627.899509 264.097288 \r\nL 635.58546 264.219334 \r\nL 643.27141 264.346381 \r\nL 650.957361 264.465012 \r\nL 658.643311 264.575319 \r\nL 666.329261 264.70105 \r\nL 674.015212 264.807101 \r\nL 681.701162 264.919337 \r\nL 689.387113 265.008467 \r\nL 697.073063 265.12821 \r\nL 704.759013 265.225835 \r\nL 712.444964 265.320183 \r\nL 720.130914 265.416569 \r\nL 727.816865 265.50674 \r\nL 735.502815 265.596314 \r\nL 743.188765 265.697717 \r\nL 750.874716 265.786175 \r\nL 758.560666 265.876364 \r\nL 766.246617 265.957043 \r\nL 773.932567 266.031503 \r\nL 781.618518 266.109873 \r\nL 789.304468 266.19607 \r\nL 796.990418 266.278443 \r\nL 804.676369 266.351068 \r\nL 812.362319 266.427572 \r\nL 820.04827 266.499896 \r\nL 827.73422 266.569894 \r\nL 835.42017 266.645455 \r\n\" style=\"fill:none;stroke:#1f77b4;stroke-linecap:square;stroke-width:1.5;\"/>\r\n   </g>\r\n   <g id=\"line2d_17\">\r\n    <path clip-path=\"url(#p9a6a66a7bd)\" d=\"M 74.51108 97.895078 \r\nL 82.19703 138.031491 \r\nL 89.88298 157.420585 \r\nL 97.568931 171.757452 \r\nL 105.254881 182.235431 \r\nL 112.940832 190.466121 \r\nL 120.626782 197.286529 \r\nL 128.312732 202.828037 \r\nL 135.998683 207.346013 \r\nL 143.684633 211.235895 \r\nL 151.370584 214.567658 \r\nL 159.056534 217.350087 \r\nL 166.742485 219.886505 \r\nL 174.428435 222.13164 \r\nL 182.114385 224.041134 \r\nL 189.800336 225.687462 \r\nL 197.486286 227.223271 \r\nL 205.172237 228.608188 \r\nL 212.858187 229.862817 \r\nL 220.544137 230.979869 \r\nL 228.230088 232.023867 \r\nL 235.916038 232.940785 \r\nL 243.601989 233.768405 \r\nL 251.287939 234.543425 \r\nL 258.973889 235.247843 \r\nL 266.65984 235.909511 \r\nL 274.34579 236.505678 \r\nL 282.031741 237.065188 \r\nL 289.717691 237.56899 \r\nL 297.403642 238.049241 \r\nL 305.089592 238.495174 \r\nL 312.775542 238.90458 \r\nL 320.461493 239.291157 \r\nL 328.147443 239.646629 \r\nL 335.833394 239.976406 \r\nL 343.519344 240.290586 \r\nL 351.205294 240.577168 \r\nL 358.891245 240.848254 \r\nL 366.577195 241.102683 \r\nL 374.263146 241.344086 \r\nL 381.949096 241.566512 \r\nL 389.635046 241.775974 \r\nL 397.320997 241.970866 \r\nL 405.006947 242.158152 \r\nL 412.692898 242.33083 \r\nL 420.378848 242.497138 \r\nL 428.064799 242.653529 \r\nL 435.750749 242.801333 \r\nL 443.436699 242.936441 \r\nL 451.12265 243.066859 \r\nL 458.8086 243.187221 \r\nL 466.494551 243.303204 \r\nL 474.180501 243.409845 \r\nL 481.866451 243.509092 \r\nL 489.552402 243.602882 \r\nL 497.238352 243.682378 \r\nL 504.924303 243.768877 \r\nL 512.610253 243.850408 \r\nL 520.296204 243.924889 \r\nL 527.982154 243.994577 \r\nL 535.668104 244.062307 \r\nL 543.354055 244.127355 \r\nL 551.040005 244.189808 \r\nL 558.725956 244.247576 \r\nL 566.411906 244.302211 \r\nL 574.097856 244.35162 \r\nL 581.783807 244.404813 \r\nL 589.469757 244.446804 \r\nL 597.155708 244.485692 \r\nL 604.841658 244.527325 \r\nL 612.527608 244.568397 \r\nL 620.213559 244.607026 \r\nL 627.899509 244.637429 \r\nL 635.58546 244.668037 \r\nL 643.27141 244.690989 \r\nL 650.957361 244.713684 \r\nL 658.643311 244.735962 \r\nL 666.329261 244.760345 \r\nL 674.015212 244.783835 \r\nL 681.701162 244.805452 \r\nL 689.387113 244.82249 \r\nL 697.073063 244.83963 \r\nL 704.759013 244.84785 \r\nL 712.444964 244.868165 \r\nL 720.130914 244.876655 \r\nL 727.816865 244.893076 \r\nL 735.502815 244.908767 \r\nL 743.188765 244.907023 \r\nL 750.874716 244.914073 \r\nL 758.560666 244.917837 \r\nL 766.246617 244.9192 \r\nL 773.932567 244.924175 \r\nL 781.618518 244.926489 \r\nL 789.304468 244.93865 \r\nL 796.990418 244.940721 \r\nL 804.676369 244.93267 \r\nL 812.362319 244.930751 \r\nL 820.04827 244.920862 \r\nL 827.73422 244.921538 \r\nL 835.42017 244.930351 \r\n\" style=\"fill:none;stroke:#ff7f0e;stroke-linecap:square;stroke-width:1.5;\"/>\r\n   </g>\r\n   <g id=\"patch_3\">\r\n    <path d=\"M 36.465625 279 \r\nL 36.465625 7.2 \r\n\" style=\"fill:none;stroke:#000000;stroke-linecap:square;stroke-linejoin:miter;stroke-width:0.8;\"/>\r\n   </g>\r\n   <g id=\"patch_4\">\r\n    <path d=\"M 873.465625 279 \r\nL 873.465625 7.2 \r\n\" style=\"fill:none;stroke:#000000;stroke-linecap:square;stroke-linejoin:miter;stroke-width:0.8;\"/>\r\n   </g>\r\n   <g id=\"patch_5\">\r\n    <path d=\"M 36.465625 279 \r\nL 873.465625 279 \r\n\" style=\"fill:none;stroke:#000000;stroke-linecap:square;stroke-linejoin:miter;stroke-width:0.8;\"/>\r\n   </g>\r\n   <g id=\"patch_6\">\r\n    <path d=\"M 36.465625 7.2 \r\nL 873.465625 7.2 \r\n\" style=\"fill:none;stroke:#000000;stroke-linecap:square;stroke-linejoin:miter;stroke-width:0.8;\"/>\r\n   </g>\r\n  </g>\r\n </g>\r\n <defs>\r\n  <clipPath id=\"p9a6a66a7bd\">\r\n   <rect height=\"271.8\" width=\"837\" x=\"36.465625\" y=\"7.2\"/>\r\n  </clipPath>\r\n </defs>\r\n</svg>\r\n",
      "image/png": "[encoded data removed]"
     },
     "metadata": {
      "needs_background": "light"
     }
    }
   ],
   "source": [
    "plt.figure(figsize=(15,5))\n",
    "plt.plot(history.history['loss'],label='train loss')\n",
    "plt.plot(history.history['val_loss'],label='test loss')\n",
    "plt.show()"
   ]
  },
  {
   "cell_type": "code",
   "execution_count": 63,
   "metadata": {},
   "outputs": [],
   "source": [
    "model.save('../models/pokemon_islegendary_predictor_model.h5')"
   ]
  },
  {
   "cell_type": "code",
   "execution_count": 64,
   "metadata": {},
   "outputs": [],
   "source": [
    "inpf = X.loc[[721]]"
   ]
  },
  {
   "cell_type": "code",
   "execution_count": 65,
   "metadata": {},
   "outputs": [
    {
     "output_type": "execute_result",
     "data": {
      "text/plain": [
       "        Generation  HP  Attack  Defense  Sp_Atk  Sp_Def  Speed  Height_m  \\\n",
       "Number                                                                     \n",
       "721              6  80     110      120     130      90     70       1.7   \n",
       "\n",
       "        Weight_kg  Black  ...  Ghost  Grass  Ground  Ice  Normal  Poison  \\\n",
       "Number                    ...                                              \n",
       "721         195.0      0  ...      0      0       0    0       0       0   \n",
       "\n",
       "        Psychic  Rock  Steel  Water  \n",
       "Number                               \n",
       "721           0     0      0      1  \n",
       "\n",
       "[1 rows x 84 columns]"
      ],
      "text/html": "<div>\n<style scoped>\n    .dataframe tbody tr th:only-of-type {\n        vertical-align: middle;\n    }\n\n    .dataframe tbody tr th {\n        vertical-align: top;\n    }\n\n    .dataframe thead th {\n        text-align: right;\n    }\n</style>\n<table border=\"1\" class=\"dataframe\">\n  <thead>\n    <tr style=\"text-align: right;\">\n      <th></th>\n      <th>Generation</th>\n      <th>HP</th>\n      <th>Attack</th>\n      <th>Defense</th>\n      <th>Sp_Atk</th>\n      <th>Sp_Def</th>\n      <th>Speed</th>\n      <th>Height_m</th>\n      <th>Weight_kg</th>\n      <th>Black</th>\n      <th>...</th>\n      <th>Ghost</th>\n      <th>Grass</th>\n      <th>Ground</th>\n      <th>Ice</th>\n      <th>Normal</th>\n      <th>Poison</th>\n      <th>Psychic</th>\n      <th>Rock</th>\n      <th>Steel</th>\n      <th>Water</th>\n    </tr>\n    <tr>\n      <th>Number</th>\n      <th></th>\n      <th></th>\n      <th></th>\n      <th></th>\n      <th></th>\n      <th></th>\n      <th></th>\n      <th></th>\n      <th></th>\n      <th></th>\n      <th></th>\n      <th></th>\n      <th></th>\n      <th></th>\n      <th></th>\n      <th></th>\n      <th></th>\n      <th></th>\n      <th></th>\n      <th></th>\n      <th></th>\n    </tr>\n  </thead>\n  <tbody>\n    <tr>\n      <th>721</th>\n      <td>6</td>\n      <td>80</td>\n      <td>110</td>\n      <td>120</td>\n      <td>130</td>\n      <td>90</td>\n      <td>70</td>\n      <td>1.7</td>\n      <td>195.0</td>\n      <td>0</td>\n      <td>...</td>\n      <td>0</td>\n      <td>0</td>\n      <td>0</td>\n      <td>0</td>\n      <td>0</td>\n      <td>0</td>\n      <td>0</td>\n      <td>0</td>\n      <td>0</td>\n      <td>1</td>\n    </tr>\n  </tbody>\n</table>\n<p>1 rows × 84 columns</p>\n</div>"
     },
     "metadata": {},
     "execution_count": 65
    }
   ],
   "source": [
    "inpf"
   ]
  },
  {
   "cell_type": "code",
   "execution_count": 66,
   "metadata": {},
   "outputs": [],
   "source": [
    "inp = scaler.transform(inpf)"
   ]
  },
  {
   "cell_type": "code",
   "execution_count": 67,
   "metadata": {},
   "outputs": [],
   "source": [
    "out = model.predict(inp)"
   ]
  },
  {
   "cell_type": "code",
   "execution_count": 68,
   "metadata": {},
   "outputs": [
    {
     "output_type": "execute_result",
     "data": {
      "text/plain": [
       "1"
      ]
     },
     "metadata": {},
     "execution_count": 68
    }
   ],
   "source": [
    "np.argmax(out)"
   ]
  },
  {
   "cell_type": "code",
   "execution_count": 70,
   "metadata": {},
   "outputs": [
    {
     "output_type": "execute_result",
     "data": {
      "image/png": "[encoded data removed]",
      "text/plain": [
       "<IPython.core.display.Image object>"
      ]
     },
     "metadata": {},
     "execution_count": 70
    }
   ],
   "source": [
    "tf.keras.utils.plot_model(model,show_shapes=True,expand_nested=True)"
   ]
  },
  {
   "cell_type": "code",
   "execution_count": null,
   "metadata": {},
   "outputs": [],
   "source": []
  }
 ]
}